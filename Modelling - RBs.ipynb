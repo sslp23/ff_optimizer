{
 "cells": [
  {
   "cell_type": "code",
   "execution_count": 1,
   "id": "entitled-finger",
   "metadata": {},
   "outputs": [],
   "source": [
    "import pandas as pd\n",
    "import numpy as np\n",
    "from tqdm import tqdm\n",
    "pd.options.mode.chained_assignment = None  # default='warn'\n"
   ]
  },
  {
   "cell_type": "code",
   "execution_count": 2,
   "id": "forbidden-profession",
   "metadata": {},
   "outputs": [],
   "source": [
    "df = pd.read_csv(f\"processed data/rb_proc_data.csv\")"
   ]
  },
  {
   "cell_type": "code",
   "execution_count": 3,
   "id": "shared-deadline",
   "metadata": {},
   "outputs": [],
   "source": [
    "df = df[df[\"Rookie\"] == 0]"
   ]
  },
  {
   "cell_type": "code",
   "execution_count": null,
   "id": "leading-handy",
   "metadata": {},
   "outputs": [],
   "source": []
  },
  {
   "cell_type": "code",
   "execution_count": 4,
   "id": "solid-resort",
   "metadata": {},
   "outputs": [
    {
     "data": {
      "text/plain": [
       "2018    96\n",
       "2021    95\n",
       "2019    86\n",
       "2020    84\n",
       "2022    59\n",
       "Name: Season, dtype: int64"
      ]
     },
     "execution_count": 4,
     "metadata": {},
     "output_type": "execute_result"
    }
   ],
   "source": [
    "df.Season.value_counts()"
   ]
  },
  {
   "cell_type": "code",
   "execution_count": null,
   "id": "altered-license",
   "metadata": {},
   "outputs": [],
   "source": []
  },
  {
   "cell_type": "code",
   "execution_count": 5,
   "id": "premium-south",
   "metadata": {},
   "outputs": [
    {
     "name": "stderr",
     "output_type": "stream",
     "text": [
      "C:\\Users\\sergi\\AppData\\Local\\Temp\\ipykernel_39376\\3509869743.py:1: FutureWarning: The default value of numeric_only in DataFrame.corr is deprecated. In a future version, it will default to False. Select only valid columns or specify the value of numeric_only to silence this warning.\n",
      "  corrs = df.corr()\n"
     ]
    }
   ],
   "source": [
    "corrs = df.corr()"
   ]
  },
  {
   "cell_type": "code",
   "execution_count": 6,
   "id": "democratic-devices",
   "metadata": {},
   "outputs": [],
   "source": [
    "rel_cols = [\"Season\"]\n",
    "for i, vals in corrs[[\"FPTS_TG\"]].iterrows():\n",
    "    val = vals[\"FPTS_TG\"]\n",
    "    if (val > 0.17 or val < -0.17) and \"_ls\" not in i:\n",
    "        rel_cols.append(i)\n",
    "rel_cols.append(\"Career_Years\")"
   ]
  },
  {
   "cell_type": "code",
   "execution_count": 7,
   "id": "moved-public",
   "metadata": {},
   "outputs": [],
   "source": [
    "rel_df = df[rel_cols]"
   ]
  },
  {
   "cell_type": "code",
   "execution_count": 8,
   "id": "comfortable-stocks",
   "metadata": {},
   "outputs": [],
   "source": [
    "for col in rel_cols[2:]:\n",
    "    new_c = rel_df[col]/rel_df[\"AVG\"]\n",
    "    \n",
    "    new_name = col+\"_ADP\"\n",
    "    \n",
    "    rel_df[new_name] = new_c"
   ]
  },
  {
   "cell_type": "code",
   "execution_count": 9,
   "id": "detected-conservative",
   "metadata": {},
   "outputs": [],
   "source": [
    "corrs = rel_df.corr()"
   ]
  },
  {
   "cell_type": "code",
   "execution_count": 10,
   "id": "increased-container",
   "metadata": {},
   "outputs": [
    {
     "data": {
      "text/html": [
       "<div>\n",
       "<style scoped>\n",
       "    .dataframe tbody tr th:only-of-type {\n",
       "        vertical-align: middle;\n",
       "    }\n",
       "\n",
       "    .dataframe tbody tr th {\n",
       "        vertical-align: top;\n",
       "    }\n",
       "\n",
       "    .dataframe thead th {\n",
       "        text-align: right;\n",
       "    }\n",
       "</style>\n",
       "<table border=\"1\" class=\"dataframe\">\n",
       "  <thead>\n",
       "    <tr style=\"text-align: right;\">\n",
       "      <th></th>\n",
       "      <th>FPTS_TG</th>\n",
       "    </tr>\n",
       "  </thead>\n",
       "  <tbody>\n",
       "    <tr>\n",
       "      <th>Season</th>\n",
       "      <td>0.096831</td>\n",
       "    </tr>\n",
       "    <tr>\n",
       "      <th>AVG</th>\n",
       "      <td>-0.722483</td>\n",
       "    </tr>\n",
       "    <tr>\n",
       "      <th>FPTS_TG</th>\n",
       "      <td>1.000000</td>\n",
       "    </tr>\n",
       "    <tr>\n",
       "      <th>FPTS/G_MISC_avg</th>\n",
       "      <td>0.643941</td>\n",
       "    </tr>\n",
       "    <tr>\n",
       "      <th>ATT_RUSHING/G_avg</th>\n",
       "      <td>0.529244</td>\n",
       "    </tr>\n",
       "    <tr>\n",
       "      <th>YDS_RUSHING/G_avg</th>\n",
       "      <td>0.565597</td>\n",
       "    </tr>\n",
       "    <tr>\n",
       "      <th>TD_RUSHING/G_avg</th>\n",
       "      <td>0.547808</td>\n",
       "    </tr>\n",
       "    <tr>\n",
       "      <th>REC_RECEIVING/G_avg</th>\n",
       "      <td>0.475149</td>\n",
       "    </tr>\n",
       "    <tr>\n",
       "      <th>TGT_RECEIVING/G_avg</th>\n",
       "      <td>0.468800</td>\n",
       "    </tr>\n",
       "    <tr>\n",
       "      <th>YDS_RECEIVING/G_avg</th>\n",
       "      <td>0.486112</td>\n",
       "    </tr>\n",
       "    <tr>\n",
       "      <th>TD_RECEIVING/G_avg</th>\n",
       "      <td>0.400839</td>\n",
       "    </tr>\n",
       "    <tr>\n",
       "      <th>FL_MISC/G_avg</th>\n",
       "      <td>0.207248</td>\n",
       "    </tr>\n",
       "    <tr>\n",
       "      <th>YDS/ATT_RUSHING_avg</th>\n",
       "      <td>0.265743</td>\n",
       "    </tr>\n",
       "    <tr>\n",
       "      <th>FPTS/G_MISC_ewm</th>\n",
       "      <td>0.664918</td>\n",
       "    </tr>\n",
       "    <tr>\n",
       "      <th>ATT_RUSHING/G_ewm</th>\n",
       "      <td>0.549453</td>\n",
       "    </tr>\n",
       "    <tr>\n",
       "      <th>YDS_RUSHING/G_ewm</th>\n",
       "      <td>0.585681</td>\n",
       "    </tr>\n",
       "    <tr>\n",
       "      <th>TD_RUSHING/G_ewm</th>\n",
       "      <td>0.561245</td>\n",
       "    </tr>\n",
       "    <tr>\n",
       "      <th>REC_RECEIVING/G_ewm</th>\n",
       "      <td>0.490184</td>\n",
       "    </tr>\n",
       "    <tr>\n",
       "      <th>TGT_RECEIVING/G_ewm</th>\n",
       "      <td>0.482967</td>\n",
       "    </tr>\n",
       "    <tr>\n",
       "      <th>YDS_RECEIVING/G_ewm</th>\n",
       "      <td>0.499454</td>\n",
       "    </tr>\n",
       "    <tr>\n",
       "      <th>TD_RECEIVING/G_ewm</th>\n",
       "      <td>0.407301</td>\n",
       "    </tr>\n",
       "    <tr>\n",
       "      <th>FL_MISC/G_ewm</th>\n",
       "      <td>0.207982</td>\n",
       "    </tr>\n",
       "    <tr>\n",
       "      <th>YDS/ATT_RUSHING_ewm</th>\n",
       "      <td>0.262246</td>\n",
       "    </tr>\n",
       "    <tr>\n",
       "      <th>Career_Years</th>\n",
       "      <td>-0.039880</td>\n",
       "    </tr>\n",
       "    <tr>\n",
       "      <th>FPTS_TG_ADP</th>\n",
       "      <td>0.491536</td>\n",
       "    </tr>\n",
       "    <tr>\n",
       "      <th>FPTS/G_MISC_avg_ADP</th>\n",
       "      <td>0.423988</td>\n",
       "    </tr>\n",
       "    <tr>\n",
       "      <th>ATT_RUSHING/G_avg_ADP</th>\n",
       "      <td>0.440010</td>\n",
       "    </tr>\n",
       "    <tr>\n",
       "      <th>YDS_RUSHING/G_avg_ADP</th>\n",
       "      <td>0.430166</td>\n",
       "    </tr>\n",
       "    <tr>\n",
       "      <th>TD_RUSHING/G_avg_ADP</th>\n",
       "      <td>0.396152</td>\n",
       "    </tr>\n",
       "    <tr>\n",
       "      <th>REC_RECEIVING/G_avg_ADP</th>\n",
       "      <td>0.401490</td>\n",
       "    </tr>\n",
       "    <tr>\n",
       "      <th>TGT_RECEIVING/G_avg_ADP</th>\n",
       "      <td>0.405958</td>\n",
       "    </tr>\n",
       "    <tr>\n",
       "      <th>YDS_RECEIVING/G_avg_ADP</th>\n",
       "      <td>0.408426</td>\n",
       "    </tr>\n",
       "    <tr>\n",
       "      <th>TD_RECEIVING/G_avg_ADP</th>\n",
       "      <td>0.398589</td>\n",
       "    </tr>\n",
       "    <tr>\n",
       "      <th>FL_MISC/G_avg_ADP</th>\n",
       "      <td>0.387258</td>\n",
       "    </tr>\n",
       "    <tr>\n",
       "      <th>YDS/ATT_RUSHING_avg_ADP</th>\n",
       "      <td>0.457254</td>\n",
       "    </tr>\n",
       "    <tr>\n",
       "      <th>FPTS/G_MISC_ewm_ADP</th>\n",
       "      <td>0.424981</td>\n",
       "    </tr>\n",
       "    <tr>\n",
       "      <th>ATT_RUSHING/G_ewm_ADP</th>\n",
       "      <td>0.441445</td>\n",
       "    </tr>\n",
       "    <tr>\n",
       "      <th>YDS_RUSHING/G_ewm_ADP</th>\n",
       "      <td>0.432215</td>\n",
       "    </tr>\n",
       "    <tr>\n",
       "      <th>TD_RUSHING/G_ewm_ADP</th>\n",
       "      <td>0.391287</td>\n",
       "    </tr>\n",
       "    <tr>\n",
       "      <th>REC_RECEIVING/G_ewm_ADP</th>\n",
       "      <td>0.406730</td>\n",
       "    </tr>\n",
       "    <tr>\n",
       "      <th>TGT_RECEIVING/G_ewm_ADP</th>\n",
       "      <td>0.410919</td>\n",
       "    </tr>\n",
       "    <tr>\n",
       "      <th>YDS_RECEIVING/G_ewm_ADP</th>\n",
       "      <td>0.412085</td>\n",
       "    </tr>\n",
       "    <tr>\n",
       "      <th>TD_RECEIVING/G_ewm_ADP</th>\n",
       "      <td>0.404320</td>\n",
       "    </tr>\n",
       "    <tr>\n",
       "      <th>FL_MISC/G_ewm_ADP</th>\n",
       "      <td>0.361064</td>\n",
       "    </tr>\n",
       "    <tr>\n",
       "      <th>YDS/ATT_RUSHING_ewm_ADP</th>\n",
       "      <td>0.457933</td>\n",
       "    </tr>\n",
       "    <tr>\n",
       "      <th>Career_Years_ADP</th>\n",
       "      <td>0.461985</td>\n",
       "    </tr>\n",
       "  </tbody>\n",
       "</table>\n",
       "</div>"
      ],
      "text/plain": [
       "                          FPTS_TG\n",
       "Season                   0.096831\n",
       "AVG                     -0.722483\n",
       "FPTS_TG                  1.000000\n",
       "FPTS/G_MISC_avg          0.643941\n",
       "ATT_RUSHING/G_avg        0.529244\n",
       "YDS_RUSHING/G_avg        0.565597\n",
       "TD_RUSHING/G_avg         0.547808\n",
       "REC_RECEIVING/G_avg      0.475149\n",
       "TGT_RECEIVING/G_avg      0.468800\n",
       "YDS_RECEIVING/G_avg      0.486112\n",
       "TD_RECEIVING/G_avg       0.400839\n",
       "FL_MISC/G_avg            0.207248\n",
       "YDS/ATT_RUSHING_avg      0.265743\n",
       "FPTS/G_MISC_ewm          0.664918\n",
       "ATT_RUSHING/G_ewm        0.549453\n",
       "YDS_RUSHING/G_ewm        0.585681\n",
       "TD_RUSHING/G_ewm         0.561245\n",
       "REC_RECEIVING/G_ewm      0.490184\n",
       "TGT_RECEIVING/G_ewm      0.482967\n",
       "YDS_RECEIVING/G_ewm      0.499454\n",
       "TD_RECEIVING/G_ewm       0.407301\n",
       "FL_MISC/G_ewm            0.207982\n",
       "YDS/ATT_RUSHING_ewm      0.262246\n",
       "Career_Years            -0.039880\n",
       "FPTS_TG_ADP              0.491536\n",
       "FPTS/G_MISC_avg_ADP      0.423988\n",
       "ATT_RUSHING/G_avg_ADP    0.440010\n",
       "YDS_RUSHING/G_avg_ADP    0.430166\n",
       "TD_RUSHING/G_avg_ADP     0.396152\n",
       "REC_RECEIVING/G_avg_ADP  0.401490\n",
       "TGT_RECEIVING/G_avg_ADP  0.405958\n",
       "YDS_RECEIVING/G_avg_ADP  0.408426\n",
       "TD_RECEIVING/G_avg_ADP   0.398589\n",
       "FL_MISC/G_avg_ADP        0.387258\n",
       "YDS/ATT_RUSHING_avg_ADP  0.457254\n",
       "FPTS/G_MISC_ewm_ADP      0.424981\n",
       "ATT_RUSHING/G_ewm_ADP    0.441445\n",
       "YDS_RUSHING/G_ewm_ADP    0.432215\n",
       "TD_RUSHING/G_ewm_ADP     0.391287\n",
       "REC_RECEIVING/G_ewm_ADP  0.406730\n",
       "TGT_RECEIVING/G_ewm_ADP  0.410919\n",
       "YDS_RECEIVING/G_ewm_ADP  0.412085\n",
       "TD_RECEIVING/G_ewm_ADP   0.404320\n",
       "FL_MISC/G_ewm_ADP        0.361064\n",
       "YDS/ATT_RUSHING_ewm_ADP  0.457933\n",
       "Career_Years_ADP         0.461985"
      ]
     },
     "execution_count": 10,
     "metadata": {},
     "output_type": "execute_result"
    }
   ],
   "source": [
    "corrs[[\"FPTS_TG\"]]"
   ]
  },
  {
   "cell_type": "code",
   "execution_count": 11,
   "id": "contemporary-purpose",
   "metadata": {},
   "outputs": [],
   "source": [
    "rel_df = df[rel_cols]"
   ]
  },
  {
   "cell_type": "code",
   "execution_count": null,
   "id": "residential-rover",
   "metadata": {},
   "outputs": [],
   "source": []
  },
  {
   "cell_type": "code",
   "execution_count": 12,
   "id": "chubby-donor",
   "metadata": {},
   "outputs": [],
   "source": [
    "for col in rel_df.columns[2:]:\n",
    "    if \"FPTS\" not in col:\n",
    "        if \"_avg\" in col:\n",
    "            new_c = rel_df[\"FPTS/G_MISC_avg\"]*rel_df[col]\n",
    "        elif \"_ewm\" in col:\n",
    "            new_c = rel_df[\"FPTS/G_MISC_ewm\"]*rel_df[col]\n",
    "        \n",
    "        new_name = col+\"_FP\"\n",
    "\n",
    "        rel_df[new_name] = new_c"
   ]
  },
  {
   "cell_type": "code",
   "execution_count": 13,
   "id": "electoral-catalyst",
   "metadata": {},
   "outputs": [],
   "source": [
    "corrs = rel_df.corr()"
   ]
  },
  {
   "cell_type": "code",
   "execution_count": 14,
   "id": "permanent-yield",
   "metadata": {},
   "outputs": [
    {
     "data": {
      "text/html": [
       "<div>\n",
       "<style scoped>\n",
       "    .dataframe tbody tr th:only-of-type {\n",
       "        vertical-align: middle;\n",
       "    }\n",
       "\n",
       "    .dataframe tbody tr th {\n",
       "        vertical-align: top;\n",
       "    }\n",
       "\n",
       "    .dataframe thead th {\n",
       "        text-align: right;\n",
       "    }\n",
       "</style>\n",
       "<table border=\"1\" class=\"dataframe\">\n",
       "  <thead>\n",
       "    <tr style=\"text-align: right;\">\n",
       "      <th></th>\n",
       "      <th>FPTS_TG</th>\n",
       "    </tr>\n",
       "  </thead>\n",
       "  <tbody>\n",
       "    <tr>\n",
       "      <th>Season</th>\n",
       "      <td>0.096831</td>\n",
       "    </tr>\n",
       "    <tr>\n",
       "      <th>AVG</th>\n",
       "      <td>-0.722483</td>\n",
       "    </tr>\n",
       "    <tr>\n",
       "      <th>FPTS_TG</th>\n",
       "      <td>1.000000</td>\n",
       "    </tr>\n",
       "    <tr>\n",
       "      <th>FPTS/G_MISC_avg</th>\n",
       "      <td>0.643941</td>\n",
       "    </tr>\n",
       "    <tr>\n",
       "      <th>ATT_RUSHING/G_avg</th>\n",
       "      <td>0.529244</td>\n",
       "    </tr>\n",
       "    <tr>\n",
       "      <th>YDS_RUSHING/G_avg</th>\n",
       "      <td>0.565597</td>\n",
       "    </tr>\n",
       "    <tr>\n",
       "      <th>TD_RUSHING/G_avg</th>\n",
       "      <td>0.547808</td>\n",
       "    </tr>\n",
       "    <tr>\n",
       "      <th>REC_RECEIVING/G_avg</th>\n",
       "      <td>0.475149</td>\n",
       "    </tr>\n",
       "    <tr>\n",
       "      <th>TGT_RECEIVING/G_avg</th>\n",
       "      <td>0.468800</td>\n",
       "    </tr>\n",
       "    <tr>\n",
       "      <th>YDS_RECEIVING/G_avg</th>\n",
       "      <td>0.486112</td>\n",
       "    </tr>\n",
       "    <tr>\n",
       "      <th>TD_RECEIVING/G_avg</th>\n",
       "      <td>0.400839</td>\n",
       "    </tr>\n",
       "    <tr>\n",
       "      <th>FL_MISC/G_avg</th>\n",
       "      <td>0.207248</td>\n",
       "    </tr>\n",
       "    <tr>\n",
       "      <th>YDS/ATT_RUSHING_avg</th>\n",
       "      <td>0.265743</td>\n",
       "    </tr>\n",
       "    <tr>\n",
       "      <th>FPTS/G_MISC_ewm</th>\n",
       "      <td>0.664918</td>\n",
       "    </tr>\n",
       "    <tr>\n",
       "      <th>ATT_RUSHING/G_ewm</th>\n",
       "      <td>0.549453</td>\n",
       "    </tr>\n",
       "    <tr>\n",
       "      <th>YDS_RUSHING/G_ewm</th>\n",
       "      <td>0.585681</td>\n",
       "    </tr>\n",
       "    <tr>\n",
       "      <th>TD_RUSHING/G_ewm</th>\n",
       "      <td>0.561245</td>\n",
       "    </tr>\n",
       "    <tr>\n",
       "      <th>REC_RECEIVING/G_ewm</th>\n",
       "      <td>0.490184</td>\n",
       "    </tr>\n",
       "    <tr>\n",
       "      <th>TGT_RECEIVING/G_ewm</th>\n",
       "      <td>0.482967</td>\n",
       "    </tr>\n",
       "    <tr>\n",
       "      <th>YDS_RECEIVING/G_ewm</th>\n",
       "      <td>0.499454</td>\n",
       "    </tr>\n",
       "    <tr>\n",
       "      <th>TD_RECEIVING/G_ewm</th>\n",
       "      <td>0.407301</td>\n",
       "    </tr>\n",
       "    <tr>\n",
       "      <th>FL_MISC/G_ewm</th>\n",
       "      <td>0.207982</td>\n",
       "    </tr>\n",
       "    <tr>\n",
       "      <th>YDS/ATT_RUSHING_ewm</th>\n",
       "      <td>0.262246</td>\n",
       "    </tr>\n",
       "    <tr>\n",
       "      <th>Career_Years</th>\n",
       "      <td>-0.039880</td>\n",
       "    </tr>\n",
       "    <tr>\n",
       "      <th>ATT_RUSHING/G_avg_FP</th>\n",
       "      <td>0.595517</td>\n",
       "    </tr>\n",
       "    <tr>\n",
       "      <th>YDS_RUSHING/G_avg_FP</th>\n",
       "      <td>0.608366</td>\n",
       "    </tr>\n",
       "    <tr>\n",
       "      <th>TD_RUSHING/G_avg_FP</th>\n",
       "      <td>0.580524</td>\n",
       "    </tr>\n",
       "    <tr>\n",
       "      <th>REC_RECEIVING/G_avg_FP</th>\n",
       "      <td>0.573311</td>\n",
       "    </tr>\n",
       "    <tr>\n",
       "      <th>TGT_RECEIVING/G_avg_FP</th>\n",
       "      <td>0.573820</td>\n",
       "    </tr>\n",
       "    <tr>\n",
       "      <th>YDS_RECEIVING/G_avg_FP</th>\n",
       "      <td>0.575993</td>\n",
       "    </tr>\n",
       "    <tr>\n",
       "      <th>TD_RECEIVING/G_avg_FP</th>\n",
       "      <td>0.511058</td>\n",
       "    </tr>\n",
       "    <tr>\n",
       "      <th>FL_MISC/G_avg_FP</th>\n",
       "      <td>0.382682</td>\n",
       "    </tr>\n",
       "    <tr>\n",
       "      <th>YDS/ATT_RUSHING_avg_FP</th>\n",
       "      <td>0.650087</td>\n",
       "    </tr>\n",
       "    <tr>\n",
       "      <th>ATT_RUSHING/G_ewm_FP</th>\n",
       "      <td>0.618723</td>\n",
       "    </tr>\n",
       "    <tr>\n",
       "      <th>YDS_RUSHING/G_ewm_FP</th>\n",
       "      <td>0.630851</td>\n",
       "    </tr>\n",
       "    <tr>\n",
       "      <th>TD_RUSHING/G_ewm_FP</th>\n",
       "      <td>0.595100</td>\n",
       "    </tr>\n",
       "    <tr>\n",
       "      <th>REC_RECEIVING/G_ewm_FP</th>\n",
       "      <td>0.595126</td>\n",
       "    </tr>\n",
       "    <tr>\n",
       "      <th>TGT_RECEIVING/G_ewm_FP</th>\n",
       "      <td>0.595664</td>\n",
       "    </tr>\n",
       "    <tr>\n",
       "      <th>YDS_RECEIVING/G_ewm_FP</th>\n",
       "      <td>0.596061</td>\n",
       "    </tr>\n",
       "    <tr>\n",
       "      <th>TD_RECEIVING/G_ewm_FP</th>\n",
       "      <td>0.518831</td>\n",
       "    </tr>\n",
       "    <tr>\n",
       "      <th>FL_MISC/G_ewm_FP</th>\n",
       "      <td>0.388385</td>\n",
       "    </tr>\n",
       "    <tr>\n",
       "      <th>YDS/ATT_RUSHING_ewm_FP</th>\n",
       "      <td>0.670917</td>\n",
       "    </tr>\n",
       "    <tr>\n",
       "      <th>Career_Years_FP</th>\n",
       "      <td>0.670917</td>\n",
       "    </tr>\n",
       "  </tbody>\n",
       "</table>\n",
       "</div>"
      ],
      "text/plain": [
       "                         FPTS_TG\n",
       "Season                  0.096831\n",
       "AVG                    -0.722483\n",
       "FPTS_TG                 1.000000\n",
       "FPTS/G_MISC_avg         0.643941\n",
       "ATT_RUSHING/G_avg       0.529244\n",
       "YDS_RUSHING/G_avg       0.565597\n",
       "TD_RUSHING/G_avg        0.547808\n",
       "REC_RECEIVING/G_avg     0.475149\n",
       "TGT_RECEIVING/G_avg     0.468800\n",
       "YDS_RECEIVING/G_avg     0.486112\n",
       "TD_RECEIVING/G_avg      0.400839\n",
       "FL_MISC/G_avg           0.207248\n",
       "YDS/ATT_RUSHING_avg     0.265743\n",
       "FPTS/G_MISC_ewm         0.664918\n",
       "ATT_RUSHING/G_ewm       0.549453\n",
       "YDS_RUSHING/G_ewm       0.585681\n",
       "TD_RUSHING/G_ewm        0.561245\n",
       "REC_RECEIVING/G_ewm     0.490184\n",
       "TGT_RECEIVING/G_ewm     0.482967\n",
       "YDS_RECEIVING/G_ewm     0.499454\n",
       "TD_RECEIVING/G_ewm      0.407301\n",
       "FL_MISC/G_ewm           0.207982\n",
       "YDS/ATT_RUSHING_ewm     0.262246\n",
       "Career_Years           -0.039880\n",
       "ATT_RUSHING/G_avg_FP    0.595517\n",
       "YDS_RUSHING/G_avg_FP    0.608366\n",
       "TD_RUSHING/G_avg_FP     0.580524\n",
       "REC_RECEIVING/G_avg_FP  0.573311\n",
       "TGT_RECEIVING/G_avg_FP  0.573820\n",
       "YDS_RECEIVING/G_avg_FP  0.575993\n",
       "TD_RECEIVING/G_avg_FP   0.511058\n",
       "FL_MISC/G_avg_FP        0.382682\n",
       "YDS/ATT_RUSHING_avg_FP  0.650087\n",
       "ATT_RUSHING/G_ewm_FP    0.618723\n",
       "YDS_RUSHING/G_ewm_FP    0.630851\n",
       "TD_RUSHING/G_ewm_FP     0.595100\n",
       "REC_RECEIVING/G_ewm_FP  0.595126\n",
       "TGT_RECEIVING/G_ewm_FP  0.595664\n",
       "YDS_RECEIVING/G_ewm_FP  0.596061\n",
       "TD_RECEIVING/G_ewm_FP   0.518831\n",
       "FL_MISC/G_ewm_FP        0.388385\n",
       "YDS/ATT_RUSHING_ewm_FP  0.670917\n",
       "Career_Years_FP         0.670917"
      ]
     },
     "execution_count": 14,
     "metadata": {},
     "output_type": "execute_result"
    }
   ],
   "source": [
    "corrs[[\"FPTS_TG\"]]#.tail(30)"
   ]
  },
  {
   "cell_type": "code",
   "execution_count": null,
   "id": "adopted-enhancement",
   "metadata": {},
   "outputs": [],
   "source": []
  },
  {
   "cell_type": "code",
   "execution_count": null,
   "id": "duplicate-sender",
   "metadata": {},
   "outputs": [],
   "source": []
  },
  {
   "cell_type": "code",
   "execution_count": 15,
   "id": "entire-powell",
   "metadata": {},
   "outputs": [],
   "source": [
    "model_cols = [\"Season\"]\n",
    "for i, vals in corrs[[\"FPTS_TG\"]].iterrows():\n",
    "    val = vals[\"FPTS_TG\"]\n",
    "    if val > 0.55 or val < -0.55:\n",
    "        model_cols.append(i)"
   ]
  },
  {
   "cell_type": "code",
   "execution_count": 16,
   "id": "harmful-transformation",
   "metadata": {},
   "outputs": [],
   "source": [
    "import pickle\n",
    "with open(\"model features/rb_feats\", \"wb\") as fp:   #Pickling\n",
    "    pickle.dump(model_cols, fp)"
   ]
  },
  {
   "cell_type": "code",
   "execution_count": 17,
   "id": "documentary-evolution",
   "metadata": {},
   "outputs": [
    {
     "data": {
      "text/plain": [
       "['Season',\n",
       " 'AVG',\n",
       " 'FPTS_TG',\n",
       " 'FPTS/G_MISC_avg',\n",
       " 'YDS_RUSHING/G_avg',\n",
       " 'FPTS/G_MISC_ewm',\n",
       " 'YDS_RUSHING/G_ewm',\n",
       " 'TD_RUSHING/G_ewm',\n",
       " 'ATT_RUSHING/G_avg_FP',\n",
       " 'YDS_RUSHING/G_avg_FP',\n",
       " 'TD_RUSHING/G_avg_FP',\n",
       " 'REC_RECEIVING/G_avg_FP',\n",
       " 'TGT_RECEIVING/G_avg_FP',\n",
       " 'YDS_RECEIVING/G_avg_FP',\n",
       " 'YDS/ATT_RUSHING_avg_FP',\n",
       " 'ATT_RUSHING/G_ewm_FP',\n",
       " 'YDS_RUSHING/G_ewm_FP',\n",
       " 'TD_RUSHING/G_ewm_FP',\n",
       " 'REC_RECEIVING/G_ewm_FP',\n",
       " 'TGT_RECEIVING/G_ewm_FP',\n",
       " 'YDS_RECEIVING/G_ewm_FP',\n",
       " 'YDS/ATT_RUSHING_ewm_FP',\n",
       " 'Career_Years_FP']"
      ]
     },
     "execution_count": 17,
     "metadata": {},
     "output_type": "execute_result"
    }
   ],
   "source": [
    "model_cols"
   ]
  },
  {
   "cell_type": "code",
   "execution_count": 18,
   "id": "psychological-literacy",
   "metadata": {},
   "outputs": [],
   "source": [
    "import seaborn as sns\n",
    "import matplotlib.pyplot as plt"
   ]
  },
  {
   "cell_type": "code",
   "execution_count": 19,
   "id": "sharing-genealogy",
   "metadata": {},
   "outputs": [],
   "source": [
    "model_df = rel_df[model_cols]"
   ]
  },
  {
   "cell_type": "code",
   "execution_count": 20,
   "id": "norwegian-operation",
   "metadata": {},
   "outputs": [
    {
     "data": {
      "text/plain": [
       "Index(['Season', 'AVG', 'FPTS_TG', 'FPTS/G_MISC_avg', 'YDS_RUSHING/G_avg',\n",
       "       'FPTS/G_MISC_ewm', 'YDS_RUSHING/G_ewm', 'TD_RUSHING/G_ewm',\n",
       "       'ATT_RUSHING/G_avg_FP', 'YDS_RUSHING/G_avg_FP', 'TD_RUSHING/G_avg_FP',\n",
       "       'REC_RECEIVING/G_avg_FP', 'TGT_RECEIVING/G_avg_FP',\n",
       "       'YDS_RECEIVING/G_avg_FP', 'YDS/ATT_RUSHING_avg_FP',\n",
       "       'ATT_RUSHING/G_ewm_FP', 'YDS_RUSHING/G_ewm_FP', 'TD_RUSHING/G_ewm_FP',\n",
       "       'REC_RECEIVING/G_ewm_FP', 'TGT_RECEIVING/G_ewm_FP',\n",
       "       'YDS_RECEIVING/G_ewm_FP', 'YDS/ATT_RUSHING_ewm_FP', 'Career_Years_FP'],\n",
       "      dtype='object')"
      ]
     },
     "execution_count": 20,
     "metadata": {},
     "output_type": "execute_result"
    }
   ],
   "source": [
    "model_df.columns"
   ]
  },
  {
   "cell_type": "code",
   "execution_count": 21,
   "id": "sorted-effectiveness",
   "metadata": {},
   "outputs": [],
   "source": [
    "#plt.figure(figsize=(15, 10))\n",
    "#sns.regplot(model_df[\"AVG\"], model_df[\"FPTS_TG\"])"
   ]
  },
  {
   "cell_type": "code",
   "execution_count": 22,
   "id": "adaptive-algorithm",
   "metadata": {},
   "outputs": [],
   "source": [
    "#plt.figure(figsize=(15, 10))\n",
    "#sns.regplot(model_df[\"FPTS_TG\"], model_df[\"REC_RECEIVING_avg_FP\"])"
   ]
  },
  {
   "cell_type": "code",
   "execution_count": 23,
   "id": "closing-myrtle",
   "metadata": {},
   "outputs": [
    {
     "data": {
      "text/plain": [
       "<Figure size 1500x1000 with 0 Axes>"
      ]
     },
     "execution_count": 23,
     "metadata": {},
     "output_type": "execute_result"
    },
    {
     "data": {
      "text/plain": [
       "<Figure size 1500x1000 with 0 Axes>"
      ]
     },
     "metadata": {},
     "output_type": "display_data"
    }
   ],
   "source": [
    "\n",
    "plt.figure(figsize=(15, 10))\n",
    "#sns.regplot(model_df[\"FPTS_TG\"], model_df[\"REC_RECEIVING/G_ls_FP\"])"
   ]
  },
  {
   "cell_type": "code",
   "execution_count": null,
   "id": "premium-nebraska",
   "metadata": {},
   "outputs": [],
   "source": []
  },
  {
   "cell_type": "code",
   "execution_count": 24,
   "id": "funded-invite",
   "metadata": {},
   "outputs": [],
   "source": [
    "model_df = model_df.fillna(0)"
   ]
  },
  {
   "cell_type": "code",
   "execution_count": 25,
   "id": "sealed-courtesy",
   "metadata": {},
   "outputs": [],
   "source": [
    "# Linear Regression"
   ]
  },
  {
   "cell_type": "code",
   "execution_count": 26,
   "id": "metric-jacksonville",
   "metadata": {},
   "outputs": [],
   "source": [
    "from sklearn.linear_model import LinearRegression\n",
    "from sklearn.model_selection import train_test_split\n",
    "from sklearn import preprocessing"
   ]
  },
  {
   "cell_type": "code",
   "execution_count": null,
   "id": "relevant-sweden",
   "metadata": {},
   "outputs": [],
   "source": []
  },
  {
   "cell_type": "code",
   "execution_count": 27,
   "id": "recent-affairs",
   "metadata": {},
   "outputs": [],
   "source": [
    "X = model_df.drop([\"FPTS_TG\", \"Season\"], axis=1)\n",
    "y = model_df[[\"FPTS_TG\"]]\n",
    "X_train, X_test, y_train, y_test = train_test_split(X, y, random_state=0)\n",
    "\n",
    "lr = LinearRegression()\n",
    "sc = preprocessing.StandardScaler()\n",
    "\n",
    "X_train_sc = sc.fit_transform(X_train)\n",
    "\n",
    "X_test_sc = sc.transform(X_test)\n",
    "\n",
    "lr.fit(X_train_sc, y_train)\n",
    "y_pred = lr.predict(X_test_sc)"
   ]
  },
  {
   "cell_type": "code",
   "execution_count": null,
   "id": "dressed-legislature",
   "metadata": {},
   "outputs": [],
   "source": []
  },
  {
   "cell_type": "code",
   "execution_count": 28,
   "id": "internal-nursing",
   "metadata": {},
   "outputs": [],
   "source": [
    "from sklearn.metrics import r2_score, mean_absolute_error, mean_squared_error"
   ]
  },
  {
   "cell_type": "code",
   "execution_count": 29,
   "id": "vanilla-yesterday",
   "metadata": {},
   "outputs": [],
   "source": [
    "def evaluate(y_test, y_pred):\n",
    "    mae = mean_absolute_error(y_test, y_pred)\n",
    "    mse = mean_squared_error(y_test, y_pred)\n",
    "    r2 = r2_score(y_test, y_pred)\n",
    "    \n",
    "    print(\"mae: \", mae)\n",
    "    print(\"mse: \", mse)\n",
    "    print(\"r2: \", r2)"
   ]
  },
  {
   "cell_type": "code",
   "execution_count": 30,
   "id": "personal-tooth",
   "metadata": {},
   "outputs": [
    {
     "name": "stdout",
     "output_type": "stream",
     "text": [
      "mae:  2.885988602756518\n",
      "mse:  14.000469248783693\n",
      "r2:  0.574638755523613\n"
     ]
    }
   ],
   "source": [
    "evaluate(y_test, y_pred)"
   ]
  },
  {
   "cell_type": "code",
   "execution_count": 31,
   "id": "champion-soundtrack",
   "metadata": {},
   "outputs": [
    {
     "name": "stdout",
     "output_type": "stream",
     "text": [
      "mae:  2.3624924713727964\n",
      "mse:  8.683329365983994\n",
      "r2:  0.49586322923604464\n"
     ]
    }
   ],
   "source": [
    "X_22 = model_df[model_df.Season == 2022].drop([\"FPTS_TG\", \"Season\"], axis=1)\n",
    "mdd = df[df.Season == 2022][[\"FPTS_TG\", \"Player\"]].copy()\n",
    "mdd[\"comp\"] = lr.predict(sc.transform(X_22))\n",
    "\n",
    "evaluate(mdd.FPTS_TG, mdd.comp)"
   ]
  },
  {
   "cell_type": "code",
   "execution_count": null,
   "id": "compressed-impact",
   "metadata": {},
   "outputs": [],
   "source": []
  },
  {
   "cell_type": "code",
   "execution_count": null,
   "id": "terminal-examination",
   "metadata": {},
   "outputs": [],
   "source": []
  },
  {
   "cell_type": "code",
   "execution_count": null,
   "id": "blind-juvenile",
   "metadata": {},
   "outputs": [],
   "source": []
  },
  {
   "cell_type": "code",
   "execution_count": 32,
   "id": "proved-excellence",
   "metadata": {},
   "outputs": [],
   "source": [
    "from sklearn.ensemble import RandomForestRegressor"
   ]
  },
  {
   "cell_type": "code",
   "execution_count": 33,
   "id": "typical-practitioner",
   "metadata": {},
   "outputs": [],
   "source": [
    "rf = RandomForestRegressor(max_depth=2, random_state=0)"
   ]
  },
  {
   "cell_type": "code",
   "execution_count": null,
   "id": "recognized-impact",
   "metadata": {},
   "outputs": [],
   "source": []
  },
  {
   "cell_type": "code",
   "execution_count": 34,
   "id": "14f3e1ea",
   "metadata": {},
   "outputs": [],
   "source": [
    "random_grid = {'n_estimators': [200, 300, 400],\n",
    "               'max_features': [\"sqrt\"],\n",
    "               'max_depth': [2, 5, 10, 20],\n",
    "               'min_samples_split': [3, 5, 10, 15],\n",
    "              }"
   ]
  },
  {
   "cell_type": "code",
   "execution_count": 35,
   "id": "338fa1a9",
   "metadata": {},
   "outputs": [],
   "source": [
    "from sklearn.model_selection import RandomizedSearchCV"
   ]
  },
  {
   "cell_type": "code",
   "execution_count": 36,
   "id": "eedf6a2a",
   "metadata": {},
   "outputs": [],
   "source": [
    "rf_random = RandomizedSearchCV(estimator = rf,param_distributions = random_grid,n_iter = 100, cv = 5, verbose=99, random_state=21, n_jobs = -1)"
   ]
  },
  {
   "cell_type": "code",
   "execution_count": 37,
   "id": "790f6e64",
   "metadata": {},
   "outputs": [
    {
     "name": "stderr",
     "output_type": "stream",
     "text": [
      "C:\\ProgramData\\anaconda3\\Lib\\site-packages\\sklearn\\model_selection\\_search.py:305: UserWarning: The total space of parameters 48 is smaller than n_iter=100. Running 48 iterations. For exhaustive searches, use GridSearchCV.\n",
      "  warnings.warn(\n"
     ]
    },
    {
     "name": "stdout",
     "output_type": "stream",
     "text": [
      "Fitting 5 folds for each of 48 candidates, totalling 240 fits\n"
     ]
    },
    {
     "name": "stderr",
     "output_type": "stream",
     "text": [
      "C:\\ProgramData\\anaconda3\\Lib\\site-packages\\sklearn\\model_selection\\_search.py:909: DataConversionWarning: A column-vector y was passed when a 1d array was expected. Please change the shape of y to (n_samples,), for example using ravel().\n",
      "  self.best_estimator_.fit(X, y, **fit_params)\n"
     ]
    },
    {
     "data": {
      "text/html": [
       "<style>#sk-container-id-1 {color: black;background-color: white;}#sk-container-id-1 pre{padding: 0;}#sk-container-id-1 div.sk-toggleable {background-color: white;}#sk-container-id-1 label.sk-toggleable__label {cursor: pointer;display: block;width: 100%;margin-bottom: 0;padding: 0.3em;box-sizing: border-box;text-align: center;}#sk-container-id-1 label.sk-toggleable__label-arrow:before {content: \"▸\";float: left;margin-right: 0.25em;color: #696969;}#sk-container-id-1 label.sk-toggleable__label-arrow:hover:before {color: black;}#sk-container-id-1 div.sk-estimator:hover label.sk-toggleable__label-arrow:before {color: black;}#sk-container-id-1 div.sk-toggleable__content {max-height: 0;max-width: 0;overflow: hidden;text-align: left;background-color: #f0f8ff;}#sk-container-id-1 div.sk-toggleable__content pre {margin: 0.2em;color: black;border-radius: 0.25em;background-color: #f0f8ff;}#sk-container-id-1 input.sk-toggleable__control:checked~div.sk-toggleable__content {max-height: 200px;max-width: 100%;overflow: auto;}#sk-container-id-1 input.sk-toggleable__control:checked~label.sk-toggleable__label-arrow:before {content: \"▾\";}#sk-container-id-1 div.sk-estimator input.sk-toggleable__control:checked~label.sk-toggleable__label {background-color: #d4ebff;}#sk-container-id-1 div.sk-label input.sk-toggleable__control:checked~label.sk-toggleable__label {background-color: #d4ebff;}#sk-container-id-1 input.sk-hidden--visually {border: 0;clip: rect(1px 1px 1px 1px);clip: rect(1px, 1px, 1px, 1px);height: 1px;margin: -1px;overflow: hidden;padding: 0;position: absolute;width: 1px;}#sk-container-id-1 div.sk-estimator {font-family: monospace;background-color: #f0f8ff;border: 1px dotted black;border-radius: 0.25em;box-sizing: border-box;margin-bottom: 0.5em;}#sk-container-id-1 div.sk-estimator:hover {background-color: #d4ebff;}#sk-container-id-1 div.sk-parallel-item::after {content: \"\";width: 100%;border-bottom: 1px solid gray;flex-grow: 1;}#sk-container-id-1 div.sk-label:hover label.sk-toggleable__label {background-color: #d4ebff;}#sk-container-id-1 div.sk-serial::before {content: \"\";position: absolute;border-left: 1px solid gray;box-sizing: border-box;top: 0;bottom: 0;left: 50%;z-index: 0;}#sk-container-id-1 div.sk-serial {display: flex;flex-direction: column;align-items: center;background-color: white;padding-right: 0.2em;padding-left: 0.2em;position: relative;}#sk-container-id-1 div.sk-item {position: relative;z-index: 1;}#sk-container-id-1 div.sk-parallel {display: flex;align-items: stretch;justify-content: center;background-color: white;position: relative;}#sk-container-id-1 div.sk-item::before, #sk-container-id-1 div.sk-parallel-item::before {content: \"\";position: absolute;border-left: 1px solid gray;box-sizing: border-box;top: 0;bottom: 0;left: 50%;z-index: -1;}#sk-container-id-1 div.sk-parallel-item {display: flex;flex-direction: column;z-index: 1;position: relative;background-color: white;}#sk-container-id-1 div.sk-parallel-item:first-child::after {align-self: flex-end;width: 50%;}#sk-container-id-1 div.sk-parallel-item:last-child::after {align-self: flex-start;width: 50%;}#sk-container-id-1 div.sk-parallel-item:only-child::after {width: 0;}#sk-container-id-1 div.sk-dashed-wrapped {border: 1px dashed gray;margin: 0 0.4em 0.5em 0.4em;box-sizing: border-box;padding-bottom: 0.4em;background-color: white;}#sk-container-id-1 div.sk-label label {font-family: monospace;font-weight: bold;display: inline-block;line-height: 1.2em;}#sk-container-id-1 div.sk-label-container {text-align: center;}#sk-container-id-1 div.sk-container {/* jupyter's `normalize.less` sets `[hidden] { display: none; }` but bootstrap.min.css set `[hidden] { display: none !important; }` so we also need the `!important` here to be able to override the default hidden behavior on the sphinx rendered scikit-learn.org. See: https://github.com/scikit-learn/scikit-learn/issues/21755 */display: inline-block !important;position: relative;}#sk-container-id-1 div.sk-text-repr-fallback {display: none;}</style><div id=\"sk-container-id-1\" class=\"sk-top-container\"><div class=\"sk-text-repr-fallback\"><pre>RandomizedSearchCV(cv=5,\n",
       "                   estimator=RandomForestRegressor(max_depth=2, random_state=0),\n",
       "                   n_iter=100, n_jobs=-1,\n",
       "                   param_distributions={&#x27;max_depth&#x27;: [2, 5, 10, 20],\n",
       "                                        &#x27;max_features&#x27;: [&#x27;sqrt&#x27;],\n",
       "                                        &#x27;min_samples_split&#x27;: [3, 5, 10, 15],\n",
       "                                        &#x27;n_estimators&#x27;: [200, 300, 400]},\n",
       "                   random_state=21, verbose=99)</pre><b>In a Jupyter environment, please rerun this cell to show the HTML representation or trust the notebook. <br />On GitHub, the HTML representation is unable to render, please try loading this page with nbviewer.org.</b></div><div class=\"sk-container\" hidden><div class=\"sk-item sk-dashed-wrapped\"><div class=\"sk-label-container\"><div class=\"sk-label sk-toggleable\"><input class=\"sk-toggleable__control sk-hidden--visually\" id=\"sk-estimator-id-1\" type=\"checkbox\" ><label for=\"sk-estimator-id-1\" class=\"sk-toggleable__label sk-toggleable__label-arrow\">RandomizedSearchCV</label><div class=\"sk-toggleable__content\"><pre>RandomizedSearchCV(cv=5,\n",
       "                   estimator=RandomForestRegressor(max_depth=2, random_state=0),\n",
       "                   n_iter=100, n_jobs=-1,\n",
       "                   param_distributions={&#x27;max_depth&#x27;: [2, 5, 10, 20],\n",
       "                                        &#x27;max_features&#x27;: [&#x27;sqrt&#x27;],\n",
       "                                        &#x27;min_samples_split&#x27;: [3, 5, 10, 15],\n",
       "                                        &#x27;n_estimators&#x27;: [200, 300, 400]},\n",
       "                   random_state=21, verbose=99)</pre></div></div></div><div class=\"sk-parallel\"><div class=\"sk-parallel-item\"><div class=\"sk-item\"><div class=\"sk-label-container\"><div class=\"sk-label sk-toggleable\"><input class=\"sk-toggleable__control sk-hidden--visually\" id=\"sk-estimator-id-2\" type=\"checkbox\" ><label for=\"sk-estimator-id-2\" class=\"sk-toggleable__label sk-toggleable__label-arrow\">estimator: RandomForestRegressor</label><div class=\"sk-toggleable__content\"><pre>RandomForestRegressor(max_depth=2, random_state=0)</pre></div></div></div><div class=\"sk-serial\"><div class=\"sk-item\"><div class=\"sk-estimator sk-toggleable\"><input class=\"sk-toggleable__control sk-hidden--visually\" id=\"sk-estimator-id-3\" type=\"checkbox\" ><label for=\"sk-estimator-id-3\" class=\"sk-toggleable__label sk-toggleable__label-arrow\">RandomForestRegressor</label><div class=\"sk-toggleable__content\"><pre>RandomForestRegressor(max_depth=2, random_state=0)</pre></div></div></div></div></div></div></div></div></div></div>"
      ],
      "text/plain": [
       "RandomizedSearchCV(cv=5,\n",
       "                   estimator=RandomForestRegressor(max_depth=2, random_state=0),\n",
       "                   n_iter=100, n_jobs=-1,\n",
       "                   param_distributions={'max_depth': [2, 5, 10, 20],\n",
       "                                        'max_features': ['sqrt'],\n",
       "                                        'min_samples_split': [3, 5, 10, 15],\n",
       "                                        'n_estimators': [200, 300, 400]},\n",
       "                   random_state=21, verbose=99)"
      ]
     },
     "execution_count": 37,
     "metadata": {},
     "output_type": "execute_result"
    }
   ],
   "source": [
    "rf_random.fit(X_train, y_train)"
   ]
  },
  {
   "cell_type": "code",
   "execution_count": 38,
   "id": "dc520ef0",
   "metadata": {},
   "outputs": [
    {
     "data": {
      "text/plain": [
       "{'n_estimators': 400,\n",
       " 'min_samples_split': 5,\n",
       " 'max_features': 'sqrt',\n",
       " 'max_depth': 10}"
      ]
     },
     "execution_count": 38,
     "metadata": {},
     "output_type": "execute_result"
    }
   ],
   "source": [
    "rf_random.best_params_"
   ]
  },
  {
   "cell_type": "code",
   "execution_count": 39,
   "id": "1f727723",
   "metadata": {},
   "outputs": [],
   "source": [
    "rf_opt = RandomForestRegressor(max_depth=10, max_features=\"sqrt\", min_samples_split = 5, n_estimators=400, random_state=0)"
   ]
  },
  {
   "cell_type": "code",
   "execution_count": 40,
   "id": "52db2604",
   "metadata": {},
   "outputs": [
    {
     "name": "stderr",
     "output_type": "stream",
     "text": [
      "C:\\Users\\sergi\\AppData\\Local\\Temp\\ipykernel_39376\\2599501171.py:1: DataConversionWarning: A column-vector y was passed when a 1d array was expected. Please change the shape of y to (n_samples,), for example using ravel().\n",
      "  rf_opt.fit(X_train, y_train)\n"
     ]
    },
    {
     "data": {
      "text/html": [
       "<style>#sk-container-id-2 {color: black;background-color: white;}#sk-container-id-2 pre{padding: 0;}#sk-container-id-2 div.sk-toggleable {background-color: white;}#sk-container-id-2 label.sk-toggleable__label {cursor: pointer;display: block;width: 100%;margin-bottom: 0;padding: 0.3em;box-sizing: border-box;text-align: center;}#sk-container-id-2 label.sk-toggleable__label-arrow:before {content: \"▸\";float: left;margin-right: 0.25em;color: #696969;}#sk-container-id-2 label.sk-toggleable__label-arrow:hover:before {color: black;}#sk-container-id-2 div.sk-estimator:hover label.sk-toggleable__label-arrow:before {color: black;}#sk-container-id-2 div.sk-toggleable__content {max-height: 0;max-width: 0;overflow: hidden;text-align: left;background-color: #f0f8ff;}#sk-container-id-2 div.sk-toggleable__content pre {margin: 0.2em;color: black;border-radius: 0.25em;background-color: #f0f8ff;}#sk-container-id-2 input.sk-toggleable__control:checked~div.sk-toggleable__content {max-height: 200px;max-width: 100%;overflow: auto;}#sk-container-id-2 input.sk-toggleable__control:checked~label.sk-toggleable__label-arrow:before {content: \"▾\";}#sk-container-id-2 div.sk-estimator input.sk-toggleable__control:checked~label.sk-toggleable__label {background-color: #d4ebff;}#sk-container-id-2 div.sk-label input.sk-toggleable__control:checked~label.sk-toggleable__label {background-color: #d4ebff;}#sk-container-id-2 input.sk-hidden--visually {border: 0;clip: rect(1px 1px 1px 1px);clip: rect(1px, 1px, 1px, 1px);height: 1px;margin: -1px;overflow: hidden;padding: 0;position: absolute;width: 1px;}#sk-container-id-2 div.sk-estimator {font-family: monospace;background-color: #f0f8ff;border: 1px dotted black;border-radius: 0.25em;box-sizing: border-box;margin-bottom: 0.5em;}#sk-container-id-2 div.sk-estimator:hover {background-color: #d4ebff;}#sk-container-id-2 div.sk-parallel-item::after {content: \"\";width: 100%;border-bottom: 1px solid gray;flex-grow: 1;}#sk-container-id-2 div.sk-label:hover label.sk-toggleable__label {background-color: #d4ebff;}#sk-container-id-2 div.sk-serial::before {content: \"\";position: absolute;border-left: 1px solid gray;box-sizing: border-box;top: 0;bottom: 0;left: 50%;z-index: 0;}#sk-container-id-2 div.sk-serial {display: flex;flex-direction: column;align-items: center;background-color: white;padding-right: 0.2em;padding-left: 0.2em;position: relative;}#sk-container-id-2 div.sk-item {position: relative;z-index: 1;}#sk-container-id-2 div.sk-parallel {display: flex;align-items: stretch;justify-content: center;background-color: white;position: relative;}#sk-container-id-2 div.sk-item::before, #sk-container-id-2 div.sk-parallel-item::before {content: \"\";position: absolute;border-left: 1px solid gray;box-sizing: border-box;top: 0;bottom: 0;left: 50%;z-index: -1;}#sk-container-id-2 div.sk-parallel-item {display: flex;flex-direction: column;z-index: 1;position: relative;background-color: white;}#sk-container-id-2 div.sk-parallel-item:first-child::after {align-self: flex-end;width: 50%;}#sk-container-id-2 div.sk-parallel-item:last-child::after {align-self: flex-start;width: 50%;}#sk-container-id-2 div.sk-parallel-item:only-child::after {width: 0;}#sk-container-id-2 div.sk-dashed-wrapped {border: 1px dashed gray;margin: 0 0.4em 0.5em 0.4em;box-sizing: border-box;padding-bottom: 0.4em;background-color: white;}#sk-container-id-2 div.sk-label label {font-family: monospace;font-weight: bold;display: inline-block;line-height: 1.2em;}#sk-container-id-2 div.sk-label-container {text-align: center;}#sk-container-id-2 div.sk-container {/* jupyter's `normalize.less` sets `[hidden] { display: none; }` but bootstrap.min.css set `[hidden] { display: none !important; }` so we also need the `!important` here to be able to override the default hidden behavior on the sphinx rendered scikit-learn.org. See: https://github.com/scikit-learn/scikit-learn/issues/21755 */display: inline-block !important;position: relative;}#sk-container-id-2 div.sk-text-repr-fallback {display: none;}</style><div id=\"sk-container-id-2\" class=\"sk-top-container\"><div class=\"sk-text-repr-fallback\"><pre>RandomForestRegressor(max_depth=10, max_features=&#x27;sqrt&#x27;, min_samples_split=5,\n",
       "                      n_estimators=400, random_state=0)</pre><b>In a Jupyter environment, please rerun this cell to show the HTML representation or trust the notebook. <br />On GitHub, the HTML representation is unable to render, please try loading this page with nbviewer.org.</b></div><div class=\"sk-container\" hidden><div class=\"sk-item\"><div class=\"sk-estimator sk-toggleable\"><input class=\"sk-toggleable__control sk-hidden--visually\" id=\"sk-estimator-id-4\" type=\"checkbox\" checked><label for=\"sk-estimator-id-4\" class=\"sk-toggleable__label sk-toggleable__label-arrow\">RandomForestRegressor</label><div class=\"sk-toggleable__content\"><pre>RandomForestRegressor(max_depth=10, max_features=&#x27;sqrt&#x27;, min_samples_split=5,\n",
       "                      n_estimators=400, random_state=0)</pre></div></div></div></div></div>"
      ],
      "text/plain": [
       "RandomForestRegressor(max_depth=10, max_features='sqrt', min_samples_split=5,\n",
       "                      n_estimators=400, random_state=0)"
      ]
     },
     "execution_count": 40,
     "metadata": {},
     "output_type": "execute_result"
    }
   ],
   "source": [
    "rf_opt.fit(X_train, y_train)"
   ]
  },
  {
   "cell_type": "code",
   "execution_count": null,
   "id": "bcc6bcc2",
   "metadata": {},
   "outputs": [],
   "source": []
  },
  {
   "cell_type": "code",
   "execution_count": 41,
   "id": "champion-electron",
   "metadata": {},
   "outputs": [],
   "source": [
    "y_pred = rf_opt.predict(X_test)"
   ]
  },
  {
   "cell_type": "code",
   "execution_count": null,
   "id": "d74908b6",
   "metadata": {},
   "outputs": [],
   "source": []
  },
  {
   "cell_type": "code",
   "execution_count": 42,
   "id": "22a54df3",
   "metadata": {},
   "outputs": [
    {
     "name": "stdout",
     "output_type": "stream",
     "text": [
      "mae:  1.2602867600571739\n",
      "mse:  2.7456700681547677\n",
      "r2:  0.8998354815172858\n"
     ]
    }
   ],
   "source": [
    "evaluate(y_train, rf_opt.predict(X_train))"
   ]
  },
  {
   "cell_type": "code",
   "execution_count": 43,
   "id": "effective-dependence",
   "metadata": {},
   "outputs": [
    {
     "name": "stdout",
     "output_type": "stream",
     "text": [
      "mae:  2.7639209168940972\n",
      "mse:  14.426460486930342\n",
      "r2:  0.5616963205255976\n"
     ]
    }
   ],
   "source": [
    "evaluate(y_test, y_pred)"
   ]
  },
  {
   "cell_type": "code",
   "execution_count": 45,
   "id": "killing-discount",
   "metadata": {},
   "outputs": [
    {
     "name": "stdout",
     "output_type": "stream",
     "text": [
      "mae:  1.33620977830087\n",
      "mse:  3.6921127548902177\n",
      "r2:  0.7856433030355472\n"
     ]
    }
   ],
   "source": [
    "X_22 = model_df[model_df.Season == 2022].drop([\"FPTS_TG\", \"Season\"], axis=1)\n",
    "mdd = df[df.Season == 2022][[\"FPTS_TG\", \"Player\", \"pid\"]].copy()\n",
    "mdd[\"comp\"] = rf_opt.predict((X_22))\n",
    "\n",
    "evaluate(mdd.FPTS_TG, mdd.comp)"
   ]
  },
  {
   "cell_type": "code",
   "execution_count": 47,
   "id": "arabic-chick",
   "metadata": {},
   "outputs": [],
   "source": [
    "mdd.to_csv(\"projected data/base_rbs.csv\", index=False)"
   ]
  },
  {
   "cell_type": "code",
   "execution_count": 104,
   "id": "literary-viking",
   "metadata": {},
   "outputs": [
    {
     "data": {
      "text/html": [
       "<div>\n",
       "<style scoped>\n",
       "    .dataframe tbody tr th:only-of-type {\n",
       "        vertical-align: middle;\n",
       "    }\n",
       "\n",
       "    .dataframe tbody tr th {\n",
       "        vertical-align: top;\n",
       "    }\n",
       "\n",
       "    .dataframe thead th {\n",
       "        text-align: right;\n",
       "    }\n",
       "</style>\n",
       "<table border=\"1\" class=\"dataframe\">\n",
       "  <thead>\n",
       "    <tr style=\"text-align: right;\">\n",
       "      <th></th>\n",
       "      <th>pid</th>\n",
       "      <th>Player</th>\n",
       "      <th>FPTS/G_MISC_avg</th>\n",
       "      <th>FPTS/G_MISC_ewm</th>\n",
       "    </tr>\n",
       "  </thead>\n",
       "  <tbody>\n",
       "    <tr>\n",
       "      <th>23</th>\n",
       "      <td>16483</td>\n",
       "      <td>Austin Ekeler (LAC)</td>\n",
       "      <td>5.800000</td>\n",
       "      <td>5.800000</td>\n",
       "    </tr>\n",
       "    <tr>\n",
       "      <th>122</th>\n",
       "      <td>16483</td>\n",
       "      <td>Austin Ekeler (LAC)</td>\n",
       "      <td>8.250000</td>\n",
       "      <td>8.670354</td>\n",
       "    </tr>\n",
       "    <tr>\n",
       "      <th>252</th>\n",
       "      <td>16483</td>\n",
       "      <td>Austin Ekeler (LAC)</td>\n",
       "      <td>10.966667</td>\n",
       "      <td>12.172516</td>\n",
       "    </tr>\n",
       "    <tr>\n",
       "      <th>326</th>\n",
       "      <td>16483</td>\n",
       "      <td>Austin Ekeler (LAC)</td>\n",
       "      <td>13.633333</td>\n",
       "      <td>13.930704</td>\n",
       "    </tr>\n",
       "    <tr>\n",
       "      <th>440</th>\n",
       "      <td>16483</td>\n",
       "      <td>Austin Ekeler (LAC)</td>\n",
       "      <td>16.500000</td>\n",
       "      <td>16.880957</td>\n",
       "    </tr>\n",
       "  </tbody>\n",
       "</table>\n",
       "</div>"
      ],
      "text/plain": [
       "       pid               Player  FPTS/G_MISC_avg  FPTS/G_MISC_ewm\n",
       "23   16483  Austin Ekeler (LAC)         5.800000         5.800000\n",
       "122  16483  Austin Ekeler (LAC)         8.250000         8.670354\n",
       "252  16483  Austin Ekeler (LAC)        10.966667        12.172516\n",
       "326  16483  Austin Ekeler (LAC)        13.633333        13.930704\n",
       "440  16483  Austin Ekeler (LAC)        16.500000        16.880957"
      ]
     },
     "execution_count": 104,
     "metadata": {},
     "output_type": "execute_result"
    }
   ],
   "source": [
    "df[df[\"pid\"] == 16483][[\"pid\", \"Player\", \"FPTS/G_MISC_avg\", \"FPTS/G_MISC_ewm\"]]"
   ]
  },
  {
   "cell_type": "code",
   "execution_count": 43,
   "id": "47b0dbe6",
   "metadata": {},
   "outputs": [
    {
     "data": {
      "text/html": [
       "<div>\n",
       "<style scoped>\n",
       "    .dataframe tbody tr th:only-of-type {\n",
       "        vertical-align: middle;\n",
       "    }\n",
       "\n",
       "    .dataframe tbody tr th {\n",
       "        vertical-align: top;\n",
       "    }\n",
       "\n",
       "    .dataframe thead th {\n",
       "        text-align: right;\n",
       "    }\n",
       "</style>\n",
       "<table border=\"1\" class=\"dataframe\">\n",
       "  <thead>\n",
       "    <tr style=\"text-align: right;\">\n",
       "      <th></th>\n",
       "      <th>pid</th>\n",
       "      <th>Player</th>\n",
       "      <th>FPTS/G_MISC_avg</th>\n",
       "      <th>FPTS/G_MISC_ewm</th>\n",
       "    </tr>\n",
       "  </thead>\n",
       "  <tbody>\n",
       "    <tr>\n",
       "      <th>2</th>\n",
       "      <td>16393</td>\n",
       "      <td>Christian McCaffrey (SF)</td>\n",
       "      <td>11.800000</td>\n",
       "      <td>11.800000</td>\n",
       "    </tr>\n",
       "    <tr>\n",
       "      <th>117</th>\n",
       "      <td>16393</td>\n",
       "      <td>Christian McCaffrey (SF)</td>\n",
       "      <td>16.300000</td>\n",
       "      <td>17.072078</td>\n",
       "    </tr>\n",
       "    <tr>\n",
       "      <th>275</th>\n",
       "      <td>16393</td>\n",
       "      <td>Christian McCaffrey (SF)</td>\n",
       "      <td>19.466667</td>\n",
       "      <td>21.026541</td>\n",
       "    </tr>\n",
       "    <tr>\n",
       "      <th>362</th>\n",
       "      <td>16393</td>\n",
       "      <td>Christian McCaffrey (SF)</td>\n",
       "      <td>24.633333</td>\n",
       "      <td>25.346918</td>\n",
       "    </tr>\n",
       "    <tr>\n",
       "      <th>441</th>\n",
       "      <td>16393</td>\n",
       "      <td>Christian McCaffrey (SF)</td>\n",
       "      <td>22.900000</td>\n",
       "      <td>21.659131</td>\n",
       "    </tr>\n",
       "  </tbody>\n",
       "</table>\n",
       "</div>"
      ],
      "text/plain": [
       "       pid                    Player  FPTS/G_MISC_avg  FPTS/G_MISC_ewm\n",
       "2    16393  Christian McCaffrey (SF)        11.800000        11.800000\n",
       "117  16393  Christian McCaffrey (SF)        16.300000        17.072078\n",
       "275  16393  Christian McCaffrey (SF)        19.466667        21.026541\n",
       "362  16393  Christian McCaffrey (SF)        24.633333        25.346918\n",
       "441  16393  Christian McCaffrey (SF)        22.900000        21.659131"
      ]
     },
     "execution_count": 43,
     "metadata": {},
     "output_type": "execute_result"
    }
   ],
   "source": [
    "df[df[\"pid\"] == 16393][[\"pid\", \"Player\", \"FPTS/G_MISC_avg\", \"FPTS/G_MISC_ewm\"]]"
   ]
  },
  {
   "cell_type": "code",
   "execution_count": null,
   "id": "cf46a6df",
   "metadata": {},
   "outputs": [],
   "source": []
  },
  {
   "cell_type": "code",
   "execution_count": null,
   "id": "9ff823a8",
   "metadata": {},
   "outputs": [],
   "source": []
  }
 ],
 "metadata": {
  "kernelspec": {
   "display_name": "Python 3 (ipykernel)",
   "language": "python",
   "name": "python3"
  },
  "language_info": {
   "codemirror_mode": {
    "name": "ipython",
    "version": 3
   },
   "file_extension": ".py",
   "mimetype": "text/x-python",
   "name": "python",
   "nbconvert_exporter": "python",
   "pygments_lexer": "ipython3",
   "version": "3.11.3"
  }
 },
 "nbformat": 4,
 "nbformat_minor": 5
}
