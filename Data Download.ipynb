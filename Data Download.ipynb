{
 "cells": [
  {
   "cell_type": "code",
   "execution_count": 1,
   "id": "related-scheme",
   "metadata": {},
   "outputs": [],
   "source": [
    "import pdb\n",
    "import requests\n",
    "from requests.auth import HTTPBasicAuth\n",
    "import pandas as pd\n",
    "import json\n",
    "from flatten_json import flatten\n",
    "import numpy as np\n",
    "from tqdm import tqdm\n",
    "import pickle\n",
    "import sys\n",
    "from statsbombpy import sb\n",
    "from multiprocessing import Pool\n",
    "\n",
    "from bs4 import BeautifulSoup"
   ]
  },
  {
   "cell_type": "code",
   "execution_count": 2,
   "id": "sticky-funds",
   "metadata": {},
   "outputs": [],
   "source": [
    "headers = {'User-Agent': 'Mozilla/5.0 (Macintosh; Intel Mac OS X 10_11_5) AppleWebKit/537.36 (KHTML, like Gecko) Cafari/537.36'}"
   ]
  },
  {
   "cell_type": "code",
   "execution_count": 3,
   "id": "dimensional-concentration",
   "metadata": {},
   "outputs": [],
   "source": [
    "import socket\n",
    "import requests.packages.urllib3.util.connection as urllib3_cn\n",
    "    \n",
    "def allowed_gai_family():\n",
    "    \"\"\"\n",
    "     https://github.com/shazow/urllib3/blob/master/urllib3/util/connection.py\n",
    "    \"\"\"\n",
    "    return socket.AF_INET\n",
    "\n",
    "urllib3_cn.allowed_gai_family = allowed_gai_family"
   ]
  },
  {
   "cell_type": "code",
   "execution_count": 4,
   "id": "sound-detroit",
   "metadata": {},
   "outputs": [],
   "source": [
    "def get_page(l):\n",
    "    passed = 0\n",
    "    while passed == 0:\n",
    "        try:\n",
    "            page = requests.get(l, headers=headers)\n",
    "            #print(page)\n",
    "            if page.status_code == 429:\n",
    "                print(\"retrying after \", int(page.headers[\"Retry-After\"]))\n",
    "                time.sleep(int(page.headers[\"Retry-After\"]))\n",
    "            else:\n",
    "                passed = 1\n",
    "        except:\n",
    "            passed = 0\n",
    "            print(\"trying to download \", l)\n",
    "            time.sleep(5)\n",
    "            \n",
    "    return page"
   ]
  },
  {
   "cell_type": "markdown",
   "id": "practical-species",
   "metadata": {},
   "source": [
    "# ADP"
   ]
  },
  {
   "cell_type": "code",
   "execution_count": null,
   "id": "awful-integration",
   "metadata": {},
   "outputs": [],
   "source": []
  },
  {
   "cell_type": "code",
   "execution_count": 5,
   "id": "placed-album",
   "metadata": {},
   "outputs": [],
   "source": [
    "pg = get_page(\"https://www.fantasypros.com/nfl/adp/half-point-ppr-overall.php?year=2021\")\n",
    "a = BeautifulSoup(pg.content)"
   ]
  },
  {
   "cell_type": "code",
   "execution_count": 6,
   "id": "engaged-cosmetic",
   "metadata": {},
   "outputs": [
    {
     "data": {
      "text/plain": [
       "['fp-player-link', 'fp-id-16393']"
      ]
     },
     "execution_count": 6,
     "metadata": {},
     "output_type": "execute_result"
    }
   ],
   "source": [
    "a.find(\"tbody\").find_all(\"tr\")[0].find_all(\"a\")[-1][\"class\"]"
   ]
  },
  {
   "cell_type": "code",
   "execution_count": null,
   "id": "acquired-kelly",
   "metadata": {},
   "outputs": [],
   "source": []
  },
  {
   "cell_type": "code",
   "execution_count": 7,
   "id": "boolean-thesis",
   "metadata": {},
   "outputs": [],
   "source": [
    "def get_adp(year_start, year_end, bl):\n",
    "    years = np.arange(year_start, year_end+1)\n",
    "    \n",
    "    dfs = []\n",
    "    for y in tqdm(years):\n",
    "        page = get_page(bl+str(y))\n",
    "        \n",
    "        df = pd.read_html(page.content)[0]\n",
    "        try:\n",
    "            cols1 = df.columns.droplevel(1)\n",
    "            cols0 = df.columns.droplevel(0)\n",
    "            \n",
    "            new_c = []\n",
    "            for i in range(0, len(cols1), 1):\n",
    "                if \"Unnamed\" in cols1[i]:\n",
    "                    new_c.append(cols0[i])\n",
    "                else:\n",
    "                    new_c.append(cols0[i]+\"_\"+cols1[i])\n",
    "            df.columns = new_c\n",
    "        except:\n",
    "            pass\n",
    "        df[\"Season\"] = [y]*len(df)\n",
    "        \n",
    "        code = BeautifulSoup(page.content)\n",
    "        trs = code.find(\"tbody\").find_all(\"tr\")\n",
    "        \n",
    "        ids = []\n",
    "        for tr in trs:\n",
    "            #print(tr)\n",
    "            nid = int(tr.find_all(\"a\")[-1][\"class\"][-1].split(\"-\")[-1])\n",
    "            #print(nid)\n",
    "            ids.append(nid)\n",
    "        \n",
    "        \n",
    "        df[\"pid\"] = ids\n",
    "        dfs.append(df)\n",
    "    \n",
    "    return dfs"
   ]
  },
  {
   "cell_type": "code",
   "execution_count": 8,
   "id": "critical-brisbane",
   "metadata": {},
   "outputs": [
    {
     "name": "stderr",
     "output_type": "stream",
     "text": [
      "100%|██████████| 6/6 [00:09<00:00,  1.54s/it]\n"
     ]
    }
   ],
   "source": [
    "adps = get_adp(2018, 2023, \"https://www.fantasypros.com/nfl/adp/half-point-ppr-overall.php?year=\")"
   ]
  },
  {
   "cell_type": "markdown",
   "id": "adjusted-sweet",
   "metadata": {},
   "source": [
    "# RBS"
   ]
  },
  {
   "cell_type": "code",
   "execution_count": null,
   "id": "middle-artist",
   "metadata": {},
   "outputs": [],
   "source": []
  },
  {
   "cell_type": "code",
   "execution_count": 10,
   "id": "super-bahamas",
   "metadata": {},
   "outputs": [],
   "source": [
    "#adps[-2]"
   ]
  },
  {
   "cell_type": "code",
   "execution_count": null,
   "id": "tired-compensation",
   "metadata": {},
   "outputs": [],
   "source": []
  },
  {
   "cell_type": "code",
   "execution_count": 11,
   "id": "supreme-restriction",
   "metadata": {},
   "outputs": [
    {
     "name": "stderr",
     "output_type": "stream",
     "text": [
      "100%|██████████| 9/9 [00:18<00:00,  2.09s/it]\n"
     ]
    }
   ],
   "source": [
    "rbs = get_adp(2015, 2023, \"https://www.fantasypros.com/nfl/stats/rb.php?scoring=HALF&range=full&year=\")"
   ]
  },
  {
   "cell_type": "code",
   "execution_count": 12,
   "id": "linear-passing",
   "metadata": {},
   "outputs": [
    {
     "name": "stderr",
     "output_type": "stream",
     "text": [
      "100%|██████████| 9/9 [00:14<00:00,  1.59s/it]\n"
     ]
    }
   ],
   "source": [
    "wrs = get_adp(2015, 2023, \"https://www.fantasypros.com/nfl/stats/wr.php?scoring=HALF&range=full&year=\")"
   ]
  },
  {
   "cell_type": "code",
   "execution_count": 13,
   "id": "danish-credit",
   "metadata": {},
   "outputs": [
    {
     "name": "stderr",
     "output_type": "stream",
     "text": [
      "100%|██████████| 9/9 [00:15<00:00,  1.72s/it]\n"
     ]
    }
   ],
   "source": [
    "tes = get_adp(2015, 2023, \"https://www.fantasypros.com/nfl/stats/te.php?scoring=HALF&range=full&year=\")"
   ]
  },
  {
   "cell_type": "code",
   "execution_count": 14,
   "id": "angry-attraction",
   "metadata": {},
   "outputs": [
    {
     "name": "stderr",
     "output_type": "stream",
     "text": [
      "100%|██████████| 9/9 [00:15<00:00,  1.74s/it]\n"
     ]
    }
   ],
   "source": [
    "qbs = get_adp(2015, 2023, \"https://www.fantasypros.com/nfl/stats/qb.php?scoring=HALF&range=full&year=\")"
   ]
  },
  {
   "cell_type": "code",
   "execution_count": 15,
   "id": "wrong-ebony",
   "metadata": {},
   "outputs": [],
   "source": [
    "line = pd.concat(rbs+wrs+tes)\n",
    "\n",
    "qb = pd.concat(qbs)"
   ]
  },
  {
   "cell_type": "code",
   "execution_count": 16,
   "id": "painful-potter",
   "metadata": {},
   "outputs": [],
   "source": [
    "adp = pd.concat(adps)"
   ]
  },
  {
   "cell_type": "code",
   "execution_count": null,
   "id": "expensive-admission",
   "metadata": {},
   "outputs": [],
   "source": []
  },
  {
   "cell_type": "code",
   "execution_count": 17,
   "id": "useful-senate",
   "metadata": {},
   "outputs": [],
   "source": [
    "line_comp = line.merge(adp, how=\"left\", on=[\"pid\", \"Season\"])"
   ]
  },
  {
   "cell_type": "code",
   "execution_count": null,
   "id": "elegant-catalyst",
   "metadata": {},
   "outputs": [],
   "source": []
  },
  {
   "cell_type": "code",
   "execution_count": 18,
   "id": "liked-algeria",
   "metadata": {},
   "outputs": [],
   "source": [
    "qb_comp = qb.merge(adp, how=\"left\", on=[\"pid\", \"Season\"])"
   ]
  },
  {
   "cell_type": "code",
   "execution_count": 19,
   "id": "controlled-dance",
   "metadata": {},
   "outputs": [],
   "source": [
    "rbs_comp = pd.concat(rbs).merge(adp, how=\"left\", on=[\"pid\", \"Season\"])\n",
    "wrs_comp = pd.concat(wrs).merge(adp, how=\"left\", on=[\"pid\", \"Season\"])\n",
    "tes_comp = pd.concat(tes).merge(adp, how=\"left\", on=[\"pid\", \"Season\"])"
   ]
  },
  {
   "cell_type": "code",
   "execution_count": 20,
   "id": "elder-proxy",
   "metadata": {},
   "outputs": [],
   "source": [
    "rbs_comp.to_csv(\"raw data/rb_raw.csv\", index=False)\n",
    "wrs_comp.to_csv(\"raw data/wr_raw.csv\", index=False)\n",
    "tes_comp.to_csv(\"raw data/te_raw.csv\", index=False)"
   ]
  },
  {
   "cell_type": "code",
   "execution_count": 21,
   "id": "enclosed-lobby",
   "metadata": {},
   "outputs": [],
   "source": [
    "qb_comp.to_csv(\"raw data/qb_raw.csv\", index=False)\n",
    "line_comp.to_csv(\"raw data/line_raw.csv\", index=False)"
   ]
  },
  {
   "cell_type": "markdown",
   "id": "british-detroit",
   "metadata": {},
   "source": [
    "# PROJS"
   ]
  },
  {
   "cell_type": "code",
   "execution_count": 152,
   "id": "confused-investment",
   "metadata": {},
   "outputs": [
    {
     "name": "stderr",
     "output_type": "stream",
     "text": [
      "100%|██████████| 4/4 [00:04<00:00,  1.19s/it]\n"
     ]
    }
   ],
   "source": [
    "proj_rb = pd.concat(get_adp(2020, 2023, \"https://www.fantasypros.com/nfl/projections/rb.php?week=draft&scoring=HALF&range=full&year=\"))"
   ]
  },
  {
   "cell_type": "code",
   "execution_count": 153,
   "id": "automatic-auditor",
   "metadata": {},
   "outputs": [
    {
     "name": "stderr",
     "output_type": "stream",
     "text": [
      "100%|██████████| 4/4 [00:03<00:00,  1.15it/s]\n"
     ]
    }
   ],
   "source": [
    "proj_wr = pd.concat(get_adp(2020, 2023, \"https://www.fantasypros.com/nfl/projections/wr.php?week=draft&scoring=HALF&range=full&year=\"))"
   ]
  },
  {
   "cell_type": "code",
   "execution_count": 154,
   "id": "modern-environment",
   "metadata": {},
   "outputs": [
    {
     "name": "stderr",
     "output_type": "stream",
     "text": [
      "100%|██████████| 4/4 [00:01<00:00,  2.24it/s]\n"
     ]
    }
   ],
   "source": [
    "proj_te = pd.concat(get_adp(2020, 2023, \"https://www.fantasypros.com/nfl/projections/te.php?week=draft&scoring=HALF&range=full&year=\"))"
   ]
  },
  {
   "cell_type": "code",
   "execution_count": 177,
   "id": "honest-stretch",
   "metadata": {},
   "outputs": [],
   "source": [
    "line_proj = pd.concat([proj_rb, proj_wr, proj_te])"
   ]
  },
  {
   "cell_type": "code",
   "execution_count": 178,
   "id": "compound-intensity",
   "metadata": {},
   "outputs": [],
   "source": [
    "line_proj = line_proj.merge(line_comp[[\"pid\", \"Season\", \"FPTS_MISC\", \"FPTS/G_MISC\"]], how=\"left\", on=[\"pid\", \"Season\"], suffixes = [\"_proj\", \"_real\"])"
   ]
  },
  {
   "cell_type": "code",
   "execution_count": 179,
   "id": "baking-general",
   "metadata": {},
   "outputs": [],
   "source": [
    "line_proj.to_csv(\"line_proj.csv\", index=False)"
   ]
  },
  {
   "cell_type": "code",
   "execution_count": 184,
   "id": "increasing-celebration",
   "metadata": {},
   "outputs": [],
   "source": [
    "rb_proj = proj_rb.merge(rbs_comp[[\"pid\", \"Season\", \"FPTS_MISC\", \"FPTS/G_MISC\", \"AVG\"]], how=\"left\", on=[\"pid\", \"Season\"], suffixes = [\"_proj\", \"_real\"])"
   ]
  },
  {
   "cell_type": "code",
   "execution_count": 185,
   "id": "potential-dream",
   "metadata": {},
   "outputs": [],
   "source": [
    "rb_proj.to_csv(\"rb_proj.csv\", index=False)"
   ]
  },
  {
   "cell_type": "code",
   "execution_count": null,
   "id": "alpha-interview",
   "metadata": {},
   "outputs": [],
   "source": []
  },
  {
   "cell_type": "code",
   "execution_count": null,
   "id": "analyzed-newport",
   "metadata": {},
   "outputs": [],
   "source": []
  },
  {
   "cell_type": "markdown",
   "id": "average-bachelor",
   "metadata": {},
   "source": [
    "# NEXT SEASON"
   ]
  },
  {
   "cell_type": "code",
   "execution_count": 24,
   "id": "developed-damage",
   "metadata": {},
   "outputs": [],
   "source": [
    "qb_ns = adp[(adp.Season == 2023) & (adp.POS.str.contains(\"QB\"))]"
   ]
  },
  {
   "cell_type": "code",
   "execution_count": 29,
   "id": "living-national",
   "metadata": {},
   "outputs": [],
   "source": [
    "rb_ns = adp[(adp.Season == 2023) & (adp.POS.str.contains(\"RB\"))]\n",
    "wr_ns = adp[(adp.Season == 2023) & (adp.POS.str.contains(\"WR\"))]\n",
    "te_ns = adp[(adp.Season == 2023) & (adp.POS.str.contains(\"TE\"))]"
   ]
  },
  {
   "cell_type": "code",
   "execution_count": 30,
   "id": "automotive-ecuador",
   "metadata": {},
   "outputs": [],
   "source": [
    "qb_ns.to_csv(\"ns data/qb_ns.csv\", index=False)\n",
    "rb_ns.to_csv(\"ns data/rb_ns.csv\", index=False)\n",
    "wr_ns.to_csv(\"ns data/wr_ns.csv\", index=False)\n",
    "te_ns.to_csv(\"ns data/te_ns.csv\", index=False) "
   ]
  },
  {
   "cell_type": "code",
   "execution_count": 49,
   "id": "hungarian-graph",
   "metadata": {},
   "outputs": [
    {
     "data": {
      "text/plain": [
       "17.075"
      ]
     },
     "execution_count": 49,
     "metadata": {},
     "output_type": "execute_result"
    }
   ],
   "source": [
    "rbs_comp[(rbs_comp.pid == 16483) & (rbs_comp.Season != 2023)][\"FPTS/G_MISC\"].tail(4).mean()"
   ]
  },
  {
   "cell_type": "code",
   "execution_count": null,
   "id": "interested-wagner",
   "metadata": {},
   "outputs": [],
   "source": []
  }
 ],
 "metadata": {
  "kernelspec": {
   "display_name": "Python 3",
   "language": "python",
   "name": "python3"
  },
  "language_info": {
   "codemirror_mode": {
    "name": "ipython",
    "version": 3
   },
   "file_extension": ".py",
   "mimetype": "text/x-python",
   "name": "python",
   "nbconvert_exporter": "python",
   "pygments_lexer": "ipython3",
   "version": "3.7.6"
  }
 },
 "nbformat": 4,
 "nbformat_minor": 5
}
