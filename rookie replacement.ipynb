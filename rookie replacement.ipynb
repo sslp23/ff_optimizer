{
 "cells": [
  {
   "cell_type": "code",
   "execution_count": 1,
   "id": "0c3b070d",
   "metadata": {},
   "outputs": [],
   "source": [
    "import pandas as pd\n",
    "import scipy.stats\n",
    "import numpy as np\n",
    "import os"
   ]
  },
  {
   "cell_type": "code",
   "execution_count": 2,
   "id": "6e2aa42e",
   "metadata": {},
   "outputs": [],
   "source": [
    "data = os.listdir(\"processed data\")"
   ]
  },
  {
   "cell_type": "code",
   "execution_count": 3,
   "id": "0c48590e",
   "metadata": {},
   "outputs": [],
   "source": [
    "ns_files = [a for a in data if \"ns\" in a ]"
   ]
  },
  {
   "cell_type": "code",
   "execution_count": 51,
   "id": "bb623d1a",
   "metadata": {},
   "outputs": [],
   "source": [
    "past_files = [a for a in data if (\"ns\" not in a and \"line\" not in a and \"rookie\" not in a)]"
   ]
  },
  {
   "cell_type": "code",
   "execution_count": 5,
   "id": "9ac99241",
   "metadata": {},
   "outputs": [],
   "source": [
    "df = pd.read_csv(\"processed data/\"+ns_files[0])"
   ]
  },
  {
   "cell_type": "code",
   "execution_count": null,
   "id": "0ff522c9",
   "metadata": {},
   "outputs": [],
   "source": []
  },
  {
   "cell_type": "code",
   "execution_count": null,
   "id": "ce4661dd",
   "metadata": {},
   "outputs": [],
   "source": []
  },
  {
   "cell_type": "code",
   "execution_count": null,
   "id": "75d30866",
   "metadata": {},
   "outputs": [],
   "source": []
  },
  {
   "cell_type": "code",
   "execution_count": null,
   "id": "fb475f94",
   "metadata": {},
   "outputs": [],
   "source": []
  },
  {
   "cell_type": "code",
   "execution_count": null,
   "id": "dee026af",
   "metadata": {},
   "outputs": [],
   "source": []
  },
  {
   "cell_type": "code",
   "execution_count": 14,
   "id": "94edf1aa",
   "metadata": {},
   "outputs": [
    {
     "data": {
      "text/plain": [
       "29"
      ]
     },
     "execution_count": 14,
     "metadata": {},
     "output_type": "execute_result"
    }
   ],
   "source": [
    "len(rep_values)"
   ]
  },
  {
   "cell_type": "code",
   "execution_count": 25,
   "id": "16754ca1",
   "metadata": {},
   "outputs": [],
   "source": [
    "#len(rookie_infos.values[0][:5].tolist() + rep_values)"
   ]
  },
  {
   "cell_type": "code",
   "execution_count": 53,
   "id": "17514e07",
   "metadata": {},
   "outputs": [],
   "source": [
    "for ns, ps in zip(ns_files, past_files):\n",
    "    \n",
    "    df = pd.read_csv('processed data/'+ns)\n",
    "    pdf = pd.read_csv(\"processed data/\"+ps)\n",
    "    rep_df = df.copy()\n",
    "    \n",
    "    pos = ns[:2]\n",
    "    \n",
    "    infos = df[df[\"YDS_RUSHING/G_avg\"].isna()][[\"pid\", \"AVG\"]].values\n",
    "    \n",
    "    reps = []\n",
    "    for info in infos:\n",
    "        rookie_adp = info[1]\n",
    "        rookie_pid = info[0]\n",
    "\n",
    "        rookie_infos = rep_df[rep_df.pid == rookie_pid]\n",
    "        nearest_values = []\n",
    "        for i in pdf.Season.value_counts().index.values:\n",
    "            sdf = pdf[pdf.Season == i]\n",
    "\n",
    "            adps = sdf.AVG.values\n",
    "\n",
    "            closest_number = min(adps, key = lambda x: abs( rookie_adp - x))\n",
    "\n",
    "            closest_player = sdf[sdf.AVG == closest_number].values\n",
    "\n",
    "\n",
    "            nearest_values.append(closest_player[0][5:-2].tolist())\n",
    "\n",
    "        rep_values = pd.DataFrame(nearest_values, columns = pdf.columns[5:-2]).mean(numeric_only = True).values.tolist()#.mean(axis=1)\n",
    "\n",
    "        bdf = rookie_infos.values[0][:5].tolist() + rep_values + rookie_infos.values[0][-3:].tolist()\n",
    "        reps.append(pd.DataFrame([bdf], columns=df.columns))\n",
    "\n",
    "    reps_full = pd.concat(reps)\n",
    "    new_df = pd.concat([rep_df, reps_full])\n",
    "    new_df = new_df.drop_duplicates([\"pid\"], keep=\"last\")\n",
    "\n",
    "    new_df = new_df.sort_values(\"AVG\")\n",
    "    \n",
    "    new_df.to_csv(f\"processed data/{pos}_rookie.csv\", index=False)"
   ]
  },
  {
   "cell_type": "code",
   "execution_count": null,
   "id": "2546cb30",
   "metadata": {},
   "outputs": [],
   "source": []
  },
  {
   "cell_type": "code",
   "execution_count": null,
   "id": "71beb4e6",
   "metadata": {},
   "outputs": [],
   "source": []
  },
  {
   "cell_type": "code",
   "execution_count": null,
   "id": "6c8d438c",
   "metadata": {},
   "outputs": [],
   "source": []
  },
  {
   "cell_type": "code",
   "execution_count": null,
   "id": "bea43715",
   "metadata": {},
   "outputs": [],
   "source": []
  },
  {
   "cell_type": "code",
   "execution_count": null,
   "id": "ed913798",
   "metadata": {},
   "outputs": [],
   "source": []
  },
  {
   "cell_type": "code",
   "execution_count": null,
   "id": "4cf4eea6",
   "metadata": {},
   "outputs": [],
   "source": [
    "\n"
   ]
  },
  {
   "cell_type": "code",
   "execution_count": null,
   "id": "7dbc7877",
   "metadata": {},
   "outputs": [],
   "source": []
  },
  {
   "cell_type": "code",
   "execution_count": null,
   "id": "98fff0fe",
   "metadata": {},
   "outputs": [],
   "source": []
  }
 ],
 "metadata": {
  "kernelspec": {
   "display_name": "Python 3 (ipykernel)",
   "language": "python",
   "name": "python3"
  },
  "language_info": {
   "codemirror_mode": {
    "name": "ipython",
    "version": 3
   },
   "file_extension": ".py",
   "mimetype": "text/x-python",
   "name": "python",
   "nbconvert_exporter": "python",
   "pygments_lexer": "ipython3",
   "version": "3.11.3"
  }
 },
 "nbformat": 4,
 "nbformat_minor": 5
}
