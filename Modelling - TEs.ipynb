{
 "cells": [
  {
   "cell_type": "code",
   "execution_count": 1,
   "id": "94b3a101",
   "metadata": {},
   "outputs": [],
   "source": [
    "import pandas as pd\n",
    "pd.options.mode.chained_assignment = None  # default='warn'\n",
    "\n",
    "import numpy as np\n",
    "from tqdm import tqdm"
   ]
  },
  {
   "cell_type": "code",
   "execution_count": 2,
   "id": "e392e84c",
   "metadata": {},
   "outputs": [],
   "source": [
    "df = pd.read_csv(f\"processed data/te_proc_data.csv\")"
   ]
  },
  {
   "cell_type": "code",
   "execution_count": 3,
   "id": "3c14a55a",
   "metadata": {},
   "outputs": [],
   "source": [
    "df = df[df[\"Rookie\"] == 0]"
   ]
  },
  {
   "cell_type": "code",
   "execution_count": null,
   "id": "fe6863a8",
   "metadata": {},
   "outputs": [],
   "source": []
  },
  {
   "cell_type": "code",
   "execution_count": 4,
   "id": "012d8644",
   "metadata": {},
   "outputs": [
    {
     "data": {
      "text/html": [
       "<div>\n",
       "<style scoped>\n",
       "    .dataframe tbody tr th:only-of-type {\n",
       "        vertical-align: middle;\n",
       "    }\n",
       "\n",
       "    .dataframe tbody tr th {\n",
       "        vertical-align: top;\n",
       "    }\n",
       "\n",
       "    .dataframe thead th {\n",
       "        text-align: right;\n",
       "    }\n",
       "</style>\n",
       "<table border=\"1\" class=\"dataframe\">\n",
       "  <thead>\n",
       "    <tr style=\"text-align: right;\">\n",
       "      <th></th>\n",
       "      <th>FPTS_TG</th>\n",
       "    </tr>\n",
       "  </thead>\n",
       "  <tbody>\n",
       "    <tr>\n",
       "      <th>pid</th>\n",
       "      <td>-0.001598</td>\n",
       "    </tr>\n",
       "    <tr>\n",
       "      <th>Season</th>\n",
       "      <td>0.190213</td>\n",
       "    </tr>\n",
       "    <tr>\n",
       "      <th>AVG</th>\n",
       "      <td>-0.648411</td>\n",
       "    </tr>\n",
       "    <tr>\n",
       "      <th>FPTS_TG</th>\n",
       "      <td>1.000000</td>\n",
       "    </tr>\n",
       "    <tr>\n",
       "      <th>FPTS/G_MISC_avg</th>\n",
       "      <td>0.640463</td>\n",
       "    </tr>\n",
       "    <tr>\n",
       "      <th>ATT_RUSHING/G_avg</th>\n",
       "      <td>-0.010697</td>\n",
       "    </tr>\n",
       "    <tr>\n",
       "      <th>YDS_RUSHING/G_avg</th>\n",
       "      <td>-0.004092</td>\n",
       "    </tr>\n",
       "    <tr>\n",
       "      <th>TD_RUSHING/G_avg</th>\n",
       "      <td>0.017059</td>\n",
       "    </tr>\n",
       "    <tr>\n",
       "      <th>REC_RECEIVING/G_avg</th>\n",
       "      <td>0.557850</td>\n",
       "    </tr>\n",
       "    <tr>\n",
       "      <th>TGT_RECEIVING/G_avg</th>\n",
       "      <td>0.538935</td>\n",
       "    </tr>\n",
       "    <tr>\n",
       "      <th>YDS_RECEIVING/G_avg</th>\n",
       "      <td>0.606269</td>\n",
       "    </tr>\n",
       "    <tr>\n",
       "      <th>TD_RECEIVING/G_avg</th>\n",
       "      <td>0.419335</td>\n",
       "    </tr>\n",
       "    <tr>\n",
       "      <th>FL_MISC/G_avg</th>\n",
       "      <td>0.198647</td>\n",
       "    </tr>\n",
       "    <tr>\n",
       "      <th>YDS/ATT_RUSHING_avg</th>\n",
       "      <td>0.083989</td>\n",
       "    </tr>\n",
       "    <tr>\n",
       "      <th>TD/ATT_RUSHING_avg</th>\n",
       "      <td>0.325865</td>\n",
       "    </tr>\n",
       "    <tr>\n",
       "      <th>YDS/REC_RECEIVING_avg</th>\n",
       "      <td>0.244324</td>\n",
       "    </tr>\n",
       "    <tr>\n",
       "      <th>YDS/TGT_RECEIVING_avg</th>\n",
       "      <td>0.344567</td>\n",
       "    </tr>\n",
       "    <tr>\n",
       "      <th>REC/TGT_RECEIVING_avg</th>\n",
       "      <td>0.172927</td>\n",
       "    </tr>\n",
       "    <tr>\n",
       "      <th>TD/TGT_RECEIVING_avg</th>\n",
       "      <td>0.013739</td>\n",
       "    </tr>\n",
       "    <tr>\n",
       "      <th>FPTS/G_MISC_ewm</th>\n",
       "      <td>0.662162</td>\n",
       "    </tr>\n",
       "    <tr>\n",
       "      <th>ATT_RUSHING/G_ewm</th>\n",
       "      <td>-0.015476</td>\n",
       "    </tr>\n",
       "    <tr>\n",
       "      <th>YDS_RUSHING/G_ewm</th>\n",
       "      <td>-0.010338</td>\n",
       "    </tr>\n",
       "    <tr>\n",
       "      <th>TD_RUSHING/G_ewm</th>\n",
       "      <td>0.010585</td>\n",
       "    </tr>\n",
       "    <tr>\n",
       "      <th>REC_RECEIVING/G_ewm</th>\n",
       "      <td>0.580050</td>\n",
       "    </tr>\n",
       "    <tr>\n",
       "      <th>TGT_RECEIVING/G_ewm</th>\n",
       "      <td>0.560965</td>\n",
       "    </tr>\n",
       "    <tr>\n",
       "      <th>YDS_RECEIVING/G_ewm</th>\n",
       "      <td>0.627964</td>\n",
       "    </tr>\n",
       "    <tr>\n",
       "      <th>TD_RECEIVING/G_ewm</th>\n",
       "      <td>0.438180</td>\n",
       "    </tr>\n",
       "    <tr>\n",
       "      <th>FL_MISC/G_ewm</th>\n",
       "      <td>0.179099</td>\n",
       "    </tr>\n",
       "    <tr>\n",
       "      <th>YDS/ATT_RUSHING_ewm</th>\n",
       "      <td>0.086804</td>\n",
       "    </tr>\n",
       "    <tr>\n",
       "      <th>TD/ATT_RUSHING_ewm</th>\n",
       "      <td>0.336014</td>\n",
       "    </tr>\n",
       "    <tr>\n",
       "      <th>YDS/REC_RECEIVING_ewm</th>\n",
       "      <td>0.258881</td>\n",
       "    </tr>\n",
       "    <tr>\n",
       "      <th>YDS/TGT_RECEIVING_ewm</th>\n",
       "      <td>0.346521</td>\n",
       "    </tr>\n",
       "    <tr>\n",
       "      <th>REC/TGT_RECEIVING_ewm</th>\n",
       "      <td>0.170861</td>\n",
       "    </tr>\n",
       "    <tr>\n",
       "      <th>TD/TGT_RECEIVING_ewm</th>\n",
       "      <td>0.005849</td>\n",
       "    </tr>\n",
       "    <tr>\n",
       "      <th>Rookie</th>\n",
       "      <td>NaN</td>\n",
       "    </tr>\n",
       "    <tr>\n",
       "      <th>Career_Years</th>\n",
       "      <td>0.161049</td>\n",
       "    </tr>\n",
       "  </tbody>\n",
       "</table>\n",
       "</div>"
      ],
      "text/plain": [
       "                        FPTS_TG\n",
       "pid                   -0.001598\n",
       "Season                 0.190213\n",
       "AVG                   -0.648411\n",
       "FPTS_TG                1.000000\n",
       "FPTS/G_MISC_avg        0.640463\n",
       "ATT_RUSHING/G_avg     -0.010697\n",
       "YDS_RUSHING/G_avg     -0.004092\n",
       "TD_RUSHING/G_avg       0.017059\n",
       "REC_RECEIVING/G_avg    0.557850\n",
       "TGT_RECEIVING/G_avg    0.538935\n",
       "YDS_RECEIVING/G_avg    0.606269\n",
       "TD_RECEIVING/G_avg     0.419335\n",
       "FL_MISC/G_avg          0.198647\n",
       "YDS/ATT_RUSHING_avg    0.083989\n",
       "TD/ATT_RUSHING_avg     0.325865\n",
       "YDS/REC_RECEIVING_avg  0.244324\n",
       "YDS/TGT_RECEIVING_avg  0.344567\n",
       "REC/TGT_RECEIVING_avg  0.172927\n",
       "TD/TGT_RECEIVING_avg   0.013739\n",
       "FPTS/G_MISC_ewm        0.662162\n",
       "ATT_RUSHING/G_ewm     -0.015476\n",
       "YDS_RUSHING/G_ewm     -0.010338\n",
       "TD_RUSHING/G_ewm       0.010585\n",
       "REC_RECEIVING/G_ewm    0.580050\n",
       "TGT_RECEIVING/G_ewm    0.560965\n",
       "YDS_RECEIVING/G_ewm    0.627964\n",
       "TD_RECEIVING/G_ewm     0.438180\n",
       "FL_MISC/G_ewm          0.179099\n",
       "YDS/ATT_RUSHING_ewm    0.086804\n",
       "TD/ATT_RUSHING_ewm     0.336014\n",
       "YDS/REC_RECEIVING_ewm  0.258881\n",
       "YDS/TGT_RECEIVING_ewm  0.346521\n",
       "REC/TGT_RECEIVING_ewm  0.170861\n",
       "TD/TGT_RECEIVING_ewm   0.005849\n",
       "Rookie                      NaN\n",
       "Career_Years           0.161049"
      ]
     },
     "execution_count": 4,
     "metadata": {},
     "output_type": "execute_result"
    }
   ],
   "source": [
    "corrs = df.corr(numeric_only=True)\n",
    "corrs[[\"FPTS_TG\"]]"
   ]
  },
  {
   "cell_type": "code",
   "execution_count": 5,
   "id": "db3edc8a",
   "metadata": {},
   "outputs": [],
   "source": [
    "rel_cols = [\"Season\"]\n",
    "for i, vals in corrs[[\"FPTS_TG\"]].iterrows():\n",
    "    val = vals[\"FPTS_TG\"]\n",
    "    if (val > 0.4 or val < -0.4) and \"_ls\" not in i:\n",
    "        rel_cols.append(i)"
   ]
  },
  {
   "cell_type": "code",
   "execution_count": 6,
   "id": "79397dd3",
   "metadata": {},
   "outputs": [],
   "source": [
    "rel_df = df[rel_cols]"
   ]
  },
  {
   "cell_type": "code",
   "execution_count": 7,
   "id": "68e52ffd",
   "metadata": {},
   "outputs": [],
   "source": [
    "for col in rel_df.columns[2:]:\n",
    "    if \"FPTS\" not in col:\n",
    "        if \"_avg\" in col:\n",
    "            new_c = rel_df[\"FPTS/G_MISC_avg\"]*rel_df[col]\n",
    "        elif \"_ewm\" in col:\n",
    "            new_c = rel_df[\"FPTS/G_MISC_ewm\"]*rel_df[col]\n",
    "        \n",
    "        new_name = col+\"_FP\"\n",
    "\n",
    "        rel_df[new_name] = new_c"
   ]
  },
  {
   "cell_type": "code",
   "execution_count": 8,
   "id": "11030cab",
   "metadata": {},
   "outputs": [
    {
     "data": {
      "text/html": [
       "<div>\n",
       "<style scoped>\n",
       "    .dataframe tbody tr th:only-of-type {\n",
       "        vertical-align: middle;\n",
       "    }\n",
       "\n",
       "    .dataframe tbody tr th {\n",
       "        vertical-align: top;\n",
       "    }\n",
       "\n",
       "    .dataframe thead th {\n",
       "        text-align: right;\n",
       "    }\n",
       "</style>\n",
       "<table border=\"1\" class=\"dataframe\">\n",
       "  <thead>\n",
       "    <tr style=\"text-align: right;\">\n",
       "      <th></th>\n",
       "      <th>FPTS_TG</th>\n",
       "    </tr>\n",
       "  </thead>\n",
       "  <tbody>\n",
       "    <tr>\n",
       "      <th>Season</th>\n",
       "      <td>0.190213</td>\n",
       "    </tr>\n",
       "    <tr>\n",
       "      <th>AVG</th>\n",
       "      <td>-0.648411</td>\n",
       "    </tr>\n",
       "    <tr>\n",
       "      <th>FPTS_TG</th>\n",
       "      <td>1.000000</td>\n",
       "    </tr>\n",
       "    <tr>\n",
       "      <th>FPTS/G_MISC_avg</th>\n",
       "      <td>0.640463</td>\n",
       "    </tr>\n",
       "    <tr>\n",
       "      <th>REC_RECEIVING/G_avg</th>\n",
       "      <td>0.557850</td>\n",
       "    </tr>\n",
       "    <tr>\n",
       "      <th>TGT_RECEIVING/G_avg</th>\n",
       "      <td>0.538935</td>\n",
       "    </tr>\n",
       "    <tr>\n",
       "      <th>YDS_RECEIVING/G_avg</th>\n",
       "      <td>0.606269</td>\n",
       "    </tr>\n",
       "    <tr>\n",
       "      <th>TD_RECEIVING/G_avg</th>\n",
       "      <td>0.419335</td>\n",
       "    </tr>\n",
       "    <tr>\n",
       "      <th>FPTS/G_MISC_ewm</th>\n",
       "      <td>0.662162</td>\n",
       "    </tr>\n",
       "    <tr>\n",
       "      <th>REC_RECEIVING/G_ewm</th>\n",
       "      <td>0.580050</td>\n",
       "    </tr>\n",
       "    <tr>\n",
       "      <th>TGT_RECEIVING/G_ewm</th>\n",
       "      <td>0.560965</td>\n",
       "    </tr>\n",
       "    <tr>\n",
       "      <th>YDS_RECEIVING/G_ewm</th>\n",
       "      <td>0.627964</td>\n",
       "    </tr>\n",
       "    <tr>\n",
       "      <th>TD_RECEIVING/G_ewm</th>\n",
       "      <td>0.438180</td>\n",
       "    </tr>\n",
       "    <tr>\n",
       "      <th>REC_RECEIVING/G_avg_FP</th>\n",
       "      <td>0.613462</td>\n",
       "    </tr>\n",
       "    <tr>\n",
       "      <th>TGT_RECEIVING/G_avg_FP</th>\n",
       "      <td>0.616306</td>\n",
       "    </tr>\n",
       "    <tr>\n",
       "      <th>YDS_RECEIVING/G_avg_FP</th>\n",
       "      <td>0.637096</td>\n",
       "    </tr>\n",
       "    <tr>\n",
       "      <th>TD_RECEIVING/G_avg_FP</th>\n",
       "      <td>0.547925</td>\n",
       "    </tr>\n",
       "    <tr>\n",
       "      <th>REC_RECEIVING/G_ewm_FP</th>\n",
       "      <td>0.637680</td>\n",
       "    </tr>\n",
       "    <tr>\n",
       "      <th>TGT_RECEIVING/G_ewm_FP</th>\n",
       "      <td>0.640412</td>\n",
       "    </tr>\n",
       "    <tr>\n",
       "      <th>YDS_RECEIVING/G_ewm_FP</th>\n",
       "      <td>0.658238</td>\n",
       "    </tr>\n",
       "    <tr>\n",
       "      <th>TD_RECEIVING/G_ewm_FP</th>\n",
       "      <td>0.574757</td>\n",
       "    </tr>\n",
       "  </tbody>\n",
       "</table>\n",
       "</div>"
      ],
      "text/plain": [
       "                         FPTS_TG\n",
       "Season                  0.190213\n",
       "AVG                    -0.648411\n",
       "FPTS_TG                 1.000000\n",
       "FPTS/G_MISC_avg         0.640463\n",
       "REC_RECEIVING/G_avg     0.557850\n",
       "TGT_RECEIVING/G_avg     0.538935\n",
       "YDS_RECEIVING/G_avg     0.606269\n",
       "TD_RECEIVING/G_avg      0.419335\n",
       "FPTS/G_MISC_ewm         0.662162\n",
       "REC_RECEIVING/G_ewm     0.580050\n",
       "TGT_RECEIVING/G_ewm     0.560965\n",
       "YDS_RECEIVING/G_ewm     0.627964\n",
       "TD_RECEIVING/G_ewm      0.438180\n",
       "REC_RECEIVING/G_avg_FP  0.613462\n",
       "TGT_RECEIVING/G_avg_FP  0.616306\n",
       "YDS_RECEIVING/G_avg_FP  0.637096\n",
       "TD_RECEIVING/G_avg_FP   0.547925\n",
       "REC_RECEIVING/G_ewm_FP  0.637680\n",
       "TGT_RECEIVING/G_ewm_FP  0.640412\n",
       "YDS_RECEIVING/G_ewm_FP  0.658238\n",
       "TD_RECEIVING/G_ewm_FP   0.574757"
      ]
     },
     "execution_count": 8,
     "metadata": {},
     "output_type": "execute_result"
    }
   ],
   "source": [
    "corrs = rel_df.corr()\n",
    "corrs[[\"FPTS_TG\"]]"
   ]
  },
  {
   "cell_type": "code",
   "execution_count": 9,
   "id": "dc98652b",
   "metadata": {},
   "outputs": [],
   "source": [
    "model_cols = [\"Season\"]\n",
    "for i, vals in corrs[[\"FPTS_TG\"]].iterrows():\n",
    "    val = vals[\"FPTS_TG\"]\n",
    "    if val > 0.55 or val < -0.55:\n",
    "        model_cols.append(i)"
   ]
  },
  {
   "cell_type": "code",
   "execution_count": 10,
   "id": "ebba4bfd",
   "metadata": {},
   "outputs": [
    {
     "data": {
      "text/plain": [
       "['Season',\n",
       " 'AVG',\n",
       " 'FPTS_TG',\n",
       " 'FPTS/G_MISC_avg',\n",
       " 'REC_RECEIVING/G_avg',\n",
       " 'YDS_RECEIVING/G_avg',\n",
       " 'FPTS/G_MISC_ewm',\n",
       " 'REC_RECEIVING/G_ewm',\n",
       " 'TGT_RECEIVING/G_ewm',\n",
       " 'YDS_RECEIVING/G_ewm',\n",
       " 'REC_RECEIVING/G_avg_FP',\n",
       " 'TGT_RECEIVING/G_avg_FP',\n",
       " 'YDS_RECEIVING/G_avg_FP',\n",
       " 'REC_RECEIVING/G_ewm_FP',\n",
       " 'TGT_RECEIVING/G_ewm_FP',\n",
       " 'YDS_RECEIVING/G_ewm_FP',\n",
       " 'TD_RECEIVING/G_ewm_FP']"
      ]
     },
     "execution_count": 10,
     "metadata": {},
     "output_type": "execute_result"
    }
   ],
   "source": [
    "model_cols"
   ]
  },
  {
   "cell_type": "code",
   "execution_count": 11,
   "id": "5606333e",
   "metadata": {},
   "outputs": [],
   "source": [
    "import pickle\n",
    "with open(\"model features/te_feats\", \"wb\") as fp:   #Pickling\n",
    "    pickle.dump(model_cols, fp)"
   ]
  },
  {
   "cell_type": "code",
   "execution_count": 12,
   "id": "c3c4e5fd",
   "metadata": {},
   "outputs": [],
   "source": [
    "model_df = rel_df[model_cols]"
   ]
  },
  {
   "cell_type": "code",
   "execution_count": 13,
   "id": "ca926ceb",
   "metadata": {},
   "outputs": [],
   "source": [
    "from sklearn.linear_model import LinearRegression\n",
    "from sklearn.model_selection import train_test_split\n",
    "from sklearn import preprocessing"
   ]
  },
  {
   "cell_type": "code",
   "execution_count": 14,
   "id": "660e0c08",
   "metadata": {},
   "outputs": [],
   "source": [
    "X = model_df.drop([\"FPTS_TG\", \"Season\"], axis=1)\n",
    "y = model_df[[\"FPTS_TG\"]]\n",
    "X_train, X_test, y_train, y_test = train_test_split(X, y, random_state=0)\n",
    "\n",
    "lr = LinearRegression()\n",
    "sc = preprocessing.StandardScaler()\n",
    "\n",
    "X_train_sc = sc.fit_transform(X_train)\n",
    "\n",
    "X_test_sc = sc.transform(X_test)\n",
    "\n",
    "lr.fit(X_train_sc, y_train)\n",
    "y_pred = lr.predict(X_test_sc)"
   ]
  },
  {
   "cell_type": "code",
   "execution_count": 15,
   "id": "c71970b0",
   "metadata": {},
   "outputs": [],
   "source": [
    "from sklearn.metrics import r2_score, mean_absolute_error, mean_squared_error"
   ]
  },
  {
   "cell_type": "code",
   "execution_count": 16,
   "id": "280fc1eb",
   "metadata": {},
   "outputs": [],
   "source": [
    "def evaluate(y_test, y_pred):\n",
    "    mae = mean_absolute_error(y_test, y_pred)\n",
    "    mse = mean_squared_error(y_test, y_pred)\n",
    "    r2 = r2_score(y_test, y_pred)\n",
    "    \n",
    "    print(\"mae: \", mae)\n",
    "    print(\"mse: \", mse)\n",
    "    print(\"r2: \", r2)"
   ]
  },
  {
   "cell_type": "code",
   "execution_count": 17,
   "id": "7733ec3f",
   "metadata": {},
   "outputs": [
    {
     "name": "stdout",
     "output_type": "stream",
     "text": [
      "mae:  1.731131218465299\n",
      "mse:  4.827488031453941\n",
      "r2:  0.5755354568326221\n"
     ]
    }
   ],
   "source": [
    "evaluate(y_test, y_pred)"
   ]
  },
  {
   "cell_type": "code",
   "execution_count": 18,
   "id": "b8bc6ce9",
   "metadata": {},
   "outputs": [
    {
     "name": "stdout",
     "output_type": "stream",
     "text": [
      "mae:  1.74028136425031\n",
      "mse:  4.601485068558475\n",
      "r2:  0.4081061452601005\n"
     ]
    }
   ],
   "source": [
    "X_22 = model_df[model_df.Season == 2022].drop([\"FPTS_TG\", \"Season\"], axis=1)\n",
    "mdd = df[df.Season == 2022][[\"FPTS_TG\", \"Player\"]].copy()\n",
    "mdd[\"comp\"] = lr.predict(sc.transform(X_22))\n",
    "\n",
    "evaluate(mdd.FPTS_TG, mdd.comp)"
   ]
  },
  {
   "cell_type": "code",
   "execution_count": 19,
   "id": "a0a311f0",
   "metadata": {},
   "outputs": [],
   "source": [
    "from sklearn.ensemble import RandomForestRegressor"
   ]
  },
  {
   "cell_type": "code",
   "execution_count": 20,
   "id": "15d63e37",
   "metadata": {},
   "outputs": [],
   "source": [
    "from sklearn.model_selection import RandomizedSearchCV"
   ]
  },
  {
   "cell_type": "code",
   "execution_count": 21,
   "id": "19c7e4f8",
   "metadata": {},
   "outputs": [],
   "source": [
    "random_grid = {'n_estimators': [300, 500, 700],\n",
    "               'max_features': [\"sqrt\"],\n",
    "               'max_depth': [2, 5, 10, 20],\n",
    "               'min_samples_split': [2, 5, 10],\n",
    "              }"
   ]
  },
  {
   "cell_type": "code",
   "execution_count": 22,
   "id": "250b81cb",
   "metadata": {},
   "outputs": [],
   "source": [
    "rf = RandomForestRegressor()"
   ]
  },
  {
   "cell_type": "code",
   "execution_count": 23,
   "id": "53550992",
   "metadata": {},
   "outputs": [],
   "source": [
    "rf_random = RandomizedSearchCV(estimator = rf,param_distributions = random_grid,n_iter = 100, cv = 5, verbose=99, random_state=21, n_jobs = -1)"
   ]
  },
  {
   "cell_type": "code",
   "execution_count": 24,
   "id": "29ece8b2",
   "metadata": {
    "scrolled": true
   },
   "outputs": [
    {
     "name": "stdout",
     "output_type": "stream",
     "text": [
      "Fitting 5 folds for each of 36 candidates, totalling 180 fits\n"
     ]
    },
    {
     "name": "stderr",
     "output_type": "stream",
     "text": [
      "C:\\ProgramData\\anaconda3\\Lib\\site-packages\\sklearn\\model_selection\\_search.py:305: UserWarning: The total space of parameters 36 is smaller than n_iter=100. Running 36 iterations. For exhaustive searches, use GridSearchCV.\n",
      "  warnings.warn(\n",
      "C:\\ProgramData\\anaconda3\\Lib\\site-packages\\sklearn\\model_selection\\_search.py:909: DataConversionWarning: A column-vector y was passed when a 1d array was expected. Please change the shape of y to (n_samples,), for example using ravel().\n",
      "  self.best_estimator_.fit(X, y, **fit_params)\n"
     ]
    },
    {
     "data": {
      "text/html": [
       "<style>#sk-container-id-1 {color: black;background-color: white;}#sk-container-id-1 pre{padding: 0;}#sk-container-id-1 div.sk-toggleable {background-color: white;}#sk-container-id-1 label.sk-toggleable__label {cursor: pointer;display: block;width: 100%;margin-bottom: 0;padding: 0.3em;box-sizing: border-box;text-align: center;}#sk-container-id-1 label.sk-toggleable__label-arrow:before {content: \"▸\";float: left;margin-right: 0.25em;color: #696969;}#sk-container-id-1 label.sk-toggleable__label-arrow:hover:before {color: black;}#sk-container-id-1 div.sk-estimator:hover label.sk-toggleable__label-arrow:before {color: black;}#sk-container-id-1 div.sk-toggleable__content {max-height: 0;max-width: 0;overflow: hidden;text-align: left;background-color: #f0f8ff;}#sk-container-id-1 div.sk-toggleable__content pre {margin: 0.2em;color: black;border-radius: 0.25em;background-color: #f0f8ff;}#sk-container-id-1 input.sk-toggleable__control:checked~div.sk-toggleable__content {max-height: 200px;max-width: 100%;overflow: auto;}#sk-container-id-1 input.sk-toggleable__control:checked~label.sk-toggleable__label-arrow:before {content: \"▾\";}#sk-container-id-1 div.sk-estimator input.sk-toggleable__control:checked~label.sk-toggleable__label {background-color: #d4ebff;}#sk-container-id-1 div.sk-label input.sk-toggleable__control:checked~label.sk-toggleable__label {background-color: #d4ebff;}#sk-container-id-1 input.sk-hidden--visually {border: 0;clip: rect(1px 1px 1px 1px);clip: rect(1px, 1px, 1px, 1px);height: 1px;margin: -1px;overflow: hidden;padding: 0;position: absolute;width: 1px;}#sk-container-id-1 div.sk-estimator {font-family: monospace;background-color: #f0f8ff;border: 1px dotted black;border-radius: 0.25em;box-sizing: border-box;margin-bottom: 0.5em;}#sk-container-id-1 div.sk-estimator:hover {background-color: #d4ebff;}#sk-container-id-1 div.sk-parallel-item::after {content: \"\";width: 100%;border-bottom: 1px solid gray;flex-grow: 1;}#sk-container-id-1 div.sk-label:hover label.sk-toggleable__label {background-color: #d4ebff;}#sk-container-id-1 div.sk-serial::before {content: \"\";position: absolute;border-left: 1px solid gray;box-sizing: border-box;top: 0;bottom: 0;left: 50%;z-index: 0;}#sk-container-id-1 div.sk-serial {display: flex;flex-direction: column;align-items: center;background-color: white;padding-right: 0.2em;padding-left: 0.2em;position: relative;}#sk-container-id-1 div.sk-item {position: relative;z-index: 1;}#sk-container-id-1 div.sk-parallel {display: flex;align-items: stretch;justify-content: center;background-color: white;position: relative;}#sk-container-id-1 div.sk-item::before, #sk-container-id-1 div.sk-parallel-item::before {content: \"\";position: absolute;border-left: 1px solid gray;box-sizing: border-box;top: 0;bottom: 0;left: 50%;z-index: -1;}#sk-container-id-1 div.sk-parallel-item {display: flex;flex-direction: column;z-index: 1;position: relative;background-color: white;}#sk-container-id-1 div.sk-parallel-item:first-child::after {align-self: flex-end;width: 50%;}#sk-container-id-1 div.sk-parallel-item:last-child::after {align-self: flex-start;width: 50%;}#sk-container-id-1 div.sk-parallel-item:only-child::after {width: 0;}#sk-container-id-1 div.sk-dashed-wrapped {border: 1px dashed gray;margin: 0 0.4em 0.5em 0.4em;box-sizing: border-box;padding-bottom: 0.4em;background-color: white;}#sk-container-id-1 div.sk-label label {font-family: monospace;font-weight: bold;display: inline-block;line-height: 1.2em;}#sk-container-id-1 div.sk-label-container {text-align: center;}#sk-container-id-1 div.sk-container {/* jupyter's `normalize.less` sets `[hidden] { display: none; }` but bootstrap.min.css set `[hidden] { display: none !important; }` so we also need the `!important` here to be able to override the default hidden behavior on the sphinx rendered scikit-learn.org. See: https://github.com/scikit-learn/scikit-learn/issues/21755 */display: inline-block !important;position: relative;}#sk-container-id-1 div.sk-text-repr-fallback {display: none;}</style><div id=\"sk-container-id-1\" class=\"sk-top-container\"><div class=\"sk-text-repr-fallback\"><pre>RandomizedSearchCV(cv=5, estimator=RandomForestRegressor(), n_iter=100,\n",
       "                   n_jobs=-1,\n",
       "                   param_distributions={&#x27;max_depth&#x27;: [2, 5, 10, 20],\n",
       "                                        &#x27;max_features&#x27;: [&#x27;sqrt&#x27;],\n",
       "                                        &#x27;min_samples_split&#x27;: [2, 5, 10],\n",
       "                                        &#x27;n_estimators&#x27;: [300, 500, 700]},\n",
       "                   random_state=21, verbose=99)</pre><b>In a Jupyter environment, please rerun this cell to show the HTML representation or trust the notebook. <br />On GitHub, the HTML representation is unable to render, please try loading this page with nbviewer.org.</b></div><div class=\"sk-container\" hidden><div class=\"sk-item sk-dashed-wrapped\"><div class=\"sk-label-container\"><div class=\"sk-label sk-toggleable\"><input class=\"sk-toggleable__control sk-hidden--visually\" id=\"sk-estimator-id-1\" type=\"checkbox\" ><label for=\"sk-estimator-id-1\" class=\"sk-toggleable__label sk-toggleable__label-arrow\">RandomizedSearchCV</label><div class=\"sk-toggleable__content\"><pre>RandomizedSearchCV(cv=5, estimator=RandomForestRegressor(), n_iter=100,\n",
       "                   n_jobs=-1,\n",
       "                   param_distributions={&#x27;max_depth&#x27;: [2, 5, 10, 20],\n",
       "                                        &#x27;max_features&#x27;: [&#x27;sqrt&#x27;],\n",
       "                                        &#x27;min_samples_split&#x27;: [2, 5, 10],\n",
       "                                        &#x27;n_estimators&#x27;: [300, 500, 700]},\n",
       "                   random_state=21, verbose=99)</pre></div></div></div><div class=\"sk-parallel\"><div class=\"sk-parallel-item\"><div class=\"sk-item\"><div class=\"sk-label-container\"><div class=\"sk-label sk-toggleable\"><input class=\"sk-toggleable__control sk-hidden--visually\" id=\"sk-estimator-id-2\" type=\"checkbox\" ><label for=\"sk-estimator-id-2\" class=\"sk-toggleable__label sk-toggleable__label-arrow\">estimator: RandomForestRegressor</label><div class=\"sk-toggleable__content\"><pre>RandomForestRegressor()</pre></div></div></div><div class=\"sk-serial\"><div class=\"sk-item\"><div class=\"sk-estimator sk-toggleable\"><input class=\"sk-toggleable__control sk-hidden--visually\" id=\"sk-estimator-id-3\" type=\"checkbox\" ><label for=\"sk-estimator-id-3\" class=\"sk-toggleable__label sk-toggleable__label-arrow\">RandomForestRegressor</label><div class=\"sk-toggleable__content\"><pre>RandomForestRegressor()</pre></div></div></div></div></div></div></div></div></div></div>"
      ],
      "text/plain": [
       "RandomizedSearchCV(cv=5, estimator=RandomForestRegressor(), n_iter=100,\n",
       "                   n_jobs=-1,\n",
       "                   param_distributions={'max_depth': [2, 5, 10, 20],\n",
       "                                        'max_features': ['sqrt'],\n",
       "                                        'min_samples_split': [2, 5, 10],\n",
       "                                        'n_estimators': [300, 500, 700]},\n",
       "                   random_state=21, verbose=99)"
      ]
     },
     "execution_count": 24,
     "metadata": {},
     "output_type": "execute_result"
    }
   ],
   "source": [
    "rf_random.fit(X_train, y_train)"
   ]
  },
  {
   "cell_type": "code",
   "execution_count": 25,
   "id": "ad2e35a7",
   "metadata": {},
   "outputs": [
    {
     "data": {
      "text/plain": [
       "{'n_estimators': 300,\n",
       " 'min_samples_split': 10,\n",
       " 'max_features': 'sqrt',\n",
       " 'max_depth': 10}"
      ]
     },
     "execution_count": 25,
     "metadata": {},
     "output_type": "execute_result"
    }
   ],
   "source": [
    "rf_random.best_params_"
   ]
  },
  {
   "cell_type": "code",
   "execution_count": 26,
   "id": "dade585b",
   "metadata": {},
   "outputs": [
    {
     "name": "stderr",
     "output_type": "stream",
     "text": [
      "C:\\Users\\sergi\\AppData\\Local\\Temp\\ipykernel_21516\\3661070462.py:2: DataConversionWarning: A column-vector y was passed when a 1d array was expected. Please change the shape of y to (n_samples,), for example using ravel().\n",
      "  rf_opt.fit(X_train, y_train)\n"
     ]
    },
    {
     "data": {
      "text/html": [
       "<style>#sk-container-id-2 {color: black;background-color: white;}#sk-container-id-2 pre{padding: 0;}#sk-container-id-2 div.sk-toggleable {background-color: white;}#sk-container-id-2 label.sk-toggleable__label {cursor: pointer;display: block;width: 100%;margin-bottom: 0;padding: 0.3em;box-sizing: border-box;text-align: center;}#sk-container-id-2 label.sk-toggleable__label-arrow:before {content: \"▸\";float: left;margin-right: 0.25em;color: #696969;}#sk-container-id-2 label.sk-toggleable__label-arrow:hover:before {color: black;}#sk-container-id-2 div.sk-estimator:hover label.sk-toggleable__label-arrow:before {color: black;}#sk-container-id-2 div.sk-toggleable__content {max-height: 0;max-width: 0;overflow: hidden;text-align: left;background-color: #f0f8ff;}#sk-container-id-2 div.sk-toggleable__content pre {margin: 0.2em;color: black;border-radius: 0.25em;background-color: #f0f8ff;}#sk-container-id-2 input.sk-toggleable__control:checked~div.sk-toggleable__content {max-height: 200px;max-width: 100%;overflow: auto;}#sk-container-id-2 input.sk-toggleable__control:checked~label.sk-toggleable__label-arrow:before {content: \"▾\";}#sk-container-id-2 div.sk-estimator input.sk-toggleable__control:checked~label.sk-toggleable__label {background-color: #d4ebff;}#sk-container-id-2 div.sk-label input.sk-toggleable__control:checked~label.sk-toggleable__label {background-color: #d4ebff;}#sk-container-id-2 input.sk-hidden--visually {border: 0;clip: rect(1px 1px 1px 1px);clip: rect(1px, 1px, 1px, 1px);height: 1px;margin: -1px;overflow: hidden;padding: 0;position: absolute;width: 1px;}#sk-container-id-2 div.sk-estimator {font-family: monospace;background-color: #f0f8ff;border: 1px dotted black;border-radius: 0.25em;box-sizing: border-box;margin-bottom: 0.5em;}#sk-container-id-2 div.sk-estimator:hover {background-color: #d4ebff;}#sk-container-id-2 div.sk-parallel-item::after {content: \"\";width: 100%;border-bottom: 1px solid gray;flex-grow: 1;}#sk-container-id-2 div.sk-label:hover label.sk-toggleable__label {background-color: #d4ebff;}#sk-container-id-2 div.sk-serial::before {content: \"\";position: absolute;border-left: 1px solid gray;box-sizing: border-box;top: 0;bottom: 0;left: 50%;z-index: 0;}#sk-container-id-2 div.sk-serial {display: flex;flex-direction: column;align-items: center;background-color: white;padding-right: 0.2em;padding-left: 0.2em;position: relative;}#sk-container-id-2 div.sk-item {position: relative;z-index: 1;}#sk-container-id-2 div.sk-parallel {display: flex;align-items: stretch;justify-content: center;background-color: white;position: relative;}#sk-container-id-2 div.sk-item::before, #sk-container-id-2 div.sk-parallel-item::before {content: \"\";position: absolute;border-left: 1px solid gray;box-sizing: border-box;top: 0;bottom: 0;left: 50%;z-index: -1;}#sk-container-id-2 div.sk-parallel-item {display: flex;flex-direction: column;z-index: 1;position: relative;background-color: white;}#sk-container-id-2 div.sk-parallel-item:first-child::after {align-self: flex-end;width: 50%;}#sk-container-id-2 div.sk-parallel-item:last-child::after {align-self: flex-start;width: 50%;}#sk-container-id-2 div.sk-parallel-item:only-child::after {width: 0;}#sk-container-id-2 div.sk-dashed-wrapped {border: 1px dashed gray;margin: 0 0.4em 0.5em 0.4em;box-sizing: border-box;padding-bottom: 0.4em;background-color: white;}#sk-container-id-2 div.sk-label label {font-family: monospace;font-weight: bold;display: inline-block;line-height: 1.2em;}#sk-container-id-2 div.sk-label-container {text-align: center;}#sk-container-id-2 div.sk-container {/* jupyter's `normalize.less` sets `[hidden] { display: none; }` but bootstrap.min.css set `[hidden] { display: none !important; }` so we also need the `!important` here to be able to override the default hidden behavior on the sphinx rendered scikit-learn.org. See: https://github.com/scikit-learn/scikit-learn/issues/21755 */display: inline-block !important;position: relative;}#sk-container-id-2 div.sk-text-repr-fallback {display: none;}</style><div id=\"sk-container-id-2\" class=\"sk-top-container\"><div class=\"sk-text-repr-fallback\"><pre>RandomForestRegressor(max_depth=20, max_features=&#x27;sqrt&#x27;, min_samples_split=10,\n",
       "                      n_estimators=300, random_state=0)</pre><b>In a Jupyter environment, please rerun this cell to show the HTML representation or trust the notebook. <br />On GitHub, the HTML representation is unable to render, please try loading this page with nbviewer.org.</b></div><div class=\"sk-container\" hidden><div class=\"sk-item\"><div class=\"sk-estimator sk-toggleable\"><input class=\"sk-toggleable__control sk-hidden--visually\" id=\"sk-estimator-id-4\" type=\"checkbox\" checked><label for=\"sk-estimator-id-4\" class=\"sk-toggleable__label sk-toggleable__label-arrow\">RandomForestRegressor</label><div class=\"sk-toggleable__content\"><pre>RandomForestRegressor(max_depth=20, max_features=&#x27;sqrt&#x27;, min_samples_split=10,\n",
       "                      n_estimators=300, random_state=0)</pre></div></div></div></div></div>"
      ],
      "text/plain": [
       "RandomForestRegressor(max_depth=20, max_features='sqrt', min_samples_split=10,\n",
       "                      n_estimators=300, random_state=0)"
      ]
     },
     "execution_count": 26,
     "metadata": {},
     "output_type": "execute_result"
    }
   ],
   "source": [
    "rf_opt = RandomForestRegressor(max_depth=20, max_features=\"sqrt\", min_samples_split = 10, n_estimators=300, random_state=0)\n",
    "rf_opt.fit(X_train, y_train)"
   ]
  },
  {
   "cell_type": "code",
   "execution_count": 27,
   "id": "fedf1532",
   "metadata": {},
   "outputs": [],
   "source": [
    "y_pred = rf_opt.predict(X_test)"
   ]
  },
  {
   "cell_type": "code",
   "execution_count": 28,
   "id": "8abfe7ab",
   "metadata": {},
   "outputs": [
    {
     "name": "stdout",
     "output_type": "stream",
     "text": [
      "mae:  1.2965943821170698\n",
      "mse:  2.7478401567547017\n",
      "r2:  0.7849981759505931\n"
     ]
    }
   ],
   "source": [
    "evaluate(y_train, rf_opt.predict(X_train))"
   ]
  },
  {
   "cell_type": "code",
   "execution_count": 29,
   "id": "6c261b93",
   "metadata": {},
   "outputs": [
    {
     "name": "stdout",
     "output_type": "stream",
     "text": [
      "mae:  1.4119440232268943\n",
      "mse:  3.2349904783610386\n",
      "r2:  0.5838797788636888\n"
     ]
    }
   ],
   "source": [
    "X_22 = model_df[model_df.Season == 2022].drop([\"FPTS_TG\", \"Season\"], axis=1)\n",
    "mdd = df[df.Season == 2022][[\"FPTS_TG\", \"Player\"]].copy()\n",
    "mdd[\"comp\"] = rf_opt.predict((X_22))\n",
    "\n",
    "evaluate(mdd.FPTS_TG, mdd.comp)"
   ]
  },
  {
   "cell_type": "code",
   "execution_count": 30,
   "id": "1bf5ce40",
   "metadata": {},
   "outputs": [
    {
     "data": {
      "text/html": [
       "<div>\n",
       "<style scoped>\n",
       "    .dataframe tbody tr th:only-of-type {\n",
       "        vertical-align: middle;\n",
       "    }\n",
       "\n",
       "    .dataframe tbody tr th {\n",
       "        vertical-align: top;\n",
       "    }\n",
       "\n",
       "    .dataframe thead th {\n",
       "        text-align: right;\n",
       "    }\n",
       "</style>\n",
       "<table border=\"1\" class=\"dataframe\">\n",
       "  <thead>\n",
       "    <tr style=\"text-align: right;\">\n",
       "      <th></th>\n",
       "      <th>FPTS_TG</th>\n",
       "      <th>Player</th>\n",
       "      <th>comp</th>\n",
       "    </tr>\n",
       "  </thead>\n",
       "  <tbody>\n",
       "    <tr>\n",
       "      <th>244</th>\n",
       "      <td>15.4</td>\n",
       "      <td>Travis Kelce (KC)</td>\n",
       "      <td>13.569053</td>\n",
       "    </tr>\n",
       "    <tr>\n",
       "      <th>245</th>\n",
       "      <td>10.1</td>\n",
       "      <td>T.J. Hockenson (MIN)</td>\n",
       "      <td>7.188012</td>\n",
       "    </tr>\n",
       "    <tr>\n",
       "      <th>246</th>\n",
       "      <td>11.4</td>\n",
       "      <td>George Kittle (SF)</td>\n",
       "      <td>11.419083</td>\n",
       "    </tr>\n",
       "    <tr>\n",
       "      <th>247</th>\n",
       "      <td>10.3</td>\n",
       "      <td>Mark Andrews (BAL)</td>\n",
       "      <td>11.142138</td>\n",
       "    </tr>\n",
       "    <tr>\n",
       "      <th>248</th>\n",
       "      <td>8.8</td>\n",
       "      <td>Taysom Hill (NO)</td>\n",
       "      <td>3.915810</td>\n",
       "    </tr>\n",
       "    <tr>\n",
       "      <th>249</th>\n",
       "      <td>8.3</td>\n",
       "      <td>Evan Engram (JAC)</td>\n",
       "      <td>6.237784</td>\n",
       "    </tr>\n",
       "    <tr>\n",
       "      <th>250</th>\n",
       "      <td>7.2</td>\n",
       "      <td>Cole Kmet (CHI)</td>\n",
       "      <td>6.715887</td>\n",
       "    </tr>\n",
       "    <tr>\n",
       "      <th>251</th>\n",
       "      <td>7.8</td>\n",
       "      <td>Pat Freiermuth (PIT)</td>\n",
       "      <td>7.591573</td>\n",
       "    </tr>\n",
       "    <tr>\n",
       "      <th>252</th>\n",
       "      <td>7.3</td>\n",
       "      <td>Tyler Higbee (LAR)</td>\n",
       "      <td>6.208232</td>\n",
       "    </tr>\n",
       "    <tr>\n",
       "      <th>253</th>\n",
       "      <td>7.6</td>\n",
       "      <td>Dalton Schultz (HOU)</td>\n",
       "      <td>8.228522</td>\n",
       "    </tr>\n",
       "    <tr>\n",
       "      <th>254</th>\n",
       "      <td>7.1</td>\n",
       "      <td>Juwan Johnson (NO)</td>\n",
       "      <td>3.522246</td>\n",
       "    </tr>\n",
       "    <tr>\n",
       "      <th>255</th>\n",
       "      <td>9.5</td>\n",
       "      <td>Dallas Goedert (PHI)</td>\n",
       "      <td>7.942394</td>\n",
       "    </tr>\n",
       "    <tr>\n",
       "      <th>256</th>\n",
       "      <td>8.1</td>\n",
       "      <td>David Njoku (CLE)</td>\n",
       "      <td>5.588556</td>\n",
       "    </tr>\n",
       "    <tr>\n",
       "      <th>257</th>\n",
       "      <td>7.4</td>\n",
       "      <td>Dawson Knox (BUF)</td>\n",
       "      <td>7.545884</td>\n",
       "    </tr>\n",
       "    <tr>\n",
       "      <th>258</th>\n",
       "      <td>7.4</td>\n",
       "      <td>Gerald Everett (LAC)</td>\n",
       "      <td>6.442310</td>\n",
       "    </tr>\n",
       "    <tr>\n",
       "      <th>259</th>\n",
       "      <td>5.7</td>\n",
       "      <td>Noah Fant (SEA)</td>\n",
       "      <td>5.467875</td>\n",
       "    </tr>\n",
       "    <tr>\n",
       "      <th>260</th>\n",
       "      <td>9.2</td>\n",
       "      <td>Zach Ertz (ARI)</td>\n",
       "      <td>7.526730</td>\n",
       "    </tr>\n",
       "    <tr>\n",
       "      <th>261</th>\n",
       "      <td>5.0</td>\n",
       "      <td>Robert Tonyan (CHI)</td>\n",
       "      <td>5.143949</td>\n",
       "    </tr>\n",
       "    <tr>\n",
       "      <th>262</th>\n",
       "      <td>5.2</td>\n",
       "      <td>Hunter Henry (NE)</td>\n",
       "      <td>7.003722</td>\n",
       "    </tr>\n",
       "    <tr>\n",
       "      <th>263</th>\n",
       "      <td>5.9</td>\n",
       "      <td>Hayden Hurst (CAR)</td>\n",
       "      <td>4.824700</td>\n",
       "    </tr>\n",
       "    <tr>\n",
       "      <th>264</th>\n",
       "      <td>4.8</td>\n",
       "      <td>Mike Gesicki (NE)</td>\n",
       "      <td>6.935045</td>\n",
       "    </tr>\n",
       "    <tr>\n",
       "      <th>265</th>\n",
       "      <td>4.5</td>\n",
       "      <td>Austin Hooper (LV)</td>\n",
       "      <td>4.990398</td>\n",
       "    </tr>\n",
       "    <tr>\n",
       "      <th>267</th>\n",
       "      <td>7.9</td>\n",
       "      <td>Darren Waller (NYG)</td>\n",
       "      <td>10.783939</td>\n",
       "    </tr>\n",
       "    <tr>\n",
       "      <th>268</th>\n",
       "      <td>6.2</td>\n",
       "      <td>Kyle Pitts (ATL)</td>\n",
       "      <td>8.312262</td>\n",
       "    </tr>\n",
       "    <tr>\n",
       "      <th>269</th>\n",
       "      <td>4.4</td>\n",
       "      <td>Logan Thomas (WAS)</td>\n",
       "      <td>5.092343</td>\n",
       "    </tr>\n",
       "    <tr>\n",
       "      <th>270</th>\n",
       "      <td>3.2</td>\n",
       "      <td>Mo Alie-Cox (IND)</td>\n",
       "      <td>4.696616</td>\n",
       "    </tr>\n",
       "    <tr>\n",
       "      <th>271</th>\n",
       "      <td>5.3</td>\n",
       "      <td>Irv Smith Jr. (CIN)</td>\n",
       "      <td>5.076339</td>\n",
       "    </tr>\n",
       "    <tr>\n",
       "      <th>272</th>\n",
       "      <td>3.9</td>\n",
       "      <td>Shane Zylstra (DET)</td>\n",
       "      <td>4.292179</td>\n",
       "    </tr>\n",
       "    <tr>\n",
       "      <th>273</th>\n",
       "      <td>3.0</td>\n",
       "      <td>Cameron Brate (FA)</td>\n",
       "      <td>4.866578</td>\n",
       "    </tr>\n",
       "    <tr>\n",
       "      <th>274</th>\n",
       "      <td>3.4</td>\n",
       "      <td>Albert Okwuegbunam (DEN)</td>\n",
       "      <td>4.888768</td>\n",
       "    </tr>\n",
       "    <tr>\n",
       "      <th>275</th>\n",
       "      <td>1.8</td>\n",
       "      <td>Jack Stoll (PHI)</td>\n",
       "      <td>3.146342</td>\n",
       "    </tr>\n",
       "  </tbody>\n",
       "</table>\n",
       "</div>"
      ],
      "text/plain": [
       "     FPTS_TG                    Player       comp\n",
       "244     15.4         Travis Kelce (KC)  13.569053\n",
       "245     10.1      T.J. Hockenson (MIN)   7.188012\n",
       "246     11.4        George Kittle (SF)  11.419083\n",
       "247     10.3        Mark Andrews (BAL)  11.142138\n",
       "248      8.8          Taysom Hill (NO)   3.915810\n",
       "249      8.3         Evan Engram (JAC)   6.237784\n",
       "250      7.2           Cole Kmet (CHI)   6.715887\n",
       "251      7.8      Pat Freiermuth (PIT)   7.591573\n",
       "252      7.3        Tyler Higbee (LAR)   6.208232\n",
       "253      7.6      Dalton Schultz (HOU)   8.228522\n",
       "254      7.1        Juwan Johnson (NO)   3.522246\n",
       "255      9.5      Dallas Goedert (PHI)   7.942394\n",
       "256      8.1         David Njoku (CLE)   5.588556\n",
       "257      7.4         Dawson Knox (BUF)   7.545884\n",
       "258      7.4      Gerald Everett (LAC)   6.442310\n",
       "259      5.7           Noah Fant (SEA)   5.467875\n",
       "260      9.2           Zach Ertz (ARI)   7.526730\n",
       "261      5.0       Robert Tonyan (CHI)   5.143949\n",
       "262      5.2         Hunter Henry (NE)   7.003722\n",
       "263      5.9        Hayden Hurst (CAR)   4.824700\n",
       "264      4.8         Mike Gesicki (NE)   6.935045\n",
       "265      4.5        Austin Hooper (LV)   4.990398\n",
       "267      7.9       Darren Waller (NYG)  10.783939\n",
       "268      6.2          Kyle Pitts (ATL)   8.312262\n",
       "269      4.4        Logan Thomas (WAS)   5.092343\n",
       "270      3.2         Mo Alie-Cox (IND)   4.696616\n",
       "271      5.3       Irv Smith Jr. (CIN)   5.076339\n",
       "272      3.9       Shane Zylstra (DET)   4.292179\n",
       "273      3.0        Cameron Brate (FA)   4.866578\n",
       "274      3.4  Albert Okwuegbunam (DEN)   4.888768\n",
       "275      1.8          Jack Stoll (PHI)   3.146342"
      ]
     },
     "execution_count": 30,
     "metadata": {},
     "output_type": "execute_result"
    }
   ],
   "source": [
    "mdd"
   ]
  },
  {
   "cell_type": "code",
   "execution_count": null,
   "id": "3806ba48",
   "metadata": {},
   "outputs": [],
   "source": []
  }
 ],
 "metadata": {
  "kernelspec": {
   "display_name": "Python 3 (ipykernel)",
   "language": "python",
   "name": "python3"
  },
  "language_info": {
   "codemirror_mode": {
    "name": "ipython",
    "version": 3
   },
   "file_extension": ".py",
   "mimetype": "text/x-python",
   "name": "python",
   "nbconvert_exporter": "python",
   "pygments_lexer": "ipython3",
   "version": "3.11.3"
  }
 },
 "nbformat": 4,
 "nbformat_minor": 5
}
