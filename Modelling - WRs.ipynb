{
 "cells": [
  {
   "cell_type": "code",
   "execution_count": 15,
   "id": "a5f3d9e5",
   "metadata": {},
   "outputs": [],
   "source": [
    "import pandas as pd\n",
    "pd.options.mode.chained_assignment = None  # default='warn'\n",
    "\n",
    "import numpy as np\n",
    "from tqdm import tqdm"
   ]
  },
  {
   "cell_type": "code",
   "execution_count": 16,
   "id": "14b10d1c",
   "metadata": {},
   "outputs": [],
   "source": [
    "df = pd.read_csv(f\"processed data/wr_proc_data.csv\")"
   ]
  },
  {
   "cell_type": "code",
   "execution_count": 17,
   "id": "89936008",
   "metadata": {},
   "outputs": [],
   "source": [
    "df = df[df[\"Rookie\"] == 0]"
   ]
  },
  {
   "cell_type": "code",
   "execution_count": 18,
   "id": "14d47fe6",
   "metadata": {},
   "outputs": [
    {
     "data": {
      "text/plain": [
       "2018    128\n",
       "2021    123\n",
       "2019    117\n",
       "2020    101\n",
       "2022     73\n",
       "Name: Season, dtype: int64"
      ]
     },
     "execution_count": 18,
     "metadata": {},
     "output_type": "execute_result"
    }
   ],
   "source": [
    "df.Season.value_counts()"
   ]
  },
  {
   "cell_type": "code",
   "execution_count": 19,
   "id": "fcd82776",
   "metadata": {},
   "outputs": [],
   "source": [
    "corrs = df.corr(numeric_only=True)"
   ]
  },
  {
   "cell_type": "code",
   "execution_count": 20,
   "id": "f8d1cc0e",
   "metadata": {},
   "outputs": [
    {
     "data": {
      "text/html": [
       "<div>\n",
       "<style scoped>\n",
       "    .dataframe tbody tr th:only-of-type {\n",
       "        vertical-align: middle;\n",
       "    }\n",
       "\n",
       "    .dataframe tbody tr th {\n",
       "        vertical-align: top;\n",
       "    }\n",
       "\n",
       "    .dataframe thead th {\n",
       "        text-align: right;\n",
       "    }\n",
       "</style>\n",
       "<table border=\"1\" class=\"dataframe\">\n",
       "  <thead>\n",
       "    <tr style=\"text-align: right;\">\n",
       "      <th></th>\n",
       "      <th>FPTS_TG</th>\n",
       "    </tr>\n",
       "  </thead>\n",
       "  <tbody>\n",
       "    <tr>\n",
       "      <th>pid</th>\n",
       "      <td>-0.028053</td>\n",
       "    </tr>\n",
       "    <tr>\n",
       "      <th>Season</th>\n",
       "      <td>0.107320</td>\n",
       "    </tr>\n",
       "    <tr>\n",
       "      <th>AVG</th>\n",
       "      <td>-0.715617</td>\n",
       "    </tr>\n",
       "    <tr>\n",
       "      <th>FPTS_TG</th>\n",
       "      <td>1.000000</td>\n",
       "    </tr>\n",
       "    <tr>\n",
       "      <th>FPTS/G_MISC_avg</th>\n",
       "      <td>0.676110</td>\n",
       "    </tr>\n",
       "    <tr>\n",
       "      <th>ATT_RUSHING/G_avg</th>\n",
       "      <td>-0.042159</td>\n",
       "    </tr>\n",
       "    <tr>\n",
       "      <th>YDS_RUSHING/G_avg</th>\n",
       "      <td>0.017107</td>\n",
       "    </tr>\n",
       "    <tr>\n",
       "      <th>TD_RUSHING/G_avg</th>\n",
       "      <td>0.023284</td>\n",
       "    </tr>\n",
       "    <tr>\n",
       "      <th>REC_RECEIVING/G_avg</th>\n",
       "      <td>0.638836</td>\n",
       "    </tr>\n",
       "    <tr>\n",
       "      <th>TGT_RECEIVING/G_avg</th>\n",
       "      <td>0.617874</td>\n",
       "    </tr>\n",
       "    <tr>\n",
       "      <th>YDS_RECEIVING/G_avg</th>\n",
       "      <td>0.668811</td>\n",
       "    </tr>\n",
       "    <tr>\n",
       "      <th>TD_RECEIVING/G_avg</th>\n",
       "      <td>0.569134</td>\n",
       "    </tr>\n",
       "    <tr>\n",
       "      <th>FL_MISC/G_avg</th>\n",
       "      <td>0.085938</td>\n",
       "    </tr>\n",
       "    <tr>\n",
       "      <th>YDS/ATT_RUSHING_avg</th>\n",
       "      <td>0.101775</td>\n",
       "    </tr>\n",
       "    <tr>\n",
       "      <th>TD/ATT_RUSHING_avg</th>\n",
       "      <td>0.048859</td>\n",
       "    </tr>\n",
       "    <tr>\n",
       "      <th>YDS/REC_RECEIVING_avg</th>\n",
       "      <td>0.113846</td>\n",
       "    </tr>\n",
       "    <tr>\n",
       "      <th>YDS/TGT_RECEIVING_avg</th>\n",
       "      <td>0.269479</td>\n",
       "    </tr>\n",
       "    <tr>\n",
       "      <th>REC/TGT_RECEIVING_avg</th>\n",
       "      <td>0.207290</td>\n",
       "    </tr>\n",
       "    <tr>\n",
       "      <th>TD/TGT_RECEIVING_avg</th>\n",
       "      <td>0.061234</td>\n",
       "    </tr>\n",
       "    <tr>\n",
       "      <th>FPTS/G_MISC_ewm</th>\n",
       "      <td>0.690826</td>\n",
       "    </tr>\n",
       "    <tr>\n",
       "      <th>ATT_RUSHING/G_ewm</th>\n",
       "      <td>-0.040669</td>\n",
       "    </tr>\n",
       "    <tr>\n",
       "      <th>YDS_RUSHING/G_ewm</th>\n",
       "      <td>0.015064</td>\n",
       "    </tr>\n",
       "    <tr>\n",
       "      <th>TD_RUSHING/G_ewm</th>\n",
       "      <td>0.022950</td>\n",
       "    </tr>\n",
       "    <tr>\n",
       "      <th>REC_RECEIVING/G_ewm</th>\n",
       "      <td>0.652924</td>\n",
       "    </tr>\n",
       "    <tr>\n",
       "      <th>TGT_RECEIVING/G_ewm</th>\n",
       "      <td>0.634680</td>\n",
       "    </tr>\n",
       "    <tr>\n",
       "      <th>YDS_RECEIVING/G_ewm</th>\n",
       "      <td>0.684087</td>\n",
       "    </tr>\n",
       "    <tr>\n",
       "      <th>TD_RECEIVING/G_ewm</th>\n",
       "      <td>0.578765</td>\n",
       "    </tr>\n",
       "    <tr>\n",
       "      <th>FL_MISC/G_ewm</th>\n",
       "      <td>0.080016</td>\n",
       "    </tr>\n",
       "    <tr>\n",
       "      <th>YDS/ATT_RUSHING_ewm</th>\n",
       "      <td>0.096285</td>\n",
       "    </tr>\n",
       "    <tr>\n",
       "      <th>TD/ATT_RUSHING_ewm</th>\n",
       "      <td>0.046049</td>\n",
       "    </tr>\n",
       "    <tr>\n",
       "      <th>YDS/REC_RECEIVING_ewm</th>\n",
       "      <td>0.128444</td>\n",
       "    </tr>\n",
       "    <tr>\n",
       "      <th>YDS/TGT_RECEIVING_ewm</th>\n",
       "      <td>0.277464</td>\n",
       "    </tr>\n",
       "    <tr>\n",
       "      <th>REC/TGT_RECEIVING_ewm</th>\n",
       "      <td>0.195782</td>\n",
       "    </tr>\n",
       "    <tr>\n",
       "      <th>TD/TGT_RECEIVING_ewm</th>\n",
       "      <td>0.053057</td>\n",
       "    </tr>\n",
       "    <tr>\n",
       "      <th>Rookie</th>\n",
       "      <td>NaN</td>\n",
       "    </tr>\n",
       "    <tr>\n",
       "      <th>Career_Years</th>\n",
       "      <td>0.122574</td>\n",
       "    </tr>\n",
       "  </tbody>\n",
       "</table>\n",
       "</div>"
      ],
      "text/plain": [
       "                        FPTS_TG\n",
       "pid                   -0.028053\n",
       "Season                 0.107320\n",
       "AVG                   -0.715617\n",
       "FPTS_TG                1.000000\n",
       "FPTS/G_MISC_avg        0.676110\n",
       "ATT_RUSHING/G_avg     -0.042159\n",
       "YDS_RUSHING/G_avg      0.017107\n",
       "TD_RUSHING/G_avg       0.023284\n",
       "REC_RECEIVING/G_avg    0.638836\n",
       "TGT_RECEIVING/G_avg    0.617874\n",
       "YDS_RECEIVING/G_avg    0.668811\n",
       "TD_RECEIVING/G_avg     0.569134\n",
       "FL_MISC/G_avg          0.085938\n",
       "YDS/ATT_RUSHING_avg    0.101775\n",
       "TD/ATT_RUSHING_avg     0.048859\n",
       "YDS/REC_RECEIVING_avg  0.113846\n",
       "YDS/TGT_RECEIVING_avg  0.269479\n",
       "REC/TGT_RECEIVING_avg  0.207290\n",
       "TD/TGT_RECEIVING_avg   0.061234\n",
       "FPTS/G_MISC_ewm        0.690826\n",
       "ATT_RUSHING/G_ewm     -0.040669\n",
       "YDS_RUSHING/G_ewm      0.015064\n",
       "TD_RUSHING/G_ewm       0.022950\n",
       "REC_RECEIVING/G_ewm    0.652924\n",
       "TGT_RECEIVING/G_ewm    0.634680\n",
       "YDS_RECEIVING/G_ewm    0.684087\n",
       "TD_RECEIVING/G_ewm     0.578765\n",
       "FL_MISC/G_ewm          0.080016\n",
       "YDS/ATT_RUSHING_ewm    0.096285\n",
       "TD/ATT_RUSHING_ewm     0.046049\n",
       "YDS/REC_RECEIVING_ewm  0.128444\n",
       "YDS/TGT_RECEIVING_ewm  0.277464\n",
       "REC/TGT_RECEIVING_ewm  0.195782\n",
       "TD/TGT_RECEIVING_ewm   0.053057\n",
       "Rookie                      NaN\n",
       "Career_Years           0.122574"
      ]
     },
     "execution_count": 20,
     "metadata": {},
     "output_type": "execute_result"
    }
   ],
   "source": [
    "corrs[[\"FPTS_TG\"]]"
   ]
  },
  {
   "cell_type": "code",
   "execution_count": 21,
   "id": "36051d0a",
   "metadata": {},
   "outputs": [],
   "source": [
    "rel_cols = [\"Season\"]\n",
    "for i, vals in corrs[[\"FPTS_TG\"]].iterrows():\n",
    "    val = vals[\"FPTS_TG\"]\n",
    "    if (val > 0.4 or val < -0.4) and \"_ls\" not in i:\n",
    "        rel_cols.append(i)"
   ]
  },
  {
   "cell_type": "code",
   "execution_count": 22,
   "id": "3078b1a5",
   "metadata": {},
   "outputs": [],
   "source": [
    "rel_df = df[rel_cols]"
   ]
  },
  {
   "cell_type": "code",
   "execution_count": 23,
   "id": "3e1bc89d",
   "metadata": {},
   "outputs": [
    {
     "data": {
      "text/plain": [
       "['Season',\n",
       " 'AVG',\n",
       " 'FPTS_TG',\n",
       " 'FPTS/G_MISC_avg',\n",
       " 'REC_RECEIVING/G_avg',\n",
       " 'TGT_RECEIVING/G_avg',\n",
       " 'YDS_RECEIVING/G_avg',\n",
       " 'TD_RECEIVING/G_avg',\n",
       " 'FPTS/G_MISC_ewm',\n",
       " 'REC_RECEIVING/G_ewm',\n",
       " 'TGT_RECEIVING/G_ewm',\n",
       " 'YDS_RECEIVING/G_ewm',\n",
       " 'TD_RECEIVING/G_ewm']"
      ]
     },
     "execution_count": 23,
     "metadata": {},
     "output_type": "execute_result"
    }
   ],
   "source": [
    "rel_cols"
   ]
  },
  {
   "cell_type": "code",
   "execution_count": 24,
   "id": "f5ea6862",
   "metadata": {},
   "outputs": [],
   "source": [
    "for col in rel_cols[2:]:\n",
    "    new_c = rel_df[col]/rel_df[\"AVG\"]\n",
    "    \n",
    "    new_name = col+\"_ADP\"\n",
    "    \n",
    "    rel_df[new_name] = new_c"
   ]
  },
  {
   "cell_type": "code",
   "execution_count": 25,
   "id": "0a569346",
   "metadata": {},
   "outputs": [],
   "source": [
    "corrs = rel_df.corr()"
   ]
  },
  {
   "cell_type": "code",
   "execution_count": 26,
   "id": "d3b42c16",
   "metadata": {},
   "outputs": [
    {
     "data": {
      "text/html": [
       "<div>\n",
       "<style scoped>\n",
       "    .dataframe tbody tr th:only-of-type {\n",
       "        vertical-align: middle;\n",
       "    }\n",
       "\n",
       "    .dataframe tbody tr th {\n",
       "        vertical-align: top;\n",
       "    }\n",
       "\n",
       "    .dataframe thead th {\n",
       "        text-align: right;\n",
       "    }\n",
       "</style>\n",
       "<table border=\"1\" class=\"dataframe\">\n",
       "  <thead>\n",
       "    <tr style=\"text-align: right;\">\n",
       "      <th></th>\n",
       "      <th>FPTS_TG</th>\n",
       "    </tr>\n",
       "  </thead>\n",
       "  <tbody>\n",
       "    <tr>\n",
       "      <th>Season</th>\n",
       "      <td>0.107320</td>\n",
       "    </tr>\n",
       "    <tr>\n",
       "      <th>AVG</th>\n",
       "      <td>-0.715617</td>\n",
       "    </tr>\n",
       "    <tr>\n",
       "      <th>FPTS_TG</th>\n",
       "      <td>1.000000</td>\n",
       "    </tr>\n",
       "    <tr>\n",
       "      <th>FPTS/G_MISC_avg</th>\n",
       "      <td>0.676110</td>\n",
       "    </tr>\n",
       "    <tr>\n",
       "      <th>REC_RECEIVING/G_avg</th>\n",
       "      <td>0.638836</td>\n",
       "    </tr>\n",
       "    <tr>\n",
       "      <th>TGT_RECEIVING/G_avg</th>\n",
       "      <td>0.617874</td>\n",
       "    </tr>\n",
       "    <tr>\n",
       "      <th>YDS_RECEIVING/G_avg</th>\n",
       "      <td>0.668811</td>\n",
       "    </tr>\n",
       "    <tr>\n",
       "      <th>TD_RECEIVING/G_avg</th>\n",
       "      <td>0.569134</td>\n",
       "    </tr>\n",
       "    <tr>\n",
       "      <th>FPTS/G_MISC_ewm</th>\n",
       "      <td>0.690826</td>\n",
       "    </tr>\n",
       "    <tr>\n",
       "      <th>REC_RECEIVING/G_ewm</th>\n",
       "      <td>0.652924</td>\n",
       "    </tr>\n",
       "    <tr>\n",
       "      <th>TGT_RECEIVING/G_ewm</th>\n",
       "      <td>0.634680</td>\n",
       "    </tr>\n",
       "    <tr>\n",
       "      <th>YDS_RECEIVING/G_ewm</th>\n",
       "      <td>0.684087</td>\n",
       "    </tr>\n",
       "    <tr>\n",
       "      <th>TD_RECEIVING/G_ewm</th>\n",
       "      <td>0.578765</td>\n",
       "    </tr>\n",
       "    <tr>\n",
       "      <th>FPTS_TG_ADP</th>\n",
       "      <td>0.591127</td>\n",
       "    </tr>\n",
       "    <tr>\n",
       "      <th>FPTS/G_MISC_avg_ADP</th>\n",
       "      <td>0.537256</td>\n",
       "    </tr>\n",
       "    <tr>\n",
       "      <th>REC_RECEIVING/G_avg_ADP</th>\n",
       "      <td>0.525202</td>\n",
       "    </tr>\n",
       "    <tr>\n",
       "      <th>TGT_RECEIVING/G_avg_ADP</th>\n",
       "      <td>0.537472</td>\n",
       "    </tr>\n",
       "    <tr>\n",
       "      <th>YDS_RECEIVING/G_avg_ADP</th>\n",
       "      <td>0.536419</td>\n",
       "    </tr>\n",
       "    <tr>\n",
       "      <th>TD_RECEIVING/G_avg_ADP</th>\n",
       "      <td>0.519710</td>\n",
       "    </tr>\n",
       "    <tr>\n",
       "      <th>FPTS/G_MISC_ewm_ADP</th>\n",
       "      <td>0.533781</td>\n",
       "    </tr>\n",
       "    <tr>\n",
       "      <th>REC_RECEIVING/G_ewm_ADP</th>\n",
       "      <td>0.522615</td>\n",
       "    </tr>\n",
       "    <tr>\n",
       "      <th>TGT_RECEIVING/G_ewm_ADP</th>\n",
       "      <td>0.536346</td>\n",
       "    </tr>\n",
       "    <tr>\n",
       "      <th>YDS_RECEIVING/G_ewm_ADP</th>\n",
       "      <td>0.533333</td>\n",
       "    </tr>\n",
       "    <tr>\n",
       "      <th>TD_RECEIVING/G_ewm_ADP</th>\n",
       "      <td>0.515705</td>\n",
       "    </tr>\n",
       "  </tbody>\n",
       "</table>\n",
       "</div>"
      ],
      "text/plain": [
       "                          FPTS_TG\n",
       "Season                   0.107320\n",
       "AVG                     -0.715617\n",
       "FPTS_TG                  1.000000\n",
       "FPTS/G_MISC_avg          0.676110\n",
       "REC_RECEIVING/G_avg      0.638836\n",
       "TGT_RECEIVING/G_avg      0.617874\n",
       "YDS_RECEIVING/G_avg      0.668811\n",
       "TD_RECEIVING/G_avg       0.569134\n",
       "FPTS/G_MISC_ewm          0.690826\n",
       "REC_RECEIVING/G_ewm      0.652924\n",
       "TGT_RECEIVING/G_ewm      0.634680\n",
       "YDS_RECEIVING/G_ewm      0.684087\n",
       "TD_RECEIVING/G_ewm       0.578765\n",
       "FPTS_TG_ADP              0.591127\n",
       "FPTS/G_MISC_avg_ADP      0.537256\n",
       "REC_RECEIVING/G_avg_ADP  0.525202\n",
       "TGT_RECEIVING/G_avg_ADP  0.537472\n",
       "YDS_RECEIVING/G_avg_ADP  0.536419\n",
       "TD_RECEIVING/G_avg_ADP   0.519710\n",
       "FPTS/G_MISC_ewm_ADP      0.533781\n",
       "REC_RECEIVING/G_ewm_ADP  0.522615\n",
       "TGT_RECEIVING/G_ewm_ADP  0.536346\n",
       "YDS_RECEIVING/G_ewm_ADP  0.533333\n",
       "TD_RECEIVING/G_ewm_ADP   0.515705"
      ]
     },
     "execution_count": 26,
     "metadata": {},
     "output_type": "execute_result"
    }
   ],
   "source": [
    "corrs[[\"FPTS_TG\"]]"
   ]
  },
  {
   "cell_type": "code",
   "execution_count": 27,
   "id": "ae5262f9",
   "metadata": {},
   "outputs": [],
   "source": [
    "rel_df = df[rel_cols]"
   ]
  },
  {
   "cell_type": "code",
   "execution_count": 28,
   "id": "2e515605",
   "metadata": {},
   "outputs": [],
   "source": [
    "for col in rel_df.columns[2:]:\n",
    "    if \"FPTS\" not in col:\n",
    "        if \"_avg\" in col:\n",
    "            new_c = rel_df[\"FPTS/G_MISC_avg\"]*rel_df[col]\n",
    "        elif \"_ewm\" in col:\n",
    "            new_c = rel_df[\"FPTS/G_MISC_ewm\"]*rel_df[col]\n",
    "        \n",
    "        new_name = col+\"_FP\"\n",
    "\n",
    "        rel_df[new_name] = new_c"
   ]
  },
  {
   "cell_type": "code",
   "execution_count": 29,
   "id": "e6c56ac1",
   "metadata": {},
   "outputs": [],
   "source": [
    "corrs = rel_df.corr()"
   ]
  },
  {
   "cell_type": "code",
   "execution_count": 30,
   "id": "46d4ef52",
   "metadata": {},
   "outputs": [
    {
     "data": {
      "text/html": [
       "<div>\n",
       "<style scoped>\n",
       "    .dataframe tbody tr th:only-of-type {\n",
       "        vertical-align: middle;\n",
       "    }\n",
       "\n",
       "    .dataframe tbody tr th {\n",
       "        vertical-align: top;\n",
       "    }\n",
       "\n",
       "    .dataframe thead th {\n",
       "        text-align: right;\n",
       "    }\n",
       "</style>\n",
       "<table border=\"1\" class=\"dataframe\">\n",
       "  <thead>\n",
       "    <tr style=\"text-align: right;\">\n",
       "      <th></th>\n",
       "      <th>FPTS_TG</th>\n",
       "    </tr>\n",
       "  </thead>\n",
       "  <tbody>\n",
       "    <tr>\n",
       "      <th>Season</th>\n",
       "      <td>0.107320</td>\n",
       "    </tr>\n",
       "    <tr>\n",
       "      <th>AVG</th>\n",
       "      <td>-0.715617</td>\n",
       "    </tr>\n",
       "    <tr>\n",
       "      <th>FPTS_TG</th>\n",
       "      <td>1.000000</td>\n",
       "    </tr>\n",
       "    <tr>\n",
       "      <th>FPTS/G_MISC_avg</th>\n",
       "      <td>0.676110</td>\n",
       "    </tr>\n",
       "    <tr>\n",
       "      <th>REC_RECEIVING/G_avg</th>\n",
       "      <td>0.638836</td>\n",
       "    </tr>\n",
       "    <tr>\n",
       "      <th>TGT_RECEIVING/G_avg</th>\n",
       "      <td>0.617874</td>\n",
       "    </tr>\n",
       "    <tr>\n",
       "      <th>YDS_RECEIVING/G_avg</th>\n",
       "      <td>0.668811</td>\n",
       "    </tr>\n",
       "    <tr>\n",
       "      <th>TD_RECEIVING/G_avg</th>\n",
       "      <td>0.569134</td>\n",
       "    </tr>\n",
       "    <tr>\n",
       "      <th>FPTS/G_MISC_ewm</th>\n",
       "      <td>0.690826</td>\n",
       "    </tr>\n",
       "    <tr>\n",
       "      <th>REC_RECEIVING/G_ewm</th>\n",
       "      <td>0.652924</td>\n",
       "    </tr>\n",
       "    <tr>\n",
       "      <th>TGT_RECEIVING/G_ewm</th>\n",
       "      <td>0.634680</td>\n",
       "    </tr>\n",
       "    <tr>\n",
       "      <th>YDS_RECEIVING/G_ewm</th>\n",
       "      <td>0.684087</td>\n",
       "    </tr>\n",
       "    <tr>\n",
       "      <th>TD_RECEIVING/G_ewm</th>\n",
       "      <td>0.578765</td>\n",
       "    </tr>\n",
       "    <tr>\n",
       "      <th>REC_RECEIVING/G_avg_FP</th>\n",
       "      <td>0.664052</td>\n",
       "    </tr>\n",
       "    <tr>\n",
       "      <th>TGT_RECEIVING/G_avg_FP</th>\n",
       "      <td>0.656676</td>\n",
       "    </tr>\n",
       "    <tr>\n",
       "      <th>YDS_RECEIVING/G_avg_FP</th>\n",
       "      <td>0.675593</td>\n",
       "    </tr>\n",
       "    <tr>\n",
       "      <th>TD_RECEIVING/G_avg_FP</th>\n",
       "      <td>0.620643</td>\n",
       "    </tr>\n",
       "    <tr>\n",
       "      <th>REC_RECEIVING/G_ewm_FP</th>\n",
       "      <td>0.678375</td>\n",
       "    </tr>\n",
       "    <tr>\n",
       "      <th>TGT_RECEIVING/G_ewm_FP</th>\n",
       "      <td>0.673946</td>\n",
       "    </tr>\n",
       "    <tr>\n",
       "      <th>YDS_RECEIVING/G_ewm_FP</th>\n",
       "      <td>0.690727</td>\n",
       "    </tr>\n",
       "    <tr>\n",
       "      <th>TD_RECEIVING/G_ewm_FP</th>\n",
       "      <td>0.629631</td>\n",
       "    </tr>\n",
       "  </tbody>\n",
       "</table>\n",
       "</div>"
      ],
      "text/plain": [
       "                         FPTS_TG\n",
       "Season                  0.107320\n",
       "AVG                    -0.715617\n",
       "FPTS_TG                 1.000000\n",
       "FPTS/G_MISC_avg         0.676110\n",
       "REC_RECEIVING/G_avg     0.638836\n",
       "TGT_RECEIVING/G_avg     0.617874\n",
       "YDS_RECEIVING/G_avg     0.668811\n",
       "TD_RECEIVING/G_avg      0.569134\n",
       "FPTS/G_MISC_ewm         0.690826\n",
       "REC_RECEIVING/G_ewm     0.652924\n",
       "TGT_RECEIVING/G_ewm     0.634680\n",
       "YDS_RECEIVING/G_ewm     0.684087\n",
       "TD_RECEIVING/G_ewm      0.578765\n",
       "REC_RECEIVING/G_avg_FP  0.664052\n",
       "TGT_RECEIVING/G_avg_FP  0.656676\n",
       "YDS_RECEIVING/G_avg_FP  0.675593\n",
       "TD_RECEIVING/G_avg_FP   0.620643\n",
       "REC_RECEIVING/G_ewm_FP  0.678375\n",
       "TGT_RECEIVING/G_ewm_FP  0.673946\n",
       "YDS_RECEIVING/G_ewm_FP  0.690727\n",
       "TD_RECEIVING/G_ewm_FP   0.629631"
      ]
     },
     "execution_count": 30,
     "metadata": {},
     "output_type": "execute_result"
    }
   ],
   "source": [
    "corrs[[\"FPTS_TG\"]]#.tail(30)"
   ]
  },
  {
   "cell_type": "code",
   "execution_count": 31,
   "id": "dbfbf795",
   "metadata": {},
   "outputs": [],
   "source": [
    "model_cols = [\"Season\"]\n",
    "for i, vals in corrs[[\"FPTS_TG\"]].iterrows():\n",
    "    val = vals[\"FPTS_TG\"]\n",
    "    if val > 0.6 or val < -0.6:\n",
    "        model_cols.append(i)"
   ]
  },
  {
   "cell_type": "code",
   "execution_count": 32,
   "id": "ab3a3e1c",
   "metadata": {},
   "outputs": [
    {
     "data": {
      "text/plain": [
       "['Season',\n",
       " 'AVG',\n",
       " 'FPTS_TG',\n",
       " 'FPTS/G_MISC_avg',\n",
       " 'REC_RECEIVING/G_avg',\n",
       " 'TGT_RECEIVING/G_avg',\n",
       " 'YDS_RECEIVING/G_avg',\n",
       " 'FPTS/G_MISC_ewm',\n",
       " 'REC_RECEIVING/G_ewm',\n",
       " 'TGT_RECEIVING/G_ewm',\n",
       " 'YDS_RECEIVING/G_ewm',\n",
       " 'REC_RECEIVING/G_avg_FP',\n",
       " 'TGT_RECEIVING/G_avg_FP',\n",
       " 'YDS_RECEIVING/G_avg_FP',\n",
       " 'TD_RECEIVING/G_avg_FP',\n",
       " 'REC_RECEIVING/G_ewm_FP',\n",
       " 'TGT_RECEIVING/G_ewm_FP',\n",
       " 'YDS_RECEIVING/G_ewm_FP',\n",
       " 'TD_RECEIVING/G_ewm_FP']"
      ]
     },
     "execution_count": 32,
     "metadata": {},
     "output_type": "execute_result"
    }
   ],
   "source": [
    "model_cols"
   ]
  },
  {
   "cell_type": "code",
   "execution_count": 33,
   "id": "6c0e1613",
   "metadata": {},
   "outputs": [],
   "source": [
    "import pickle\n",
    "with open(\"model features/wr_feats\", \"wb\") as fp:   #Pickling\n",
    "    pickle.dump(model_cols, fp)"
   ]
  },
  {
   "cell_type": "code",
   "execution_count": 34,
   "id": "e4c57177",
   "metadata": {},
   "outputs": [],
   "source": [
    "model_df = rel_df[model_cols]"
   ]
  },
  {
   "cell_type": "code",
   "execution_count": null,
   "id": "ce0d4383",
   "metadata": {},
   "outputs": [],
   "source": []
  },
  {
   "cell_type": "code",
   "execution_count": 35,
   "id": "84a6c9f6",
   "metadata": {},
   "outputs": [],
   "source": [
    "from sklearn.linear_model import LinearRegression\n",
    "from sklearn.model_selection import train_test_split\n",
    "from sklearn import preprocessing"
   ]
  },
  {
   "cell_type": "code",
   "execution_count": 36,
   "id": "3206dd10",
   "metadata": {},
   "outputs": [],
   "source": [
    "X = model_df.drop([\"FPTS_TG\", \"Season\"], axis=1)\n",
    "y = model_df[[\"FPTS_TG\"]]\n",
    "X_train, X_test, y_train, y_test = train_test_split(X, y, random_state=0)\n",
    "\n",
    "lr = LinearRegression()\n",
    "sc = preprocessing.StandardScaler()\n",
    "\n",
    "X_train_sc = sc.fit_transform(X_train)\n",
    "\n",
    "X_test_sc = sc.transform(X_test)\n",
    "\n",
    "lr.fit(X_train_sc, y_train)\n",
    "y_pred = lr.predict(X_test_sc)"
   ]
  },
  {
   "cell_type": "code",
   "execution_count": 37,
   "id": "a327eb63",
   "metadata": {},
   "outputs": [],
   "source": [
    "from sklearn.metrics import r2_score, mean_absolute_error, mean_squared_error"
   ]
  },
  {
   "cell_type": "code",
   "execution_count": 38,
   "id": "92802d6b",
   "metadata": {},
   "outputs": [],
   "source": [
    "def evaluate(y_test, y_pred):\n",
    "    mae = mean_absolute_error(y_test, y_pred)\n",
    "    mse = mean_squared_error(y_test, y_pred)\n",
    "    r2 = r2_score(y_test, y_pred)\n",
    "    \n",
    "    print(\"mae: \", mae)\n",
    "    print(\"mse: \", mse)\n",
    "    print(\"r2: \", r2)"
   ]
  },
  {
   "cell_type": "code",
   "execution_count": 39,
   "id": "f99ad22b",
   "metadata": {},
   "outputs": [
    {
     "name": "stdout",
     "output_type": "stream",
     "text": [
      "mae:  2.418968325006274\n",
      "mse:  10.68335051758811\n",
      "r2:  0.5257893431326928\n"
     ]
    }
   ],
   "source": [
    "evaluate(y_test, y_pred)"
   ]
  },
  {
   "cell_type": "code",
   "execution_count": 40,
   "id": "dcd49d30",
   "metadata": {},
   "outputs": [
    {
     "name": "stdout",
     "output_type": "stream",
     "text": [
      "mae:  1.8011197607726082\n",
      "mse:  5.041973192301104\n",
      "r2:  0.6481234357710106\n"
     ]
    }
   ],
   "source": [
    "X_22 = model_df[model_df.Season == 2022].drop([\"FPTS_TG\", \"Season\"], axis=1)\n",
    "mdd = df[df.Season == 2022][[\"FPTS_TG\", \"Player\"]].copy()\n",
    "mdd[\"comp\"] = lr.predict(sc.transform(X_22))\n",
    "\n",
    "evaluate(mdd.FPTS_TG, mdd.comp)"
   ]
  },
  {
   "cell_type": "code",
   "execution_count": 41,
   "id": "b9238a0f",
   "metadata": {},
   "outputs": [],
   "source": [
    "from sklearn.ensemble import RandomForestRegressor"
   ]
  },
  {
   "cell_type": "code",
   "execution_count": 50,
   "id": "0542ad04",
   "metadata": {},
   "outputs": [],
   "source": [
    "from sklearn.model_selection import RandomizedSearchCV"
   ]
  },
  {
   "cell_type": "code",
   "execution_count": 51,
   "id": "80b7ae3b",
   "metadata": {},
   "outputs": [],
   "source": [
    "random_grid = {'n_estimators': [300, 500, 700],\n",
    "               'max_features': [\"sqrt\"],\n",
    "               'max_depth': [2, 5, 10, 20],\n",
    "               'min_samples_split': [2, 5, 10],\n",
    "              }"
   ]
  },
  {
   "cell_type": "code",
   "execution_count": 52,
   "id": "11472159",
   "metadata": {},
   "outputs": [],
   "source": [
    "rf = RandomForestRegressor()"
   ]
  },
  {
   "cell_type": "code",
   "execution_count": 53,
   "id": "dd1a8968",
   "metadata": {},
   "outputs": [],
   "source": [
    "rf_random = RandomizedSearchCV(estimator = rf,param_distributions = random_grid,n_iter = 100, cv = 5, verbose=99, random_state=21, n_jobs = -1)"
   ]
  },
  {
   "cell_type": "code",
   "execution_count": 54,
   "id": "0a06ffa5",
   "metadata": {},
   "outputs": [
    {
     "name": "stderr",
     "output_type": "stream",
     "text": [
      "C:\\ProgramData\\anaconda3\\Lib\\site-packages\\sklearn\\model_selection\\_search.py:305: UserWarning: The total space of parameters 36 is smaller than n_iter=100. Running 36 iterations. For exhaustive searches, use GridSearchCV.\n",
      "  warnings.warn(\n"
     ]
    },
    {
     "name": "stdout",
     "output_type": "stream",
     "text": [
      "Fitting 5 folds for each of 36 candidates, totalling 180 fits\n"
     ]
    },
    {
     "name": "stderr",
     "output_type": "stream",
     "text": [
      "C:\\ProgramData\\anaconda3\\Lib\\site-packages\\sklearn\\model_selection\\_search.py:909: DataConversionWarning: A column-vector y was passed when a 1d array was expected. Please change the shape of y to (n_samples,), for example using ravel().\n",
      "  self.best_estimator_.fit(X, y, **fit_params)\n"
     ]
    },
    {
     "data": {
      "text/html": [
       "<style>#sk-container-id-2 {color: black;background-color: white;}#sk-container-id-2 pre{padding: 0;}#sk-container-id-2 div.sk-toggleable {background-color: white;}#sk-container-id-2 label.sk-toggleable__label {cursor: pointer;display: block;width: 100%;margin-bottom: 0;padding: 0.3em;box-sizing: border-box;text-align: center;}#sk-container-id-2 label.sk-toggleable__label-arrow:before {content: \"▸\";float: left;margin-right: 0.25em;color: #696969;}#sk-container-id-2 label.sk-toggleable__label-arrow:hover:before {color: black;}#sk-container-id-2 div.sk-estimator:hover label.sk-toggleable__label-arrow:before {color: black;}#sk-container-id-2 div.sk-toggleable__content {max-height: 0;max-width: 0;overflow: hidden;text-align: left;background-color: #f0f8ff;}#sk-container-id-2 div.sk-toggleable__content pre {margin: 0.2em;color: black;border-radius: 0.25em;background-color: #f0f8ff;}#sk-container-id-2 input.sk-toggleable__control:checked~div.sk-toggleable__content {max-height: 200px;max-width: 100%;overflow: auto;}#sk-container-id-2 input.sk-toggleable__control:checked~label.sk-toggleable__label-arrow:before {content: \"▾\";}#sk-container-id-2 div.sk-estimator input.sk-toggleable__control:checked~label.sk-toggleable__label {background-color: #d4ebff;}#sk-container-id-2 div.sk-label input.sk-toggleable__control:checked~label.sk-toggleable__label {background-color: #d4ebff;}#sk-container-id-2 input.sk-hidden--visually {border: 0;clip: rect(1px 1px 1px 1px);clip: rect(1px, 1px, 1px, 1px);height: 1px;margin: -1px;overflow: hidden;padding: 0;position: absolute;width: 1px;}#sk-container-id-2 div.sk-estimator {font-family: monospace;background-color: #f0f8ff;border: 1px dotted black;border-radius: 0.25em;box-sizing: border-box;margin-bottom: 0.5em;}#sk-container-id-2 div.sk-estimator:hover {background-color: #d4ebff;}#sk-container-id-2 div.sk-parallel-item::after {content: \"\";width: 100%;border-bottom: 1px solid gray;flex-grow: 1;}#sk-container-id-2 div.sk-label:hover label.sk-toggleable__label {background-color: #d4ebff;}#sk-container-id-2 div.sk-serial::before {content: \"\";position: absolute;border-left: 1px solid gray;box-sizing: border-box;top: 0;bottom: 0;left: 50%;z-index: 0;}#sk-container-id-2 div.sk-serial {display: flex;flex-direction: column;align-items: center;background-color: white;padding-right: 0.2em;padding-left: 0.2em;position: relative;}#sk-container-id-2 div.sk-item {position: relative;z-index: 1;}#sk-container-id-2 div.sk-parallel {display: flex;align-items: stretch;justify-content: center;background-color: white;position: relative;}#sk-container-id-2 div.sk-item::before, #sk-container-id-2 div.sk-parallel-item::before {content: \"\";position: absolute;border-left: 1px solid gray;box-sizing: border-box;top: 0;bottom: 0;left: 50%;z-index: -1;}#sk-container-id-2 div.sk-parallel-item {display: flex;flex-direction: column;z-index: 1;position: relative;background-color: white;}#sk-container-id-2 div.sk-parallel-item:first-child::after {align-self: flex-end;width: 50%;}#sk-container-id-2 div.sk-parallel-item:last-child::after {align-self: flex-start;width: 50%;}#sk-container-id-2 div.sk-parallel-item:only-child::after {width: 0;}#sk-container-id-2 div.sk-dashed-wrapped {border: 1px dashed gray;margin: 0 0.4em 0.5em 0.4em;box-sizing: border-box;padding-bottom: 0.4em;background-color: white;}#sk-container-id-2 div.sk-label label {font-family: monospace;font-weight: bold;display: inline-block;line-height: 1.2em;}#sk-container-id-2 div.sk-label-container {text-align: center;}#sk-container-id-2 div.sk-container {/* jupyter's `normalize.less` sets `[hidden] { display: none; }` but bootstrap.min.css set `[hidden] { display: none !important; }` so we also need the `!important` here to be able to override the default hidden behavior on the sphinx rendered scikit-learn.org. See: https://github.com/scikit-learn/scikit-learn/issues/21755 */display: inline-block !important;position: relative;}#sk-container-id-2 div.sk-text-repr-fallback {display: none;}</style><div id=\"sk-container-id-2\" class=\"sk-top-container\"><div class=\"sk-text-repr-fallback\"><pre>RandomizedSearchCV(cv=5, estimator=RandomForestRegressor(), n_iter=100,\n",
       "                   n_jobs=-1,\n",
       "                   param_distributions={&#x27;max_depth&#x27;: [2, 5, 10, 20],\n",
       "                                        &#x27;max_features&#x27;: [&#x27;sqrt&#x27;],\n",
       "                                        &#x27;min_samples_split&#x27;: [2, 5, 10],\n",
       "                                        &#x27;n_estimators&#x27;: [300, 500, 700]},\n",
       "                   random_state=21, verbose=99)</pre><b>In a Jupyter environment, please rerun this cell to show the HTML representation or trust the notebook. <br />On GitHub, the HTML representation is unable to render, please try loading this page with nbviewer.org.</b></div><div class=\"sk-container\" hidden><div class=\"sk-item sk-dashed-wrapped\"><div class=\"sk-label-container\"><div class=\"sk-label sk-toggleable\"><input class=\"sk-toggleable__control sk-hidden--visually\" id=\"sk-estimator-id-2\" type=\"checkbox\" ><label for=\"sk-estimator-id-2\" class=\"sk-toggleable__label sk-toggleable__label-arrow\">RandomizedSearchCV</label><div class=\"sk-toggleable__content\"><pre>RandomizedSearchCV(cv=5, estimator=RandomForestRegressor(), n_iter=100,\n",
       "                   n_jobs=-1,\n",
       "                   param_distributions={&#x27;max_depth&#x27;: [2, 5, 10, 20],\n",
       "                                        &#x27;max_features&#x27;: [&#x27;sqrt&#x27;],\n",
       "                                        &#x27;min_samples_split&#x27;: [2, 5, 10],\n",
       "                                        &#x27;n_estimators&#x27;: [300, 500, 700]},\n",
       "                   random_state=21, verbose=99)</pre></div></div></div><div class=\"sk-parallel\"><div class=\"sk-parallel-item\"><div class=\"sk-item\"><div class=\"sk-label-container\"><div class=\"sk-label sk-toggleable\"><input class=\"sk-toggleable__control sk-hidden--visually\" id=\"sk-estimator-id-3\" type=\"checkbox\" ><label for=\"sk-estimator-id-3\" class=\"sk-toggleable__label sk-toggleable__label-arrow\">estimator: RandomForestRegressor</label><div class=\"sk-toggleable__content\"><pre>RandomForestRegressor()</pre></div></div></div><div class=\"sk-serial\"><div class=\"sk-item\"><div class=\"sk-estimator sk-toggleable\"><input class=\"sk-toggleable__control sk-hidden--visually\" id=\"sk-estimator-id-4\" type=\"checkbox\" ><label for=\"sk-estimator-id-4\" class=\"sk-toggleable__label sk-toggleable__label-arrow\">RandomForestRegressor</label><div class=\"sk-toggleable__content\"><pre>RandomForestRegressor()</pre></div></div></div></div></div></div></div></div></div></div>"
      ],
      "text/plain": [
       "RandomizedSearchCV(cv=5, estimator=RandomForestRegressor(), n_iter=100,\n",
       "                   n_jobs=-1,\n",
       "                   param_distributions={'max_depth': [2, 5, 10, 20],\n",
       "                                        'max_features': ['sqrt'],\n",
       "                                        'min_samples_split': [2, 5, 10],\n",
       "                                        'n_estimators': [300, 500, 700]},\n",
       "                   random_state=21, verbose=99)"
      ]
     },
     "execution_count": 54,
     "metadata": {},
     "output_type": "execute_result"
    }
   ],
   "source": [
    "rf_random.fit(X_train, y_train)"
   ]
  },
  {
   "cell_type": "code",
   "execution_count": 55,
   "id": "8d727005",
   "metadata": {},
   "outputs": [
    {
     "data": {
      "text/plain": [
       "{'n_estimators': 300,\n",
       " 'min_samples_split': 5,\n",
       " 'max_features': 'sqrt',\n",
       " 'max_depth': 5}"
      ]
     },
     "execution_count": 55,
     "metadata": {},
     "output_type": "execute_result"
    }
   ],
   "source": [
    "rf_random.best_params_"
   ]
  },
  {
   "cell_type": "code",
   "execution_count": 56,
   "id": "d16a9d84",
   "metadata": {},
   "outputs": [],
   "source": [
    "rf_opt = RandomForestRegressor(max_depth=5, max_features=\"sqrt\", min_samples_split = 5, n_estimators=300, random_state=0)"
   ]
  },
  {
   "cell_type": "code",
   "execution_count": 57,
   "id": "825ed881",
   "metadata": {},
   "outputs": [
    {
     "name": "stderr",
     "output_type": "stream",
     "text": [
      "C:\\Users\\sergi\\AppData\\Local\\Temp\\ipykernel_19088\\2599501171.py:1: DataConversionWarning: A column-vector y was passed when a 1d array was expected. Please change the shape of y to (n_samples,), for example using ravel().\n",
      "  rf_opt.fit(X_train, y_train)\n"
     ]
    },
    {
     "data": {
      "text/html": [
       "<style>#sk-container-id-3 {color: black;background-color: white;}#sk-container-id-3 pre{padding: 0;}#sk-container-id-3 div.sk-toggleable {background-color: white;}#sk-container-id-3 label.sk-toggleable__label {cursor: pointer;display: block;width: 100%;margin-bottom: 0;padding: 0.3em;box-sizing: border-box;text-align: center;}#sk-container-id-3 label.sk-toggleable__label-arrow:before {content: \"▸\";float: left;margin-right: 0.25em;color: #696969;}#sk-container-id-3 label.sk-toggleable__label-arrow:hover:before {color: black;}#sk-container-id-3 div.sk-estimator:hover label.sk-toggleable__label-arrow:before {color: black;}#sk-container-id-3 div.sk-toggleable__content {max-height: 0;max-width: 0;overflow: hidden;text-align: left;background-color: #f0f8ff;}#sk-container-id-3 div.sk-toggleable__content pre {margin: 0.2em;color: black;border-radius: 0.25em;background-color: #f0f8ff;}#sk-container-id-3 input.sk-toggleable__control:checked~div.sk-toggleable__content {max-height: 200px;max-width: 100%;overflow: auto;}#sk-container-id-3 input.sk-toggleable__control:checked~label.sk-toggleable__label-arrow:before {content: \"▾\";}#sk-container-id-3 div.sk-estimator input.sk-toggleable__control:checked~label.sk-toggleable__label {background-color: #d4ebff;}#sk-container-id-3 div.sk-label input.sk-toggleable__control:checked~label.sk-toggleable__label {background-color: #d4ebff;}#sk-container-id-3 input.sk-hidden--visually {border: 0;clip: rect(1px 1px 1px 1px);clip: rect(1px, 1px, 1px, 1px);height: 1px;margin: -1px;overflow: hidden;padding: 0;position: absolute;width: 1px;}#sk-container-id-3 div.sk-estimator {font-family: monospace;background-color: #f0f8ff;border: 1px dotted black;border-radius: 0.25em;box-sizing: border-box;margin-bottom: 0.5em;}#sk-container-id-3 div.sk-estimator:hover {background-color: #d4ebff;}#sk-container-id-3 div.sk-parallel-item::after {content: \"\";width: 100%;border-bottom: 1px solid gray;flex-grow: 1;}#sk-container-id-3 div.sk-label:hover label.sk-toggleable__label {background-color: #d4ebff;}#sk-container-id-3 div.sk-serial::before {content: \"\";position: absolute;border-left: 1px solid gray;box-sizing: border-box;top: 0;bottom: 0;left: 50%;z-index: 0;}#sk-container-id-3 div.sk-serial {display: flex;flex-direction: column;align-items: center;background-color: white;padding-right: 0.2em;padding-left: 0.2em;position: relative;}#sk-container-id-3 div.sk-item {position: relative;z-index: 1;}#sk-container-id-3 div.sk-parallel {display: flex;align-items: stretch;justify-content: center;background-color: white;position: relative;}#sk-container-id-3 div.sk-item::before, #sk-container-id-3 div.sk-parallel-item::before {content: \"\";position: absolute;border-left: 1px solid gray;box-sizing: border-box;top: 0;bottom: 0;left: 50%;z-index: -1;}#sk-container-id-3 div.sk-parallel-item {display: flex;flex-direction: column;z-index: 1;position: relative;background-color: white;}#sk-container-id-3 div.sk-parallel-item:first-child::after {align-self: flex-end;width: 50%;}#sk-container-id-3 div.sk-parallel-item:last-child::after {align-self: flex-start;width: 50%;}#sk-container-id-3 div.sk-parallel-item:only-child::after {width: 0;}#sk-container-id-3 div.sk-dashed-wrapped {border: 1px dashed gray;margin: 0 0.4em 0.5em 0.4em;box-sizing: border-box;padding-bottom: 0.4em;background-color: white;}#sk-container-id-3 div.sk-label label {font-family: monospace;font-weight: bold;display: inline-block;line-height: 1.2em;}#sk-container-id-3 div.sk-label-container {text-align: center;}#sk-container-id-3 div.sk-container {/* jupyter's `normalize.less` sets `[hidden] { display: none; }` but bootstrap.min.css set `[hidden] { display: none !important; }` so we also need the `!important` here to be able to override the default hidden behavior on the sphinx rendered scikit-learn.org. See: https://github.com/scikit-learn/scikit-learn/issues/21755 */display: inline-block !important;position: relative;}#sk-container-id-3 div.sk-text-repr-fallback {display: none;}</style><div id=\"sk-container-id-3\" class=\"sk-top-container\"><div class=\"sk-text-repr-fallback\"><pre>RandomForestRegressor(max_depth=5, max_features=&#x27;sqrt&#x27;, min_samples_split=5,\n",
       "                      n_estimators=300, random_state=0)</pre><b>In a Jupyter environment, please rerun this cell to show the HTML representation or trust the notebook. <br />On GitHub, the HTML representation is unable to render, please try loading this page with nbviewer.org.</b></div><div class=\"sk-container\" hidden><div class=\"sk-item\"><div class=\"sk-estimator sk-toggleable\"><input class=\"sk-toggleable__control sk-hidden--visually\" id=\"sk-estimator-id-5\" type=\"checkbox\" checked><label for=\"sk-estimator-id-5\" class=\"sk-toggleable__label sk-toggleable__label-arrow\">RandomForestRegressor</label><div class=\"sk-toggleable__content\"><pre>RandomForestRegressor(max_depth=5, max_features=&#x27;sqrt&#x27;, min_samples_split=5,\n",
       "                      n_estimators=300, random_state=0)</pre></div></div></div></div></div>"
      ],
      "text/plain": [
       "RandomForestRegressor(max_depth=5, max_features='sqrt', min_samples_split=5,\n",
       "                      n_estimators=300, random_state=0)"
      ]
     },
     "execution_count": 57,
     "metadata": {},
     "output_type": "execute_result"
    }
   ],
   "source": [
    "rf_opt.fit(X_train, y_train)"
   ]
  },
  {
   "cell_type": "code",
   "execution_count": 58,
   "id": "4938f3d4",
   "metadata": {},
   "outputs": [],
   "source": [
    "y_pred = rf_opt.predict(X_test)"
   ]
  },
  {
   "cell_type": "code",
   "execution_count": 59,
   "id": "3e8b785e",
   "metadata": {},
   "outputs": [
    {
     "name": "stdout",
     "output_type": "stream",
     "text": [
      "mae:  1.8890061760921162\n",
      "mse:  5.598100376981032\n",
      "r2:  0.7161771318513714\n"
     ]
    }
   ],
   "source": [
    "evaluate(y_train, rf_opt.predict(X_train))"
   ]
  },
  {
   "cell_type": "code",
   "execution_count": 60,
   "id": "601414e5",
   "metadata": {},
   "outputs": [
    {
     "name": "stdout",
     "output_type": "stream",
     "text": [
      "mae:  2.232325274756466\n",
      "mse:  8.501854077671544\n",
      "r2:  0.6226212179292221\n"
     ]
    }
   ],
   "source": [
    "evaluate(y_test, y_pred)"
   ]
  },
  {
   "cell_type": "code",
   "execution_count": 61,
   "id": "5f779608",
   "metadata": {},
   "outputs": [
    {
     "name": "stdout",
     "output_type": "stream",
     "text": [
      "mae:  1.7143629873458839\n",
      "mse:  4.253691517369805\n",
      "r2:  0.7031371847221244\n"
     ]
    }
   ],
   "source": [
    "X_22 = model_df[model_df.Season == 2022].drop([\"FPTS_TG\", \"Season\"], axis=1)\n",
    "mdd = df[df.Season == 2022][[\"FPTS_TG\", \"Player\"]].copy()\n",
    "mdd[\"comp\"] = rf_opt.predict((X_22))\n",
    "\n",
    "evaluate(mdd.FPTS_TG, mdd.comp)"
   ]
  },
  {
   "cell_type": "code",
   "execution_count": 62,
   "id": "c168f735",
   "metadata": {},
   "outputs": [
    {
     "data": {
      "text/html": [
       "<div>\n",
       "<style scoped>\n",
       "    .dataframe tbody tr th:only-of-type {\n",
       "        vertical-align: middle;\n",
       "    }\n",
       "\n",
       "    .dataframe tbody tr th {\n",
       "        vertical-align: top;\n",
       "    }\n",
       "\n",
       "    .dataframe thead th {\n",
       "        text-align: right;\n",
       "    }\n",
       "</style>\n",
       "<table border=\"1\" class=\"dataframe\">\n",
       "  <thead>\n",
       "    <tr style=\"text-align: right;\">\n",
       "      <th></th>\n",
       "      <th>FPTS_TG</th>\n",
       "      <th>Player</th>\n",
       "      <th>comp</th>\n",
       "    </tr>\n",
       "  </thead>\n",
       "  <tbody>\n",
       "    <tr>\n",
       "      <th>560</th>\n",
       "      <td>17.9</td>\n",
       "      <td>Justin Jefferson (MIN)</td>\n",
       "      <td>16.002079</td>\n",
       "    </tr>\n",
       "    <tr>\n",
       "      <th>561</th>\n",
       "      <td>16.8</td>\n",
       "      <td>Davante Adams (LV)</td>\n",
       "      <td>16.539148</td>\n",
       "    </tr>\n",
       "    <tr>\n",
       "      <th>562</th>\n",
       "      <td>16.6</td>\n",
       "      <td>Tyreek Hill (MIA)</td>\n",
       "      <td>13.914949</td>\n",
       "    </tr>\n",
       "    <tr>\n",
       "      <th>563</th>\n",
       "      <td>15.7</td>\n",
       "      <td>Stefon Diggs (BUF)</td>\n",
       "      <td>14.923685</td>\n",
       "    </tr>\n",
       "    <tr>\n",
       "      <th>564</th>\n",
       "      <td>15.0</td>\n",
       "      <td>A.J. Brown (PHI)</td>\n",
       "      <td>12.598064</td>\n",
       "    </tr>\n",
       "    <tr>\n",
       "      <th>...</th>\n",
       "      <td>...</td>\n",
       "      <td>...</td>\n",
       "      <td>...</td>\n",
       "    </tr>\n",
       "    <tr>\n",
       "      <th>637</th>\n",
       "      <td>3.5</td>\n",
       "      <td>Robbie Chosen (MIA)</td>\n",
       "      <td>5.111030</td>\n",
       "    </tr>\n",
       "    <tr>\n",
       "      <th>639</th>\n",
       "      <td>4.3</td>\n",
       "      <td>Sammy Watkins (FA)</td>\n",
       "      <td>6.660404</td>\n",
       "    </tr>\n",
       "    <tr>\n",
       "      <th>642</th>\n",
       "      <td>3.2</td>\n",
       "      <td>KJ Hamler (FA)</td>\n",
       "      <td>5.798845</td>\n",
       "    </tr>\n",
       "    <tr>\n",
       "      <th>643</th>\n",
       "      <td>2.9</td>\n",
       "      <td>Kenny Golladay (FA)</td>\n",
       "      <td>5.933813</td>\n",
       "    </tr>\n",
       "    <tr>\n",
       "      <th>648</th>\n",
       "      <td>0.0</td>\n",
       "      <td>Odell Beckham Jr. (BAL)</td>\n",
       "      <td>6.653476</td>\n",
       "    </tr>\n",
       "  </tbody>\n",
       "</table>\n",
       "<p>73 rows × 3 columns</p>\n",
       "</div>"
      ],
      "text/plain": [
       "     FPTS_TG                   Player       comp\n",
       "560     17.9   Justin Jefferson (MIN)  16.002079\n",
       "561     16.8       Davante Adams (LV)  16.539148\n",
       "562     16.6        Tyreek Hill (MIA)  13.914949\n",
       "563     15.7       Stefon Diggs (BUF)  14.923685\n",
       "564     15.0         A.J. Brown (PHI)  12.598064\n",
       "..       ...                      ...        ...\n",
       "637      3.5      Robbie Chosen (MIA)   5.111030\n",
       "639      4.3       Sammy Watkins (FA)   6.660404\n",
       "642      3.2           KJ Hamler (FA)   5.798845\n",
       "643      2.9      Kenny Golladay (FA)   5.933813\n",
       "648      0.0  Odell Beckham Jr. (BAL)   6.653476\n",
       "\n",
       "[73 rows x 3 columns]"
      ]
     },
     "execution_count": 62,
     "metadata": {},
     "output_type": "execute_result"
    }
   ],
   "source": [
    "mdd"
   ]
  },
  {
   "cell_type": "code",
   "execution_count": null,
   "id": "8a58aaa6",
   "metadata": {},
   "outputs": [],
   "source": []
  },
  {
   "cell_type": "code",
   "execution_count": null,
   "id": "1e06f733",
   "metadata": {},
   "outputs": [],
   "source": []
  }
 ],
 "metadata": {
  "kernelspec": {
   "display_name": "Python 3 (ipykernel)",
   "language": "python",
   "name": "python3"
  },
  "language_info": {
   "codemirror_mode": {
    "name": "ipython",
    "version": 3
   },
   "file_extension": ".py",
   "mimetype": "text/x-python",
   "name": "python",
   "nbconvert_exporter": "python",
   "pygments_lexer": "ipython3",
   "version": "3.11.3"
  }
 },
 "nbformat": 4,
 "nbformat_minor": 5
}
