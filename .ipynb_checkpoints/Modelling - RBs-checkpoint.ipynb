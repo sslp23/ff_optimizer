{
 "cells": [
  {
   "cell_type": "code",
   "execution_count": 1,
   "id": "entitled-finger",
   "metadata": {},
   "outputs": [],
   "source": [
    "import pandas as pd\n",
    "import numpy as np\n",
    "from tqdm import tqdm"
   ]
  },
  {
   "cell_type": "code",
   "execution_count": 2,
   "id": "forbidden-profession",
   "metadata": {},
   "outputs": [],
   "source": [
    "df = pd.read_csv(f\"processed data/rb_proc_data.csv\")"
   ]
  },
  {
   "cell_type": "code",
   "execution_count": 3,
   "id": "shared-deadline",
   "metadata": {},
   "outputs": [],
   "source": [
    "df = df[df[\"Rookie\"] == 0]"
   ]
  },
  {
   "cell_type": "code",
   "execution_count": 4,
   "id": "leading-handy",
   "metadata": {},
   "outputs": [
    {
     "data": {
      "text/html": [
       "<div>\n",
       "<style scoped>\n",
       "    .dataframe tbody tr th:only-of-type {\n",
       "        vertical-align: middle;\n",
       "    }\n",
       "\n",
       "    .dataframe tbody tr th {\n",
       "        vertical-align: top;\n",
       "    }\n",
       "\n",
       "    .dataframe thead th {\n",
       "        text-align: right;\n",
       "    }\n",
       "</style>\n",
       "<table border=\"1\" class=\"dataframe\">\n",
       "  <thead>\n",
       "    <tr style=\"text-align: right;\">\n",
       "      <th></th>\n",
       "      <th>pid</th>\n",
       "      <th>Player</th>\n",
       "      <th>Season</th>\n",
       "      <th>AVG</th>\n",
       "      <th>FPTS_TG</th>\n",
       "      <th>FPTS/G_MISC_avg</th>\n",
       "      <th>ATT_RUSHING/G_avg</th>\n",
       "      <th>YDS_RUSHING/G_avg</th>\n",
       "      <th>TD_RUSHING/G_avg</th>\n",
       "      <th>REC_RECEIVING/G_avg</th>\n",
       "      <th>...</th>\n",
       "      <th>TD_RECEIVING/G_ewm</th>\n",
       "      <th>FL_MISC/G_ewm</th>\n",
       "      <th>YDS/ATT_RUSHING_ewm</th>\n",
       "      <th>TD/ATT_RUSHING_ewm</th>\n",
       "      <th>YDS/REC_RECEIVING_ewm</th>\n",
       "      <th>YDS/TGT_RECEIVING_ewm</th>\n",
       "      <th>REC/TGT_RECEIVING_ewm</th>\n",
       "      <th>TD/TGT_RECEIVING_ewm</th>\n",
       "      <th>Rookie</th>\n",
       "      <th>Career_Years</th>\n",
       "    </tr>\n",
       "  </thead>\n",
       "  <tbody>\n",
       "    <tr>\n",
       "      <th>0</th>\n",
       "      <td>13912</td>\n",
       "      <td>Todd Gurley II (FA)</td>\n",
       "      <td>2018</td>\n",
       "      <td>1.0</td>\n",
       "      <td>24.5</td>\n",
       "      <td>16.533333</td>\n",
       "      <td>17.863462</td>\n",
       "      <td>75.796474</td>\n",
       "      <td>0.670299</td>\n",
       "      <td>2.856517</td>\n",
       "      <td>...</td>\n",
       "      <td>0.181233</td>\n",
       "      <td>0.097861</td>\n",
       "      <td>4.233283</td>\n",
       "      <td>0.037919</td>\n",
       "      <td>10.043008</td>\n",
       "      <td>7.548106</td>\n",
       "      <td>0.753798</td>\n",
       "      <td>0.031247</td>\n",
       "      <td>0</td>\n",
       "      <td>3</td>\n",
       "    </tr>\n",
       "    <tr>\n",
       "      <th>2</th>\n",
       "      <td>16393</td>\n",
       "      <td>Christian McCaffrey (SF)</td>\n",
       "      <td>2018</td>\n",
       "      <td>15.0</td>\n",
       "      <td>20.8</td>\n",
       "      <td>11.800000</td>\n",
       "      <td>7.312500</td>\n",
       "      <td>27.187500</td>\n",
       "      <td>0.125000</td>\n",
       "      <td>5.000000</td>\n",
       "      <td>...</td>\n",
       "      <td>0.312500</td>\n",
       "      <td>0.062500</td>\n",
       "      <td>3.717949</td>\n",
       "      <td>0.017094</td>\n",
       "      <td>8.137500</td>\n",
       "      <td>5.761062</td>\n",
       "      <td>0.707965</td>\n",
       "      <td>0.044248</td>\n",
       "      <td>0</td>\n",
       "      <td>1</td>\n",
       "    </tr>\n",
       "    <tr>\n",
       "      <th>3</th>\n",
       "      <td>16421</td>\n",
       "      <td>Alvin Kamara (NO)</td>\n",
       "      <td>2018</td>\n",
       "      <td>6.5</td>\n",
       "      <td>20.9</td>\n",
       "      <td>17.100000</td>\n",
       "      <td>7.500000</td>\n",
       "      <td>45.500000</td>\n",
       "      <td>0.500000</td>\n",
       "      <td>5.062500</td>\n",
       "      <td>...</td>\n",
       "      <td>0.312500</td>\n",
       "      <td>0.062500</td>\n",
       "      <td>6.066667</td>\n",
       "      <td>0.066667</td>\n",
       "      <td>10.197531</td>\n",
       "      <td>8.260000</td>\n",
       "      <td>0.810000</td>\n",
       "      <td>0.050000</td>\n",
       "      <td>0</td>\n",
       "      <td>1</td>\n",
       "    </tr>\n",
       "    <tr>\n",
       "      <th>4</th>\n",
       "      <td>15498</td>\n",
       "      <td>Ezekiel Elliott (FA)</td>\n",
       "      <td>2018</td>\n",
       "      <td>3.5</td>\n",
       "      <td>19.4</td>\n",
       "      <td>19.800000</td>\n",
       "      <td>22.833333</td>\n",
       "      <td>103.516667</td>\n",
       "      <td>0.850000</td>\n",
       "      <td>2.366667</td>\n",
       "      <td>...</td>\n",
       "      <td>0.144772</td>\n",
       "      <td>0.086193</td>\n",
       "      <td>4.477537</td>\n",
       "      <td>0.036240</td>\n",
       "      <td>10.759372</td>\n",
       "      <td>7.905739</td>\n",
       "      <td>0.732172</td>\n",
       "      <td>0.041186</td>\n",
       "      <td>0</td>\n",
       "      <td>2</td>\n",
       "    </tr>\n",
       "    <tr>\n",
       "      <th>5</th>\n",
       "      <td>16447</td>\n",
       "      <td>James Conner (ARI)</td>\n",
       "      <td>2018</td>\n",
       "      <td>189.5</td>\n",
       "      <td>19.4</td>\n",
       "      <td>1.000000</td>\n",
       "      <td>2.285714</td>\n",
       "      <td>10.285714</td>\n",
       "      <td>0.000000</td>\n",
       "      <td>0.000000</td>\n",
       "      <td>...</td>\n",
       "      <td>0.000000</td>\n",
       "      <td>0.000000</td>\n",
       "      <td>4.500000</td>\n",
       "      <td>0.000000</td>\n",
       "      <td>NaN</td>\n",
       "      <td>0.000000</td>\n",
       "      <td>0.000000</td>\n",
       "      <td>0.000000</td>\n",
       "      <td>0</td>\n",
       "      <td>1</td>\n",
       "    </tr>\n",
       "    <tr>\n",
       "      <th>...</th>\n",
       "      <td>...</td>\n",
       "      <td>...</td>\n",
       "      <td>...</td>\n",
       "      <td>...</td>\n",
       "      <td>...</td>\n",
       "      <td>...</td>\n",
       "      <td>...</td>\n",
       "      <td>...</td>\n",
       "      <td>...</td>\n",
       "      <td>...</td>\n",
       "      <td>...</td>\n",
       "      <td>...</td>\n",
       "      <td>...</td>\n",
       "      <td>...</td>\n",
       "      <td>...</td>\n",
       "      <td>...</td>\n",
       "      <td>...</td>\n",
       "      <td>...</td>\n",
       "      <td>...</td>\n",
       "      <td>...</td>\n",
       "      <td>...</td>\n",
       "    </tr>\n",
       "    <tr>\n",
       "      <th>503</th>\n",
       "      <td>22739</td>\n",
       "      <td>Javonte Williams (DEN)</td>\n",
       "      <td>2022</td>\n",
       "      <td>23.0</td>\n",
       "      <td>8.5</td>\n",
       "      <td>10.800000</td>\n",
       "      <td>11.941176</td>\n",
       "      <td>53.117647</td>\n",
       "      <td>0.235294</td>\n",
       "      <td>2.529412</td>\n",
       "      <td>...</td>\n",
       "      <td>0.176471</td>\n",
       "      <td>0.058824</td>\n",
       "      <td>4.448276</td>\n",
       "      <td>0.019704</td>\n",
       "      <td>7.348837</td>\n",
       "      <td>5.962264</td>\n",
       "      <td>0.811321</td>\n",
       "      <td>0.056604</td>\n",
       "      <td>0</td>\n",
       "      <td>1</td>\n",
       "    </tr>\n",
       "    <tr>\n",
       "      <th>505</th>\n",
       "      <td>17309</td>\n",
       "      <td>Sony Michel (FA)</td>\n",
       "      <td>2022</td>\n",
       "      <td>195.5</td>\n",
       "      <td>2.0</td>\n",
       "      <td>8.400000</td>\n",
       "      <td>12.150191</td>\n",
       "      <td>52.198257</td>\n",
       "      <td>0.261302</td>\n",
       "      <td>0.921024</td>\n",
       "      <td>...</td>\n",
       "      <td>0.062249</td>\n",
       "      <td>0.040811</td>\n",
       "      <td>4.497982</td>\n",
       "      <td>0.019189</td>\n",
       "      <td>9.753784</td>\n",
       "      <td>6.880262</td>\n",
       "      <td>0.673432</td>\n",
       "      <td>0.049327</td>\n",
       "      <td>0</td>\n",
       "      <td>4</td>\n",
       "    </tr>\n",
       "    <tr>\n",
       "      <th>506</th>\n",
       "      <td>17514</td>\n",
       "      <td>Darrel Williams (FA)</td>\n",
       "      <td>2022</td>\n",
       "      <td>203.5</td>\n",
       "      <td>3.8</td>\n",
       "      <td>5.966667</td>\n",
       "      <td>4.774918</td>\n",
       "      <td>18.378676</td>\n",
       "      <td>0.221814</td>\n",
       "      <td>1.713235</td>\n",
       "      <td>...</td>\n",
       "      <td>0.072182</td>\n",
       "      <td>0.018878</td>\n",
       "      <td>3.923073</td>\n",
       "      <td>0.043669</td>\n",
       "      <td>8.944107</td>\n",
       "      <td>6.913852</td>\n",
       "      <td>0.765299</td>\n",
       "      <td>0.027225</td>\n",
       "      <td>0</td>\n",
       "      <td>4</td>\n",
       "    </tr>\n",
       "    <tr>\n",
       "      <th>507</th>\n",
       "      <td>17243</td>\n",
       "      <td>Ronald Jones II (DAL)</td>\n",
       "      <td>2022</td>\n",
       "      <td>164.0</td>\n",
       "      <td>3.1</td>\n",
       "      <td>8.866667</td>\n",
       "      <td>10.399206</td>\n",
       "      <td>47.880159</td>\n",
       "      <td>0.380556</td>\n",
       "      <td>1.534722</td>\n",
       "      <td>...</td>\n",
       "      <td>0.022884</td>\n",
       "      <td>0.134497</td>\n",
       "      <td>4.505491</td>\n",
       "      <td>0.037527</td>\n",
       "      <td>7.045763</td>\n",
       "      <td>5.239210</td>\n",
       "      <td>0.737679</td>\n",
       "      <td>0.007628</td>\n",
       "      <td>0</td>\n",
       "      <td>4</td>\n",
       "    </tr>\n",
       "    <tr>\n",
       "      <th>511</th>\n",
       "      <td>13943</td>\n",
       "      <td>Mike Davis (FA)</td>\n",
       "      <td>2022</td>\n",
       "      <td>189.5</td>\n",
       "      <td>0.6</td>\n",
       "      <td>6.433333</td>\n",
       "      <td>6.733660</td>\n",
       "      <td>24.879412</td>\n",
       "      <td>0.192157</td>\n",
       "      <td>2.368301</td>\n",
       "      <td>...</td>\n",
       "      <td>0.069369</td>\n",
       "      <td>0.101314</td>\n",
       "      <td>3.368517</td>\n",
       "      <td>0.021500</td>\n",
       "      <td>5.404426</td>\n",
       "      <td>4.353385</td>\n",
       "      <td>0.811973</td>\n",
       "      <td>0.016965</td>\n",
       "      <td>0</td>\n",
       "      <td>7</td>\n",
       "    </tr>\n",
       "  </tbody>\n",
       "</table>\n",
       "<p>420 rows × 37 columns</p>\n",
       "</div>"
      ],
      "text/plain": [
       "       pid                    Player  Season    AVG  FPTS_TG  FPTS/G_MISC_avg  \\\n",
       "0    13912       Todd Gurley II (FA)    2018    1.0     24.5        16.533333   \n",
       "2    16393  Christian McCaffrey (SF)    2018   15.0     20.8        11.800000   \n",
       "3    16421         Alvin Kamara (NO)    2018    6.5     20.9        17.100000   \n",
       "4    15498      Ezekiel Elliott (FA)    2018    3.5     19.4        19.800000   \n",
       "5    16447        James Conner (ARI)    2018  189.5     19.4         1.000000   \n",
       "..     ...                       ...     ...    ...      ...              ...   \n",
       "503  22739    Javonte Williams (DEN)    2022   23.0      8.5        10.800000   \n",
       "505  17309          Sony Michel (FA)    2022  195.5      2.0         8.400000   \n",
       "506  17514      Darrel Williams (FA)    2022  203.5      3.8         5.966667   \n",
       "507  17243     Ronald Jones II (DAL)    2022  164.0      3.1         8.866667   \n",
       "511  13943           Mike Davis (FA)    2022  189.5      0.6         6.433333   \n",
       "\n",
       "     ATT_RUSHING/G_avg  YDS_RUSHING/G_avg  TD_RUSHING/G_avg  \\\n",
       "0            17.863462          75.796474          0.670299   \n",
       "2             7.312500          27.187500          0.125000   \n",
       "3             7.500000          45.500000          0.500000   \n",
       "4            22.833333         103.516667          0.850000   \n",
       "5             2.285714          10.285714          0.000000   \n",
       "..                 ...                ...               ...   \n",
       "503          11.941176          53.117647          0.235294   \n",
       "505          12.150191          52.198257          0.261302   \n",
       "506           4.774918          18.378676          0.221814   \n",
       "507          10.399206          47.880159          0.380556   \n",
       "511           6.733660          24.879412          0.192157   \n",
       "\n",
       "     REC_RECEIVING/G_avg  ...  TD_RECEIVING/G_ewm  FL_MISC/G_ewm  \\\n",
       "0               2.856517  ...            0.181233       0.097861   \n",
       "2               5.000000  ...            0.312500       0.062500   \n",
       "3               5.062500  ...            0.312500       0.062500   \n",
       "4               2.366667  ...            0.144772       0.086193   \n",
       "5               0.000000  ...            0.000000       0.000000   \n",
       "..                   ...  ...                 ...            ...   \n",
       "503             2.529412  ...            0.176471       0.058824   \n",
       "505             0.921024  ...            0.062249       0.040811   \n",
       "506             1.713235  ...            0.072182       0.018878   \n",
       "507             1.534722  ...            0.022884       0.134497   \n",
       "511             2.368301  ...            0.069369       0.101314   \n",
       "\n",
       "     YDS/ATT_RUSHING_ewm  TD/ATT_RUSHING_ewm  YDS/REC_RECEIVING_ewm  \\\n",
       "0               4.233283            0.037919              10.043008   \n",
       "2               3.717949            0.017094               8.137500   \n",
       "3               6.066667            0.066667              10.197531   \n",
       "4               4.477537            0.036240              10.759372   \n",
       "5               4.500000            0.000000                    NaN   \n",
       "..                   ...                 ...                    ...   \n",
       "503             4.448276            0.019704               7.348837   \n",
       "505             4.497982            0.019189               9.753784   \n",
       "506             3.923073            0.043669               8.944107   \n",
       "507             4.505491            0.037527               7.045763   \n",
       "511             3.368517            0.021500               5.404426   \n",
       "\n",
       "     YDS/TGT_RECEIVING_ewm  REC/TGT_RECEIVING_ewm  TD/TGT_RECEIVING_ewm  \\\n",
       "0                 7.548106               0.753798              0.031247   \n",
       "2                 5.761062               0.707965              0.044248   \n",
       "3                 8.260000               0.810000              0.050000   \n",
       "4                 7.905739               0.732172              0.041186   \n",
       "5                 0.000000               0.000000              0.000000   \n",
       "..                     ...                    ...                   ...   \n",
       "503               5.962264               0.811321              0.056604   \n",
       "505               6.880262               0.673432              0.049327   \n",
       "506               6.913852               0.765299              0.027225   \n",
       "507               5.239210               0.737679              0.007628   \n",
       "511               4.353385               0.811973              0.016965   \n",
       "\n",
       "     Rookie  Career_Years  \n",
       "0         0             3  \n",
       "2         0             1  \n",
       "3         0             1  \n",
       "4         0             2  \n",
       "5         0             1  \n",
       "..      ...           ...  \n",
       "503       0             1  \n",
       "505       0             4  \n",
       "506       0             4  \n",
       "507       0             4  \n",
       "511       0             7  \n",
       "\n",
       "[420 rows x 37 columns]"
      ]
     },
     "execution_count": 4,
     "metadata": {},
     "output_type": "execute_result"
    }
   ],
   "source": [
    "df"
   ]
  },
  {
   "cell_type": "code",
   "execution_count": 5,
   "id": "solid-resort",
   "metadata": {},
   "outputs": [
    {
     "data": {
      "text/plain": [
       "2018    96\n",
       "2021    95\n",
       "2019    86\n",
       "2020    84\n",
       "2022    59\n",
       "Name: Season, dtype: int64"
      ]
     },
     "execution_count": 5,
     "metadata": {},
     "output_type": "execute_result"
    }
   ],
   "source": [
    "df.Season.value_counts()"
   ]
  },
  {
   "cell_type": "code",
   "execution_count": null,
   "id": "altered-license",
   "metadata": {},
   "outputs": [],
   "source": []
  },
  {
   "cell_type": "code",
   "execution_count": 6,
   "id": "premium-south",
   "metadata": {},
   "outputs": [
    {
     "name": "stderr",
     "output_type": "stream",
     "text": [
      "C:\\Users\\sergi\\AppData\\Local\\Temp\\ipykernel_22560\\3509869743.py:1: FutureWarning: The default value of numeric_only in DataFrame.corr is deprecated. In a future version, it will default to False. Select only valid columns or specify the value of numeric_only to silence this warning.\n",
      "  corrs = df.corr()\n"
     ]
    }
   ],
   "source": [
    "corrs = df.corr()"
   ]
  },
  {
   "cell_type": "code",
   "execution_count": 7,
   "id": "democratic-devices",
   "metadata": {},
   "outputs": [],
   "source": [
    "rel_cols = [\"Season\"]\n",
    "for i, vals in corrs[[\"FPTS_TG\"]].iterrows():\n",
    "    val = vals[\"FPTS_TG\"]\n",
    "    if (val > 0.4 or val < -0.4) and \"_ls\" not in i:\n",
    "        rel_cols.append(i)"
   ]
  },
  {
   "cell_type": "code",
   "execution_count": 8,
   "id": "moved-public",
   "metadata": {},
   "outputs": [],
   "source": [
    "rel_df = df[rel_cols]"
   ]
  },
  {
   "cell_type": "code",
   "execution_count": 9,
   "id": "comfortable-stocks",
   "metadata": {},
   "outputs": [
    {
     "name": "stderr",
     "output_type": "stream",
     "text": [
      "C:\\Users\\sergi\\AppData\\Local\\Temp\\ipykernel_22560\\1168811859.py:6: SettingWithCopyWarning: \n",
      "A value is trying to be set on a copy of a slice from a DataFrame.\n",
      "Try using .loc[row_indexer,col_indexer] = value instead\n",
      "\n",
      "See the caveats in the documentation: https://pandas.pydata.org/pandas-docs/stable/user_guide/indexing.html#returning-a-view-versus-a-copy\n",
      "  rel_df[new_name] = new_c\n",
      "C:\\Users\\sergi\\AppData\\Local\\Temp\\ipykernel_22560\\1168811859.py:6: SettingWithCopyWarning: \n",
      "A value is trying to be set on a copy of a slice from a DataFrame.\n",
      "Try using .loc[row_indexer,col_indexer] = value instead\n",
      "\n",
      "See the caveats in the documentation: https://pandas.pydata.org/pandas-docs/stable/user_guide/indexing.html#returning-a-view-versus-a-copy\n",
      "  rel_df[new_name] = new_c\n",
      "C:\\Users\\sergi\\AppData\\Local\\Temp\\ipykernel_22560\\1168811859.py:6: SettingWithCopyWarning: \n",
      "A value is trying to be set on a copy of a slice from a DataFrame.\n",
      "Try using .loc[row_indexer,col_indexer] = value instead\n",
      "\n",
      "See the caveats in the documentation: https://pandas.pydata.org/pandas-docs/stable/user_guide/indexing.html#returning-a-view-versus-a-copy\n",
      "  rel_df[new_name] = new_c\n",
      "C:\\Users\\sergi\\AppData\\Local\\Temp\\ipykernel_22560\\1168811859.py:6: SettingWithCopyWarning: \n",
      "A value is trying to be set on a copy of a slice from a DataFrame.\n",
      "Try using .loc[row_indexer,col_indexer] = value instead\n",
      "\n",
      "See the caveats in the documentation: https://pandas.pydata.org/pandas-docs/stable/user_guide/indexing.html#returning-a-view-versus-a-copy\n",
      "  rel_df[new_name] = new_c\n",
      "C:\\Users\\sergi\\AppData\\Local\\Temp\\ipykernel_22560\\1168811859.py:6: SettingWithCopyWarning: \n",
      "A value is trying to be set on a copy of a slice from a DataFrame.\n",
      "Try using .loc[row_indexer,col_indexer] = value instead\n",
      "\n",
      "See the caveats in the documentation: https://pandas.pydata.org/pandas-docs/stable/user_guide/indexing.html#returning-a-view-versus-a-copy\n",
      "  rel_df[new_name] = new_c\n",
      "C:\\Users\\sergi\\AppData\\Local\\Temp\\ipykernel_22560\\1168811859.py:6: SettingWithCopyWarning: \n",
      "A value is trying to be set on a copy of a slice from a DataFrame.\n",
      "Try using .loc[row_indexer,col_indexer] = value instead\n",
      "\n",
      "See the caveats in the documentation: https://pandas.pydata.org/pandas-docs/stable/user_guide/indexing.html#returning-a-view-versus-a-copy\n",
      "  rel_df[new_name] = new_c\n",
      "C:\\Users\\sergi\\AppData\\Local\\Temp\\ipykernel_22560\\1168811859.py:6: SettingWithCopyWarning: \n",
      "A value is trying to be set on a copy of a slice from a DataFrame.\n",
      "Try using .loc[row_indexer,col_indexer] = value instead\n",
      "\n",
      "See the caveats in the documentation: https://pandas.pydata.org/pandas-docs/stable/user_guide/indexing.html#returning-a-view-versus-a-copy\n",
      "  rel_df[new_name] = new_c\n",
      "C:\\Users\\sergi\\AppData\\Local\\Temp\\ipykernel_22560\\1168811859.py:6: SettingWithCopyWarning: \n",
      "A value is trying to be set on a copy of a slice from a DataFrame.\n",
      "Try using .loc[row_indexer,col_indexer] = value instead\n",
      "\n",
      "See the caveats in the documentation: https://pandas.pydata.org/pandas-docs/stable/user_guide/indexing.html#returning-a-view-versus-a-copy\n",
      "  rel_df[new_name] = new_c\n",
      "C:\\Users\\sergi\\AppData\\Local\\Temp\\ipykernel_22560\\1168811859.py:6: SettingWithCopyWarning: \n",
      "A value is trying to be set on a copy of a slice from a DataFrame.\n",
      "Try using .loc[row_indexer,col_indexer] = value instead\n",
      "\n",
      "See the caveats in the documentation: https://pandas.pydata.org/pandas-docs/stable/user_guide/indexing.html#returning-a-view-versus-a-copy\n",
      "  rel_df[new_name] = new_c\n",
      "C:\\Users\\sergi\\AppData\\Local\\Temp\\ipykernel_22560\\1168811859.py:6: SettingWithCopyWarning: \n",
      "A value is trying to be set on a copy of a slice from a DataFrame.\n",
      "Try using .loc[row_indexer,col_indexer] = value instead\n",
      "\n",
      "See the caveats in the documentation: https://pandas.pydata.org/pandas-docs/stable/user_guide/indexing.html#returning-a-view-versus-a-copy\n",
      "  rel_df[new_name] = new_c\n",
      "C:\\Users\\sergi\\AppData\\Local\\Temp\\ipykernel_22560\\1168811859.py:6: SettingWithCopyWarning: \n",
      "A value is trying to be set on a copy of a slice from a DataFrame.\n",
      "Try using .loc[row_indexer,col_indexer] = value instead\n",
      "\n",
      "See the caveats in the documentation: https://pandas.pydata.org/pandas-docs/stable/user_guide/indexing.html#returning-a-view-versus-a-copy\n",
      "  rel_df[new_name] = new_c\n",
      "C:\\Users\\sergi\\AppData\\Local\\Temp\\ipykernel_22560\\1168811859.py:6: SettingWithCopyWarning: \n",
      "A value is trying to be set on a copy of a slice from a DataFrame.\n",
      "Try using .loc[row_indexer,col_indexer] = value instead\n",
      "\n",
      "See the caveats in the documentation: https://pandas.pydata.org/pandas-docs/stable/user_guide/indexing.html#returning-a-view-versus-a-copy\n",
      "  rel_df[new_name] = new_c\n",
      "C:\\Users\\sergi\\AppData\\Local\\Temp\\ipykernel_22560\\1168811859.py:6: SettingWithCopyWarning: \n",
      "A value is trying to be set on a copy of a slice from a DataFrame.\n",
      "Try using .loc[row_indexer,col_indexer] = value instead\n",
      "\n",
      "See the caveats in the documentation: https://pandas.pydata.org/pandas-docs/stable/user_guide/indexing.html#returning-a-view-versus-a-copy\n",
      "  rel_df[new_name] = new_c\n",
      "C:\\Users\\sergi\\AppData\\Local\\Temp\\ipykernel_22560\\1168811859.py:6: SettingWithCopyWarning: \n",
      "A value is trying to be set on a copy of a slice from a DataFrame.\n",
      "Try using .loc[row_indexer,col_indexer] = value instead\n",
      "\n",
      "See the caveats in the documentation: https://pandas.pydata.org/pandas-docs/stable/user_guide/indexing.html#returning-a-view-versus-a-copy\n",
      "  rel_df[new_name] = new_c\n",
      "C:\\Users\\sergi\\AppData\\Local\\Temp\\ipykernel_22560\\1168811859.py:6: SettingWithCopyWarning: \n",
      "A value is trying to be set on a copy of a slice from a DataFrame.\n",
      "Try using .loc[row_indexer,col_indexer] = value instead\n",
      "\n",
      "See the caveats in the documentation: https://pandas.pydata.org/pandas-docs/stable/user_guide/indexing.html#returning-a-view-versus-a-copy\n",
      "  rel_df[new_name] = new_c\n",
      "C:\\Users\\sergi\\AppData\\Local\\Temp\\ipykernel_22560\\1168811859.py:6: SettingWithCopyWarning: \n",
      "A value is trying to be set on a copy of a slice from a DataFrame.\n",
      "Try using .loc[row_indexer,col_indexer] = value instead\n",
      "\n",
      "See the caveats in the documentation: https://pandas.pydata.org/pandas-docs/stable/user_guide/indexing.html#returning-a-view-versus-a-copy\n",
      "  rel_df[new_name] = new_c\n",
      "C:\\Users\\sergi\\AppData\\Local\\Temp\\ipykernel_22560\\1168811859.py:6: SettingWithCopyWarning: \n",
      "A value is trying to be set on a copy of a slice from a DataFrame.\n",
      "Try using .loc[row_indexer,col_indexer] = value instead\n",
      "\n",
      "See the caveats in the documentation: https://pandas.pydata.org/pandas-docs/stable/user_guide/indexing.html#returning-a-view-versus-a-copy\n",
      "  rel_df[new_name] = new_c\n"
     ]
    }
   ],
   "source": [
    "for col in rel_cols[2:]:\n",
    "    new_c = rel_df[col]/rel_df[\"AVG\"]\n",
    "    \n",
    "    new_name = col+\"_ADP\"\n",
    "    \n",
    "    rel_df[new_name] = new_c"
   ]
  },
  {
   "cell_type": "code",
   "execution_count": 10,
   "id": "detected-conservative",
   "metadata": {},
   "outputs": [],
   "source": [
    "corrs = rel_df.corr()"
   ]
  },
  {
   "cell_type": "code",
   "execution_count": 11,
   "id": "increased-container",
   "metadata": {},
   "outputs": [
    {
     "data": {
      "text/html": [
       "<div>\n",
       "<style scoped>\n",
       "    .dataframe tbody tr th:only-of-type {\n",
       "        vertical-align: middle;\n",
       "    }\n",
       "\n",
       "    .dataframe tbody tr th {\n",
       "        vertical-align: top;\n",
       "    }\n",
       "\n",
       "    .dataframe thead th {\n",
       "        text-align: right;\n",
       "    }\n",
       "</style>\n",
       "<table border=\"1\" class=\"dataframe\">\n",
       "  <thead>\n",
       "    <tr style=\"text-align: right;\">\n",
       "      <th></th>\n",
       "      <th>FPTS_TG</th>\n",
       "    </tr>\n",
       "  </thead>\n",
       "  <tbody>\n",
       "    <tr>\n",
       "      <th>Season</th>\n",
       "      <td>0.096831</td>\n",
       "    </tr>\n",
       "    <tr>\n",
       "      <th>AVG</th>\n",
       "      <td>-0.722483</td>\n",
       "    </tr>\n",
       "    <tr>\n",
       "      <th>FPTS_TG</th>\n",
       "      <td>1.000000</td>\n",
       "    </tr>\n",
       "    <tr>\n",
       "      <th>FPTS/G_MISC_avg</th>\n",
       "      <td>0.643941</td>\n",
       "    </tr>\n",
       "    <tr>\n",
       "      <th>ATT_RUSHING/G_avg</th>\n",
       "      <td>0.529244</td>\n",
       "    </tr>\n",
       "    <tr>\n",
       "      <th>YDS_RUSHING/G_avg</th>\n",
       "      <td>0.565597</td>\n",
       "    </tr>\n",
       "    <tr>\n",
       "      <th>TD_RUSHING/G_avg</th>\n",
       "      <td>0.547808</td>\n",
       "    </tr>\n",
       "    <tr>\n",
       "      <th>REC_RECEIVING/G_avg</th>\n",
       "      <td>0.475149</td>\n",
       "    </tr>\n",
       "    <tr>\n",
       "      <th>TGT_RECEIVING/G_avg</th>\n",
       "      <td>0.468800</td>\n",
       "    </tr>\n",
       "    <tr>\n",
       "      <th>YDS_RECEIVING/G_avg</th>\n",
       "      <td>0.486112</td>\n",
       "    </tr>\n",
       "    <tr>\n",
       "      <th>TD_RECEIVING/G_avg</th>\n",
       "      <td>0.400839</td>\n",
       "    </tr>\n",
       "    <tr>\n",
       "      <th>FPTS/G_MISC_ewm</th>\n",
       "      <td>0.664918</td>\n",
       "    </tr>\n",
       "    <tr>\n",
       "      <th>ATT_RUSHING/G_ewm</th>\n",
       "      <td>0.549453</td>\n",
       "    </tr>\n",
       "    <tr>\n",
       "      <th>YDS_RUSHING/G_ewm</th>\n",
       "      <td>0.585681</td>\n",
       "    </tr>\n",
       "    <tr>\n",
       "      <th>TD_RUSHING/G_ewm</th>\n",
       "      <td>0.561245</td>\n",
       "    </tr>\n",
       "    <tr>\n",
       "      <th>REC_RECEIVING/G_ewm</th>\n",
       "      <td>0.490184</td>\n",
       "    </tr>\n",
       "    <tr>\n",
       "      <th>TGT_RECEIVING/G_ewm</th>\n",
       "      <td>0.482967</td>\n",
       "    </tr>\n",
       "    <tr>\n",
       "      <th>YDS_RECEIVING/G_ewm</th>\n",
       "      <td>0.499454</td>\n",
       "    </tr>\n",
       "    <tr>\n",
       "      <th>TD_RECEIVING/G_ewm</th>\n",
       "      <td>0.407301</td>\n",
       "    </tr>\n",
       "    <tr>\n",
       "      <th>FPTS_TG_ADP</th>\n",
       "      <td>0.491536</td>\n",
       "    </tr>\n",
       "    <tr>\n",
       "      <th>FPTS/G_MISC_avg_ADP</th>\n",
       "      <td>0.423988</td>\n",
       "    </tr>\n",
       "    <tr>\n",
       "      <th>ATT_RUSHING/G_avg_ADP</th>\n",
       "      <td>0.440010</td>\n",
       "    </tr>\n",
       "    <tr>\n",
       "      <th>YDS_RUSHING/G_avg_ADP</th>\n",
       "      <td>0.430166</td>\n",
       "    </tr>\n",
       "    <tr>\n",
       "      <th>TD_RUSHING/G_avg_ADP</th>\n",
       "      <td>0.396152</td>\n",
       "    </tr>\n",
       "    <tr>\n",
       "      <th>REC_RECEIVING/G_avg_ADP</th>\n",
       "      <td>0.401490</td>\n",
       "    </tr>\n",
       "    <tr>\n",
       "      <th>TGT_RECEIVING/G_avg_ADP</th>\n",
       "      <td>0.405958</td>\n",
       "    </tr>\n",
       "    <tr>\n",
       "      <th>YDS_RECEIVING/G_avg_ADP</th>\n",
       "      <td>0.408426</td>\n",
       "    </tr>\n",
       "    <tr>\n",
       "      <th>TD_RECEIVING/G_avg_ADP</th>\n",
       "      <td>0.398589</td>\n",
       "    </tr>\n",
       "    <tr>\n",
       "      <th>FPTS/G_MISC_ewm_ADP</th>\n",
       "      <td>0.424981</td>\n",
       "    </tr>\n",
       "    <tr>\n",
       "      <th>ATT_RUSHING/G_ewm_ADP</th>\n",
       "      <td>0.441445</td>\n",
       "    </tr>\n",
       "    <tr>\n",
       "      <th>YDS_RUSHING/G_ewm_ADP</th>\n",
       "      <td>0.432215</td>\n",
       "    </tr>\n",
       "    <tr>\n",
       "      <th>TD_RUSHING/G_ewm_ADP</th>\n",
       "      <td>0.391287</td>\n",
       "    </tr>\n",
       "    <tr>\n",
       "      <th>REC_RECEIVING/G_ewm_ADP</th>\n",
       "      <td>0.406730</td>\n",
       "    </tr>\n",
       "    <tr>\n",
       "      <th>TGT_RECEIVING/G_ewm_ADP</th>\n",
       "      <td>0.410919</td>\n",
       "    </tr>\n",
       "    <tr>\n",
       "      <th>YDS_RECEIVING/G_ewm_ADP</th>\n",
       "      <td>0.412085</td>\n",
       "    </tr>\n",
       "    <tr>\n",
       "      <th>TD_RECEIVING/G_ewm_ADP</th>\n",
       "      <td>0.404320</td>\n",
       "    </tr>\n",
       "  </tbody>\n",
       "</table>\n",
       "</div>"
      ],
      "text/plain": [
       "                          FPTS_TG\n",
       "Season                   0.096831\n",
       "AVG                     -0.722483\n",
       "FPTS_TG                  1.000000\n",
       "FPTS/G_MISC_avg          0.643941\n",
       "ATT_RUSHING/G_avg        0.529244\n",
       "YDS_RUSHING/G_avg        0.565597\n",
       "TD_RUSHING/G_avg         0.547808\n",
       "REC_RECEIVING/G_avg      0.475149\n",
       "TGT_RECEIVING/G_avg      0.468800\n",
       "YDS_RECEIVING/G_avg      0.486112\n",
       "TD_RECEIVING/G_avg       0.400839\n",
       "FPTS/G_MISC_ewm          0.664918\n",
       "ATT_RUSHING/G_ewm        0.549453\n",
       "YDS_RUSHING/G_ewm        0.585681\n",
       "TD_RUSHING/G_ewm         0.561245\n",
       "REC_RECEIVING/G_ewm      0.490184\n",
       "TGT_RECEIVING/G_ewm      0.482967\n",
       "YDS_RECEIVING/G_ewm      0.499454\n",
       "TD_RECEIVING/G_ewm       0.407301\n",
       "FPTS_TG_ADP              0.491536\n",
       "FPTS/G_MISC_avg_ADP      0.423988\n",
       "ATT_RUSHING/G_avg_ADP    0.440010\n",
       "YDS_RUSHING/G_avg_ADP    0.430166\n",
       "TD_RUSHING/G_avg_ADP     0.396152\n",
       "REC_RECEIVING/G_avg_ADP  0.401490\n",
       "TGT_RECEIVING/G_avg_ADP  0.405958\n",
       "YDS_RECEIVING/G_avg_ADP  0.408426\n",
       "TD_RECEIVING/G_avg_ADP   0.398589\n",
       "FPTS/G_MISC_ewm_ADP      0.424981\n",
       "ATT_RUSHING/G_ewm_ADP    0.441445\n",
       "YDS_RUSHING/G_ewm_ADP    0.432215\n",
       "TD_RUSHING/G_ewm_ADP     0.391287\n",
       "REC_RECEIVING/G_ewm_ADP  0.406730\n",
       "TGT_RECEIVING/G_ewm_ADP  0.410919\n",
       "YDS_RECEIVING/G_ewm_ADP  0.412085\n",
       "TD_RECEIVING/G_ewm_ADP   0.404320"
      ]
     },
     "execution_count": 11,
     "metadata": {},
     "output_type": "execute_result"
    }
   ],
   "source": [
    "corrs[[\"FPTS_TG\"]]"
   ]
  },
  {
   "cell_type": "code",
   "execution_count": 12,
   "id": "contemporary-purpose",
   "metadata": {},
   "outputs": [],
   "source": [
    "rel_df = df[rel_cols]"
   ]
  },
  {
   "cell_type": "code",
   "execution_count": null,
   "id": "residential-rover",
   "metadata": {},
   "outputs": [],
   "source": []
  },
  {
   "cell_type": "code",
   "execution_count": 13,
   "id": "chubby-donor",
   "metadata": {},
   "outputs": [
    {
     "name": "stderr",
     "output_type": "stream",
     "text": [
      "C:\\Users\\sergi\\AppData\\Local\\Temp\\ipykernel_22560\\2762625234.py:10: SettingWithCopyWarning: \n",
      "A value is trying to be set on a copy of a slice from a DataFrame.\n",
      "Try using .loc[row_indexer,col_indexer] = value instead\n",
      "\n",
      "See the caveats in the documentation: https://pandas.pydata.org/pandas-docs/stable/user_guide/indexing.html#returning-a-view-versus-a-copy\n",
      "  rel_df[new_name] = new_c\n",
      "C:\\Users\\sergi\\AppData\\Local\\Temp\\ipykernel_22560\\2762625234.py:10: SettingWithCopyWarning: \n",
      "A value is trying to be set on a copy of a slice from a DataFrame.\n",
      "Try using .loc[row_indexer,col_indexer] = value instead\n",
      "\n",
      "See the caveats in the documentation: https://pandas.pydata.org/pandas-docs/stable/user_guide/indexing.html#returning-a-view-versus-a-copy\n",
      "  rel_df[new_name] = new_c\n",
      "C:\\Users\\sergi\\AppData\\Local\\Temp\\ipykernel_22560\\2762625234.py:10: SettingWithCopyWarning: \n",
      "A value is trying to be set on a copy of a slice from a DataFrame.\n",
      "Try using .loc[row_indexer,col_indexer] = value instead\n",
      "\n",
      "See the caveats in the documentation: https://pandas.pydata.org/pandas-docs/stable/user_guide/indexing.html#returning-a-view-versus-a-copy\n",
      "  rel_df[new_name] = new_c\n",
      "C:\\Users\\sergi\\AppData\\Local\\Temp\\ipykernel_22560\\2762625234.py:10: SettingWithCopyWarning: \n",
      "A value is trying to be set on a copy of a slice from a DataFrame.\n",
      "Try using .loc[row_indexer,col_indexer] = value instead\n",
      "\n",
      "See the caveats in the documentation: https://pandas.pydata.org/pandas-docs/stable/user_guide/indexing.html#returning-a-view-versus-a-copy\n",
      "  rel_df[new_name] = new_c\n",
      "C:\\Users\\sergi\\AppData\\Local\\Temp\\ipykernel_22560\\2762625234.py:10: SettingWithCopyWarning: \n",
      "A value is trying to be set on a copy of a slice from a DataFrame.\n",
      "Try using .loc[row_indexer,col_indexer] = value instead\n",
      "\n",
      "See the caveats in the documentation: https://pandas.pydata.org/pandas-docs/stable/user_guide/indexing.html#returning-a-view-versus-a-copy\n",
      "  rel_df[new_name] = new_c\n",
      "C:\\Users\\sergi\\AppData\\Local\\Temp\\ipykernel_22560\\2762625234.py:10: SettingWithCopyWarning: \n",
      "A value is trying to be set on a copy of a slice from a DataFrame.\n",
      "Try using .loc[row_indexer,col_indexer] = value instead\n",
      "\n",
      "See the caveats in the documentation: https://pandas.pydata.org/pandas-docs/stable/user_guide/indexing.html#returning-a-view-versus-a-copy\n",
      "  rel_df[new_name] = new_c\n",
      "C:\\Users\\sergi\\AppData\\Local\\Temp\\ipykernel_22560\\2762625234.py:10: SettingWithCopyWarning: \n",
      "A value is trying to be set on a copy of a slice from a DataFrame.\n",
      "Try using .loc[row_indexer,col_indexer] = value instead\n",
      "\n",
      "See the caveats in the documentation: https://pandas.pydata.org/pandas-docs/stable/user_guide/indexing.html#returning-a-view-versus-a-copy\n",
      "  rel_df[new_name] = new_c\n",
      "C:\\Users\\sergi\\AppData\\Local\\Temp\\ipykernel_22560\\2762625234.py:10: SettingWithCopyWarning: \n",
      "A value is trying to be set on a copy of a slice from a DataFrame.\n",
      "Try using .loc[row_indexer,col_indexer] = value instead\n",
      "\n",
      "See the caveats in the documentation: https://pandas.pydata.org/pandas-docs/stable/user_guide/indexing.html#returning-a-view-versus-a-copy\n",
      "  rel_df[new_name] = new_c\n",
      "C:\\Users\\sergi\\AppData\\Local\\Temp\\ipykernel_22560\\2762625234.py:10: SettingWithCopyWarning: \n",
      "A value is trying to be set on a copy of a slice from a DataFrame.\n",
      "Try using .loc[row_indexer,col_indexer] = value instead\n",
      "\n",
      "See the caveats in the documentation: https://pandas.pydata.org/pandas-docs/stable/user_guide/indexing.html#returning-a-view-versus-a-copy\n",
      "  rel_df[new_name] = new_c\n",
      "C:\\Users\\sergi\\AppData\\Local\\Temp\\ipykernel_22560\\2762625234.py:10: SettingWithCopyWarning: \n",
      "A value is trying to be set on a copy of a slice from a DataFrame.\n",
      "Try using .loc[row_indexer,col_indexer] = value instead\n",
      "\n",
      "See the caveats in the documentation: https://pandas.pydata.org/pandas-docs/stable/user_guide/indexing.html#returning-a-view-versus-a-copy\n",
      "  rel_df[new_name] = new_c\n",
      "C:\\Users\\sergi\\AppData\\Local\\Temp\\ipykernel_22560\\2762625234.py:10: SettingWithCopyWarning: \n",
      "A value is trying to be set on a copy of a slice from a DataFrame.\n",
      "Try using .loc[row_indexer,col_indexer] = value instead\n",
      "\n",
      "See the caveats in the documentation: https://pandas.pydata.org/pandas-docs/stable/user_guide/indexing.html#returning-a-view-versus-a-copy\n",
      "  rel_df[new_name] = new_c\n",
      "C:\\Users\\sergi\\AppData\\Local\\Temp\\ipykernel_22560\\2762625234.py:10: SettingWithCopyWarning: \n",
      "A value is trying to be set on a copy of a slice from a DataFrame.\n",
      "Try using .loc[row_indexer,col_indexer] = value instead\n",
      "\n",
      "See the caveats in the documentation: https://pandas.pydata.org/pandas-docs/stable/user_guide/indexing.html#returning-a-view-versus-a-copy\n",
      "  rel_df[new_name] = new_c\n",
      "C:\\Users\\sergi\\AppData\\Local\\Temp\\ipykernel_22560\\2762625234.py:10: SettingWithCopyWarning: \n",
      "A value is trying to be set on a copy of a slice from a DataFrame.\n",
      "Try using .loc[row_indexer,col_indexer] = value instead\n",
      "\n",
      "See the caveats in the documentation: https://pandas.pydata.org/pandas-docs/stable/user_guide/indexing.html#returning-a-view-versus-a-copy\n",
      "  rel_df[new_name] = new_c\n",
      "C:\\Users\\sergi\\AppData\\Local\\Temp\\ipykernel_22560\\2762625234.py:10: SettingWithCopyWarning: \n",
      "A value is trying to be set on a copy of a slice from a DataFrame.\n",
      "Try using .loc[row_indexer,col_indexer] = value instead\n",
      "\n",
      "See the caveats in the documentation: https://pandas.pydata.org/pandas-docs/stable/user_guide/indexing.html#returning-a-view-versus-a-copy\n",
      "  rel_df[new_name] = new_c\n"
     ]
    }
   ],
   "source": [
    "for col in rel_df.columns[2:]:\n",
    "    if \"FPTS\" not in col:\n",
    "        if \"_avg\" in col:\n",
    "            new_c = rel_df[\"FPTS/G_MISC_avg\"]*rel_df[col]\n",
    "        elif \"_ewm\" in col:\n",
    "            new_c = rel_df[\"FPTS/G_MISC_ewm\"]*rel_df[col]\n",
    "        \n",
    "        new_name = col+\"_FP\"\n",
    "\n",
    "        rel_df[new_name] = new_c"
   ]
  },
  {
   "cell_type": "code",
   "execution_count": 14,
   "id": "electoral-catalyst",
   "metadata": {},
   "outputs": [],
   "source": [
    "corrs = rel_df.corr()"
   ]
  },
  {
   "cell_type": "code",
   "execution_count": 15,
   "id": "permanent-yield",
   "metadata": {},
   "outputs": [
    {
     "data": {
      "text/html": [
       "<div>\n",
       "<style scoped>\n",
       "    .dataframe tbody tr th:only-of-type {\n",
       "        vertical-align: middle;\n",
       "    }\n",
       "\n",
       "    .dataframe tbody tr th {\n",
       "        vertical-align: top;\n",
       "    }\n",
       "\n",
       "    .dataframe thead th {\n",
       "        text-align: right;\n",
       "    }\n",
       "</style>\n",
       "<table border=\"1\" class=\"dataframe\">\n",
       "  <thead>\n",
       "    <tr style=\"text-align: right;\">\n",
       "      <th></th>\n",
       "      <th>FPTS_TG</th>\n",
       "    </tr>\n",
       "  </thead>\n",
       "  <tbody>\n",
       "    <tr>\n",
       "      <th>Season</th>\n",
       "      <td>0.096831</td>\n",
       "    </tr>\n",
       "    <tr>\n",
       "      <th>AVG</th>\n",
       "      <td>-0.722483</td>\n",
       "    </tr>\n",
       "    <tr>\n",
       "      <th>FPTS_TG</th>\n",
       "      <td>1.000000</td>\n",
       "    </tr>\n",
       "    <tr>\n",
       "      <th>FPTS/G_MISC_avg</th>\n",
       "      <td>0.643941</td>\n",
       "    </tr>\n",
       "    <tr>\n",
       "      <th>ATT_RUSHING/G_avg</th>\n",
       "      <td>0.529244</td>\n",
       "    </tr>\n",
       "    <tr>\n",
       "      <th>YDS_RUSHING/G_avg</th>\n",
       "      <td>0.565597</td>\n",
       "    </tr>\n",
       "    <tr>\n",
       "      <th>TD_RUSHING/G_avg</th>\n",
       "      <td>0.547808</td>\n",
       "    </tr>\n",
       "    <tr>\n",
       "      <th>REC_RECEIVING/G_avg</th>\n",
       "      <td>0.475149</td>\n",
       "    </tr>\n",
       "    <tr>\n",
       "      <th>TGT_RECEIVING/G_avg</th>\n",
       "      <td>0.468800</td>\n",
       "    </tr>\n",
       "    <tr>\n",
       "      <th>YDS_RECEIVING/G_avg</th>\n",
       "      <td>0.486112</td>\n",
       "    </tr>\n",
       "    <tr>\n",
       "      <th>TD_RECEIVING/G_avg</th>\n",
       "      <td>0.400839</td>\n",
       "    </tr>\n",
       "    <tr>\n",
       "      <th>FPTS/G_MISC_ewm</th>\n",
       "      <td>0.664918</td>\n",
       "    </tr>\n",
       "    <tr>\n",
       "      <th>ATT_RUSHING/G_ewm</th>\n",
       "      <td>0.549453</td>\n",
       "    </tr>\n",
       "    <tr>\n",
       "      <th>YDS_RUSHING/G_ewm</th>\n",
       "      <td>0.585681</td>\n",
       "    </tr>\n",
       "    <tr>\n",
       "      <th>TD_RUSHING/G_ewm</th>\n",
       "      <td>0.561245</td>\n",
       "    </tr>\n",
       "    <tr>\n",
       "      <th>REC_RECEIVING/G_ewm</th>\n",
       "      <td>0.490184</td>\n",
       "    </tr>\n",
       "    <tr>\n",
       "      <th>TGT_RECEIVING/G_ewm</th>\n",
       "      <td>0.482967</td>\n",
       "    </tr>\n",
       "    <tr>\n",
       "      <th>YDS_RECEIVING/G_ewm</th>\n",
       "      <td>0.499454</td>\n",
       "    </tr>\n",
       "    <tr>\n",
       "      <th>TD_RECEIVING/G_ewm</th>\n",
       "      <td>0.407301</td>\n",
       "    </tr>\n",
       "    <tr>\n",
       "      <th>ATT_RUSHING/G_avg_FP</th>\n",
       "      <td>0.595517</td>\n",
       "    </tr>\n",
       "    <tr>\n",
       "      <th>YDS_RUSHING/G_avg_FP</th>\n",
       "      <td>0.608366</td>\n",
       "    </tr>\n",
       "    <tr>\n",
       "      <th>TD_RUSHING/G_avg_FP</th>\n",
       "      <td>0.580524</td>\n",
       "    </tr>\n",
       "    <tr>\n",
       "      <th>REC_RECEIVING/G_avg_FP</th>\n",
       "      <td>0.573311</td>\n",
       "    </tr>\n",
       "    <tr>\n",
       "      <th>TGT_RECEIVING/G_avg_FP</th>\n",
       "      <td>0.573820</td>\n",
       "    </tr>\n",
       "    <tr>\n",
       "      <th>YDS_RECEIVING/G_avg_FP</th>\n",
       "      <td>0.575993</td>\n",
       "    </tr>\n",
       "    <tr>\n",
       "      <th>TD_RECEIVING/G_avg_FP</th>\n",
       "      <td>0.511058</td>\n",
       "    </tr>\n",
       "    <tr>\n",
       "      <th>ATT_RUSHING/G_ewm_FP</th>\n",
       "      <td>0.618723</td>\n",
       "    </tr>\n",
       "    <tr>\n",
       "      <th>YDS_RUSHING/G_ewm_FP</th>\n",
       "      <td>0.630851</td>\n",
       "    </tr>\n",
       "    <tr>\n",
       "      <th>TD_RUSHING/G_ewm_FP</th>\n",
       "      <td>0.595100</td>\n",
       "    </tr>\n",
       "    <tr>\n",
       "      <th>REC_RECEIVING/G_ewm_FP</th>\n",
       "      <td>0.595126</td>\n",
       "    </tr>\n",
       "    <tr>\n",
       "      <th>TGT_RECEIVING/G_ewm_FP</th>\n",
       "      <td>0.595664</td>\n",
       "    </tr>\n",
       "    <tr>\n",
       "      <th>YDS_RECEIVING/G_ewm_FP</th>\n",
       "      <td>0.596061</td>\n",
       "    </tr>\n",
       "    <tr>\n",
       "      <th>TD_RECEIVING/G_ewm_FP</th>\n",
       "      <td>0.518831</td>\n",
       "    </tr>\n",
       "  </tbody>\n",
       "</table>\n",
       "</div>"
      ],
      "text/plain": [
       "                         FPTS_TG\n",
       "Season                  0.096831\n",
       "AVG                    -0.722483\n",
       "FPTS_TG                 1.000000\n",
       "FPTS/G_MISC_avg         0.643941\n",
       "ATT_RUSHING/G_avg       0.529244\n",
       "YDS_RUSHING/G_avg       0.565597\n",
       "TD_RUSHING/G_avg        0.547808\n",
       "REC_RECEIVING/G_avg     0.475149\n",
       "TGT_RECEIVING/G_avg     0.468800\n",
       "YDS_RECEIVING/G_avg     0.486112\n",
       "TD_RECEIVING/G_avg      0.400839\n",
       "FPTS/G_MISC_ewm         0.664918\n",
       "ATT_RUSHING/G_ewm       0.549453\n",
       "YDS_RUSHING/G_ewm       0.585681\n",
       "TD_RUSHING/G_ewm        0.561245\n",
       "REC_RECEIVING/G_ewm     0.490184\n",
       "TGT_RECEIVING/G_ewm     0.482967\n",
       "YDS_RECEIVING/G_ewm     0.499454\n",
       "TD_RECEIVING/G_ewm      0.407301\n",
       "ATT_RUSHING/G_avg_FP    0.595517\n",
       "YDS_RUSHING/G_avg_FP    0.608366\n",
       "TD_RUSHING/G_avg_FP     0.580524\n",
       "REC_RECEIVING/G_avg_FP  0.573311\n",
       "TGT_RECEIVING/G_avg_FP  0.573820\n",
       "YDS_RECEIVING/G_avg_FP  0.575993\n",
       "TD_RECEIVING/G_avg_FP   0.511058\n",
       "ATT_RUSHING/G_ewm_FP    0.618723\n",
       "YDS_RUSHING/G_ewm_FP    0.630851\n",
       "TD_RUSHING/G_ewm_FP     0.595100\n",
       "REC_RECEIVING/G_ewm_FP  0.595126\n",
       "TGT_RECEIVING/G_ewm_FP  0.595664\n",
       "YDS_RECEIVING/G_ewm_FP  0.596061\n",
       "TD_RECEIVING/G_ewm_FP   0.518831"
      ]
     },
     "execution_count": 15,
     "metadata": {},
     "output_type": "execute_result"
    }
   ],
   "source": [
    "corrs[[\"FPTS_TG\"]]#.tail(30)"
   ]
  },
  {
   "cell_type": "code",
   "execution_count": null,
   "id": "adopted-enhancement",
   "metadata": {},
   "outputs": [],
   "source": []
  },
  {
   "cell_type": "code",
   "execution_count": null,
   "id": "duplicate-sender",
   "metadata": {},
   "outputs": [],
   "source": []
  },
  {
   "cell_type": "code",
   "execution_count": 16,
   "id": "entire-powell",
   "metadata": {},
   "outputs": [],
   "source": [
    "model_cols = [\"Season\"]\n",
    "for i, vals in corrs[[\"FPTS_TG\"]].iterrows():\n",
    "    val = vals[\"FPTS_TG\"]\n",
    "    if val > 0.55 or val < -0.55:\n",
    "        model_cols.append(i)"
   ]
  },
  {
   "cell_type": "code",
   "execution_count": 36,
   "id": "harmful-transformation",
   "metadata": {},
   "outputs": [],
   "source": [
    "import pickle\n",
    "with open(\"rb_feats\", \"wb\") as fp:   #Pickling\n",
    "    pickle.dump(model_cols, fp)"
   ]
  },
  {
   "cell_type": "code",
   "execution_count": 17,
   "id": "documentary-evolution",
   "metadata": {},
   "outputs": [
    {
     "data": {
      "text/plain": [
       "['Season',\n",
       " 'AVG',\n",
       " 'FPTS_TG',\n",
       " 'FPTS/G_MISC_avg',\n",
       " 'YDS_RUSHING/G_avg',\n",
       " 'FPTS/G_MISC_ewm',\n",
       " 'YDS_RUSHING/G_ewm',\n",
       " 'TD_RUSHING/G_ewm',\n",
       " 'ATT_RUSHING/G_avg_FP',\n",
       " 'YDS_RUSHING/G_avg_FP',\n",
       " 'TD_RUSHING/G_avg_FP',\n",
       " 'REC_RECEIVING/G_avg_FP',\n",
       " 'TGT_RECEIVING/G_avg_FP',\n",
       " 'YDS_RECEIVING/G_avg_FP',\n",
       " 'ATT_RUSHING/G_ewm_FP',\n",
       " 'YDS_RUSHING/G_ewm_FP',\n",
       " 'TD_RUSHING/G_ewm_FP',\n",
       " 'REC_RECEIVING/G_ewm_FP',\n",
       " 'TGT_RECEIVING/G_ewm_FP',\n",
       " 'YDS_RECEIVING/G_ewm_FP']"
      ]
     },
     "execution_count": 17,
     "metadata": {},
     "output_type": "execute_result"
    }
   ],
   "source": [
    "model_cols"
   ]
  },
  {
   "cell_type": "code",
   "execution_count": 18,
   "id": "psychological-literacy",
   "metadata": {},
   "outputs": [],
   "source": [
    "import seaborn as sns\n",
    "import matplotlib.pyplot as plt"
   ]
  },
  {
   "cell_type": "code",
   "execution_count": 19,
   "id": "sharing-genealogy",
   "metadata": {},
   "outputs": [],
   "source": [
    "model_df = rel_df[model_cols]"
   ]
  },
  {
   "cell_type": "code",
   "execution_count": 20,
   "id": "norwegian-operation",
   "metadata": {},
   "outputs": [
    {
     "data": {
      "text/plain": [
       "Index(['Season', 'AVG', 'FPTS_TG', 'FPTS/G_MISC_avg', 'YDS_RUSHING/G_avg',\n",
       "       'FPTS/G_MISC_ewm', 'YDS_RUSHING/G_ewm', 'TD_RUSHING/G_ewm',\n",
       "       'ATT_RUSHING/G_avg_FP', 'YDS_RUSHING/G_avg_FP', 'TD_RUSHING/G_avg_FP',\n",
       "       'REC_RECEIVING/G_avg_FP', 'TGT_RECEIVING/G_avg_FP',\n",
       "       'YDS_RECEIVING/G_avg_FP', 'ATT_RUSHING/G_ewm_FP',\n",
       "       'YDS_RUSHING/G_ewm_FP', 'TD_RUSHING/G_ewm_FP', 'REC_RECEIVING/G_ewm_FP',\n",
       "       'TGT_RECEIVING/G_ewm_FP', 'YDS_RECEIVING/G_ewm_FP'],\n",
       "      dtype='object')"
      ]
     },
     "execution_count": 20,
     "metadata": {},
     "output_type": "execute_result"
    }
   ],
   "source": [
    "model_df.columns"
   ]
  },
  {
   "cell_type": "code",
   "execution_count": 25,
   "id": "sorted-effectiveness",
   "metadata": {},
   "outputs": [],
   "source": [
    "#plt.figure(figsize=(15, 10))\n",
    "#sns.regplot(model_df[\"AVG\"], model_df[\"FPTS_TG\"])"
   ]
  },
  {
   "cell_type": "code",
   "execution_count": 26,
   "id": "adaptive-algorithm",
   "metadata": {},
   "outputs": [],
   "source": [
    "#plt.figure(figsize=(15, 10))\n",
    "#sns.regplot(model_df[\"FPTS_TG\"], model_df[\"REC_RECEIVING_avg_FP\"])"
   ]
  },
  {
   "cell_type": "code",
   "execution_count": 27,
   "id": "closing-myrtle",
   "metadata": {},
   "outputs": [
    {
     "data": {
      "text/plain": [
       "<Figure size 1500x1000 with 0 Axes>"
      ]
     },
     "execution_count": 27,
     "metadata": {},
     "output_type": "execute_result"
    },
    {
     "data": {
      "text/plain": [
       "<Figure size 1500x1000 with 0 Axes>"
      ]
     },
     "metadata": {},
     "output_type": "display_data"
    }
   ],
   "source": [
    "\n",
    "plt.figure(figsize=(15, 10))\n",
    "#sns.regplot(model_df[\"FPTS_TG\"], model_df[\"REC_RECEIVING/G_ls_FP\"])"
   ]
  },
  {
   "cell_type": "code",
   "execution_count": null,
   "id": "premium-nebraska",
   "metadata": {},
   "outputs": [],
   "source": []
  },
  {
   "cell_type": "code",
   "execution_count": 21,
   "id": "funded-invite",
   "metadata": {},
   "outputs": [],
   "source": [
    "model_df = model_df.fillna(0)"
   ]
  },
  {
   "cell_type": "code",
   "execution_count": 22,
   "id": "sealed-courtesy",
   "metadata": {},
   "outputs": [],
   "source": [
    "# Linear Regression"
   ]
  },
  {
   "cell_type": "code",
   "execution_count": 23,
   "id": "metric-jacksonville",
   "metadata": {},
   "outputs": [],
   "source": [
    "from sklearn.linear_model import LinearRegression\n",
    "from sklearn.model_selection import train_test_split\n",
    "from sklearn import preprocessing"
   ]
  },
  {
   "cell_type": "code",
   "execution_count": null,
   "id": "relevant-sweden",
   "metadata": {},
   "outputs": [],
   "source": []
  },
  {
   "cell_type": "code",
   "execution_count": 37,
   "id": "recent-affairs",
   "metadata": {},
   "outputs": [],
   "source": [
    "X = model_df.drop([\"FPTS_TG\", \"Season\"], axis=1)\n",
    "y = model_df[[\"FPTS_TG\"]]\n",
    "X_train, X_test, y_train, y_test = train_test_split(X, y, random_state=0)\n",
    "\n",
    "lr = LinearRegression()\n",
    "sc = preprocessing.StandardScaler()\n",
    "\n",
    "X_train_sc = sc.fit_transform(X_train)\n",
    "\n",
    "X_test_sc = sc.transform(X_test)\n",
    "\n",
    "lr.fit(X_train_sc, y_train)\n",
    "y_pred = lr.predict(X_test_sc)"
   ]
  },
  {
   "cell_type": "code",
   "execution_count": null,
   "id": "dressed-legislature",
   "metadata": {},
   "outputs": [],
   "source": []
  },
  {
   "cell_type": "code",
   "execution_count": 25,
   "id": "internal-nursing",
   "metadata": {},
   "outputs": [],
   "source": [
    "from sklearn.metrics import r2_score, mean_absolute_error, mean_squared_error"
   ]
  },
  {
   "cell_type": "code",
   "execution_count": 39,
   "id": "vanilla-yesterday",
   "metadata": {},
   "outputs": [],
   "source": [
    "def evaluate(y_test, y_pred):\n",
    "    mae = mean_absolute_error(y_test, y_pred)\n",
    "    mse = mean_squared_error(y_test, y_pred)\n",
    "    r2 = r2_score(y_test, y_pred)\n",
    "    \n",
    "    print(\"mae: \", mae)\n",
    "    print(\"mse: \", mse)\n",
    "    print(\"r2: \", r2)"
   ]
  },
  {
   "cell_type": "code",
   "execution_count": 40,
   "id": "personal-tooth",
   "metadata": {},
   "outputs": [
    {
     "name": "stdout",
     "output_type": "stream",
     "text": [
      "mae:  2.9001110016392415\n",
      "mse:  14.12441837547818\n",
      "r2:  0.5708729421179581\n"
     ]
    }
   ],
   "source": [
    "evaluate(y_test, y_pred)"
   ]
  },
  {
   "cell_type": "code",
   "execution_count": 41,
   "id": "champion-soundtrack",
   "metadata": {},
   "outputs": [
    {
     "name": "stdout",
     "output_type": "stream",
     "text": [
      "mae:  2.3524321980102894\n",
      "mse:  8.654060881100161\n",
      "r2:  0.49756249904749417\n"
     ]
    }
   ],
   "source": [
    "X_22 = model_df[model_df.Season == 2022].drop([\"FPTS_TG\", \"Season\"], axis=1)\n",
    "mdd = df[df.Season == 2022][[\"FPTS_TG\", \"Player\"]].copy()\n",
    "mdd[\"comp\"] = lr.predict(sc.transform(X_22))\n",
    "\n",
    "evaluate(mdd.FPTS_TG, mdd.comp)"
   ]
  },
  {
   "cell_type": "code",
   "execution_count": null,
   "id": "compressed-impact",
   "metadata": {},
   "outputs": [],
   "source": []
  },
  {
   "cell_type": "code",
   "execution_count": null,
   "id": "terminal-examination",
   "metadata": {},
   "outputs": [],
   "source": []
  },
  {
   "cell_type": "code",
   "execution_count": null,
   "id": "blind-juvenile",
   "metadata": {},
   "outputs": [],
   "source": []
  },
  {
   "cell_type": "code",
   "execution_count": 42,
   "id": "proved-excellence",
   "metadata": {},
   "outputs": [],
   "source": [
    "from sklearn.ensemble import RandomForestRegressor"
   ]
  },
  {
   "cell_type": "code",
   "execution_count": 56,
   "id": "typical-practitioner",
   "metadata": {},
   "outputs": [],
   "source": [
    "rf = RandomForestRegressor(max_depth=2, random_state=0)"
   ]
  },
  {
   "cell_type": "code",
   "execution_count": null,
   "id": "recognized-impact",
   "metadata": {},
   "outputs": [],
   "source": []
  },
  {
   "cell_type": "code",
   "execution_count": 89,
   "id": "84e2fb73",
   "metadata": {},
   "outputs": [],
   "source": [
    "random_grid = {'n_estimators': [300, 500, 700],\n",
    "               'max_features': [\"sqrt\"],\n",
    "               'max_depth': [2, 5, 10, 20],\n",
    "               'min_samples_split': [2, 5, 10],\n",
    "              }"
   ]
  },
  {
   "cell_type": "code",
   "execution_count": 90,
   "id": "0ab90f7d",
   "metadata": {},
   "outputs": [],
   "source": [
    "from sklearn.model_selection import RandomizedSearchCV"
   ]
  },
  {
   "cell_type": "code",
   "execution_count": 91,
   "id": "817c8447",
   "metadata": {},
   "outputs": [],
   "source": [
    "rf_random = RandomizedSearchCV(estimator = rf,param_distributions = random_grid,n_iter = 100, cv = 5, verbose=99, random_state=21, n_jobs = -1)"
   ]
  },
  {
   "cell_type": "code",
   "execution_count": 92,
   "id": "6fd3a8dd",
   "metadata": {},
   "outputs": [
    {
     "name": "stderr",
     "output_type": "stream",
     "text": [
      "C:\\ProgramData\\anaconda3\\Lib\\site-packages\\sklearn\\model_selection\\_search.py:305: UserWarning: The total space of parameters 36 is smaller than n_iter=100. Running 36 iterations. For exhaustive searches, use GridSearchCV.\n",
      "  warnings.warn(\n"
     ]
    },
    {
     "name": "stdout",
     "output_type": "stream",
     "text": [
      "Fitting 5 folds for each of 36 candidates, totalling 180 fits\n"
     ]
    },
    {
     "name": "stderr",
     "output_type": "stream",
     "text": [
      "C:\\ProgramData\\anaconda3\\Lib\\site-packages\\sklearn\\model_selection\\_search.py:909: DataConversionWarning: A column-vector y was passed when a 1d array was expected. Please change the shape of y to (n_samples,), for example using ravel().\n",
      "  self.best_estimator_.fit(X, y, **fit_params)\n"
     ]
    },
    {
     "data": {
      "text/html": [
       "<style>#sk-container-id-9 {color: black;background-color: white;}#sk-container-id-9 pre{padding: 0;}#sk-container-id-9 div.sk-toggleable {background-color: white;}#sk-container-id-9 label.sk-toggleable__label {cursor: pointer;display: block;width: 100%;margin-bottom: 0;padding: 0.3em;box-sizing: border-box;text-align: center;}#sk-container-id-9 label.sk-toggleable__label-arrow:before {content: \"▸\";float: left;margin-right: 0.25em;color: #696969;}#sk-container-id-9 label.sk-toggleable__label-arrow:hover:before {color: black;}#sk-container-id-9 div.sk-estimator:hover label.sk-toggleable__label-arrow:before {color: black;}#sk-container-id-9 div.sk-toggleable__content {max-height: 0;max-width: 0;overflow: hidden;text-align: left;background-color: #f0f8ff;}#sk-container-id-9 div.sk-toggleable__content pre {margin: 0.2em;color: black;border-radius: 0.25em;background-color: #f0f8ff;}#sk-container-id-9 input.sk-toggleable__control:checked~div.sk-toggleable__content {max-height: 200px;max-width: 100%;overflow: auto;}#sk-container-id-9 input.sk-toggleable__control:checked~label.sk-toggleable__label-arrow:before {content: \"▾\";}#sk-container-id-9 div.sk-estimator input.sk-toggleable__control:checked~label.sk-toggleable__label {background-color: #d4ebff;}#sk-container-id-9 div.sk-label input.sk-toggleable__control:checked~label.sk-toggleable__label {background-color: #d4ebff;}#sk-container-id-9 input.sk-hidden--visually {border: 0;clip: rect(1px 1px 1px 1px);clip: rect(1px, 1px, 1px, 1px);height: 1px;margin: -1px;overflow: hidden;padding: 0;position: absolute;width: 1px;}#sk-container-id-9 div.sk-estimator {font-family: monospace;background-color: #f0f8ff;border: 1px dotted black;border-radius: 0.25em;box-sizing: border-box;margin-bottom: 0.5em;}#sk-container-id-9 div.sk-estimator:hover {background-color: #d4ebff;}#sk-container-id-9 div.sk-parallel-item::after {content: \"\";width: 100%;border-bottom: 1px solid gray;flex-grow: 1;}#sk-container-id-9 div.sk-label:hover label.sk-toggleable__label {background-color: #d4ebff;}#sk-container-id-9 div.sk-serial::before {content: \"\";position: absolute;border-left: 1px solid gray;box-sizing: border-box;top: 0;bottom: 0;left: 50%;z-index: 0;}#sk-container-id-9 div.sk-serial {display: flex;flex-direction: column;align-items: center;background-color: white;padding-right: 0.2em;padding-left: 0.2em;position: relative;}#sk-container-id-9 div.sk-item {position: relative;z-index: 1;}#sk-container-id-9 div.sk-parallel {display: flex;align-items: stretch;justify-content: center;background-color: white;position: relative;}#sk-container-id-9 div.sk-item::before, #sk-container-id-9 div.sk-parallel-item::before {content: \"\";position: absolute;border-left: 1px solid gray;box-sizing: border-box;top: 0;bottom: 0;left: 50%;z-index: -1;}#sk-container-id-9 div.sk-parallel-item {display: flex;flex-direction: column;z-index: 1;position: relative;background-color: white;}#sk-container-id-9 div.sk-parallel-item:first-child::after {align-self: flex-end;width: 50%;}#sk-container-id-9 div.sk-parallel-item:last-child::after {align-self: flex-start;width: 50%;}#sk-container-id-9 div.sk-parallel-item:only-child::after {width: 0;}#sk-container-id-9 div.sk-dashed-wrapped {border: 1px dashed gray;margin: 0 0.4em 0.5em 0.4em;box-sizing: border-box;padding-bottom: 0.4em;background-color: white;}#sk-container-id-9 div.sk-label label {font-family: monospace;font-weight: bold;display: inline-block;line-height: 1.2em;}#sk-container-id-9 div.sk-label-container {text-align: center;}#sk-container-id-9 div.sk-container {/* jupyter's `normalize.less` sets `[hidden] { display: none; }` but bootstrap.min.css set `[hidden] { display: none !important; }` so we also need the `!important` here to be able to override the default hidden behavior on the sphinx rendered scikit-learn.org. See: https://github.com/scikit-learn/scikit-learn/issues/21755 */display: inline-block !important;position: relative;}#sk-container-id-9 div.sk-text-repr-fallback {display: none;}</style><div id=\"sk-container-id-9\" class=\"sk-top-container\"><div class=\"sk-text-repr-fallback\"><pre>RandomizedSearchCV(cv=5,\n",
       "                   estimator=RandomForestRegressor(max_depth=2, random_state=0),\n",
       "                   n_iter=100, n_jobs=-1,\n",
       "                   param_distributions={&#x27;max_depth&#x27;: [2, 5, 10, 20],\n",
       "                                        &#x27;max_features&#x27;: [&#x27;sqrt&#x27;],\n",
       "                                        &#x27;min_samples_split&#x27;: [2, 5, 10],\n",
       "                                        &#x27;n_estimators&#x27;: [300, 500, 700]},\n",
       "                   random_state=21, verbose=99)</pre><b>In a Jupyter environment, please rerun this cell to show the HTML representation or trust the notebook. <br />On GitHub, the HTML representation is unable to render, please try loading this page with nbviewer.org.</b></div><div class=\"sk-container\" hidden><div class=\"sk-item sk-dashed-wrapped\"><div class=\"sk-label-container\"><div class=\"sk-label sk-toggleable\"><input class=\"sk-toggleable__control sk-hidden--visually\" id=\"sk-estimator-id-13\" type=\"checkbox\" ><label for=\"sk-estimator-id-13\" class=\"sk-toggleable__label sk-toggleable__label-arrow\">RandomizedSearchCV</label><div class=\"sk-toggleable__content\"><pre>RandomizedSearchCV(cv=5,\n",
       "                   estimator=RandomForestRegressor(max_depth=2, random_state=0),\n",
       "                   n_iter=100, n_jobs=-1,\n",
       "                   param_distributions={&#x27;max_depth&#x27;: [2, 5, 10, 20],\n",
       "                                        &#x27;max_features&#x27;: [&#x27;sqrt&#x27;],\n",
       "                                        &#x27;min_samples_split&#x27;: [2, 5, 10],\n",
       "                                        &#x27;n_estimators&#x27;: [300, 500, 700]},\n",
       "                   random_state=21, verbose=99)</pre></div></div></div><div class=\"sk-parallel\"><div class=\"sk-parallel-item\"><div class=\"sk-item\"><div class=\"sk-label-container\"><div class=\"sk-label sk-toggleable\"><input class=\"sk-toggleable__control sk-hidden--visually\" id=\"sk-estimator-id-14\" type=\"checkbox\" ><label for=\"sk-estimator-id-14\" class=\"sk-toggleable__label sk-toggleable__label-arrow\">estimator: RandomForestRegressor</label><div class=\"sk-toggleable__content\"><pre>RandomForestRegressor(max_depth=2, random_state=0)</pre></div></div></div><div class=\"sk-serial\"><div class=\"sk-item\"><div class=\"sk-estimator sk-toggleable\"><input class=\"sk-toggleable__control sk-hidden--visually\" id=\"sk-estimator-id-15\" type=\"checkbox\" ><label for=\"sk-estimator-id-15\" class=\"sk-toggleable__label sk-toggleable__label-arrow\">RandomForestRegressor</label><div class=\"sk-toggleable__content\"><pre>RandomForestRegressor(max_depth=2, random_state=0)</pre></div></div></div></div></div></div></div></div></div></div>"
      ],
      "text/plain": [
       "RandomizedSearchCV(cv=5,\n",
       "                   estimator=RandomForestRegressor(max_depth=2, random_state=0),\n",
       "                   n_iter=100, n_jobs=-1,\n",
       "                   param_distributions={'max_depth': [2, 5, 10, 20],\n",
       "                                        'max_features': ['sqrt'],\n",
       "                                        'min_samples_split': [2, 5, 10],\n",
       "                                        'n_estimators': [300, 500, 700]},\n",
       "                   random_state=21, verbose=99)"
      ]
     },
     "execution_count": 92,
     "metadata": {},
     "output_type": "execute_result"
    }
   ],
   "source": [
    "rf_random.fit(X_train, y_train)"
   ]
  },
  {
   "cell_type": "code",
   "execution_count": 93,
   "id": "8bfb3b68",
   "metadata": {},
   "outputs": [
    {
     "data": {
      "text/plain": [
       "{'n_estimators': 300,\n",
       " 'min_samples_split': 2,\n",
       " 'max_features': 'sqrt',\n",
       " 'max_depth': 20}"
      ]
     },
     "execution_count": 93,
     "metadata": {},
     "output_type": "execute_result"
    }
   ],
   "source": [
    "rf_random.best_params_"
   ]
  },
  {
   "cell_type": "code",
   "execution_count": 94,
   "id": "5acf8723",
   "metadata": {},
   "outputs": [],
   "source": [
    "rf_opt = RandomForestRegressor(max_depth=20, max_features=\"sqrt\", min_samples_split = 5, n_estimators=300, random_state=0)"
   ]
  },
  {
   "cell_type": "code",
   "execution_count": 95,
   "id": "da5fb9f3",
   "metadata": {},
   "outputs": [
    {
     "name": "stderr",
     "output_type": "stream",
     "text": [
      "C:\\Users\\sergi\\AppData\\Local\\Temp\\ipykernel_22560\\2599501171.py:1: DataConversionWarning: A column-vector y was passed when a 1d array was expected. Please change the shape of y to (n_samples,), for example using ravel().\n",
      "  rf_opt.fit(X_train, y_train)\n"
     ]
    },
    {
     "data": {
      "text/html": [
       "<style>#sk-container-id-10 {color: black;background-color: white;}#sk-container-id-10 pre{padding: 0;}#sk-container-id-10 div.sk-toggleable {background-color: white;}#sk-container-id-10 label.sk-toggleable__label {cursor: pointer;display: block;width: 100%;margin-bottom: 0;padding: 0.3em;box-sizing: border-box;text-align: center;}#sk-container-id-10 label.sk-toggleable__label-arrow:before {content: \"▸\";float: left;margin-right: 0.25em;color: #696969;}#sk-container-id-10 label.sk-toggleable__label-arrow:hover:before {color: black;}#sk-container-id-10 div.sk-estimator:hover label.sk-toggleable__label-arrow:before {color: black;}#sk-container-id-10 div.sk-toggleable__content {max-height: 0;max-width: 0;overflow: hidden;text-align: left;background-color: #f0f8ff;}#sk-container-id-10 div.sk-toggleable__content pre {margin: 0.2em;color: black;border-radius: 0.25em;background-color: #f0f8ff;}#sk-container-id-10 input.sk-toggleable__control:checked~div.sk-toggleable__content {max-height: 200px;max-width: 100%;overflow: auto;}#sk-container-id-10 input.sk-toggleable__control:checked~label.sk-toggleable__label-arrow:before {content: \"▾\";}#sk-container-id-10 div.sk-estimator input.sk-toggleable__control:checked~label.sk-toggleable__label {background-color: #d4ebff;}#sk-container-id-10 div.sk-label input.sk-toggleable__control:checked~label.sk-toggleable__label {background-color: #d4ebff;}#sk-container-id-10 input.sk-hidden--visually {border: 0;clip: rect(1px 1px 1px 1px);clip: rect(1px, 1px, 1px, 1px);height: 1px;margin: -1px;overflow: hidden;padding: 0;position: absolute;width: 1px;}#sk-container-id-10 div.sk-estimator {font-family: monospace;background-color: #f0f8ff;border: 1px dotted black;border-radius: 0.25em;box-sizing: border-box;margin-bottom: 0.5em;}#sk-container-id-10 div.sk-estimator:hover {background-color: #d4ebff;}#sk-container-id-10 div.sk-parallel-item::after {content: \"\";width: 100%;border-bottom: 1px solid gray;flex-grow: 1;}#sk-container-id-10 div.sk-label:hover label.sk-toggleable__label {background-color: #d4ebff;}#sk-container-id-10 div.sk-serial::before {content: \"\";position: absolute;border-left: 1px solid gray;box-sizing: border-box;top: 0;bottom: 0;left: 50%;z-index: 0;}#sk-container-id-10 div.sk-serial {display: flex;flex-direction: column;align-items: center;background-color: white;padding-right: 0.2em;padding-left: 0.2em;position: relative;}#sk-container-id-10 div.sk-item {position: relative;z-index: 1;}#sk-container-id-10 div.sk-parallel {display: flex;align-items: stretch;justify-content: center;background-color: white;position: relative;}#sk-container-id-10 div.sk-item::before, #sk-container-id-10 div.sk-parallel-item::before {content: \"\";position: absolute;border-left: 1px solid gray;box-sizing: border-box;top: 0;bottom: 0;left: 50%;z-index: -1;}#sk-container-id-10 div.sk-parallel-item {display: flex;flex-direction: column;z-index: 1;position: relative;background-color: white;}#sk-container-id-10 div.sk-parallel-item:first-child::after {align-self: flex-end;width: 50%;}#sk-container-id-10 div.sk-parallel-item:last-child::after {align-self: flex-start;width: 50%;}#sk-container-id-10 div.sk-parallel-item:only-child::after {width: 0;}#sk-container-id-10 div.sk-dashed-wrapped {border: 1px dashed gray;margin: 0 0.4em 0.5em 0.4em;box-sizing: border-box;padding-bottom: 0.4em;background-color: white;}#sk-container-id-10 div.sk-label label {font-family: monospace;font-weight: bold;display: inline-block;line-height: 1.2em;}#sk-container-id-10 div.sk-label-container {text-align: center;}#sk-container-id-10 div.sk-container {/* jupyter's `normalize.less` sets `[hidden] { display: none; }` but bootstrap.min.css set `[hidden] { display: none !important; }` so we also need the `!important` here to be able to override the default hidden behavior on the sphinx rendered scikit-learn.org. See: https://github.com/scikit-learn/scikit-learn/issues/21755 */display: inline-block !important;position: relative;}#sk-container-id-10 div.sk-text-repr-fallback {display: none;}</style><div id=\"sk-container-id-10\" class=\"sk-top-container\"><div class=\"sk-text-repr-fallback\"><pre>RandomForestRegressor(max_depth=20, max_features=&#x27;sqrt&#x27;, min_samples_split=5,\n",
       "                      n_estimators=300, random_state=0)</pre><b>In a Jupyter environment, please rerun this cell to show the HTML representation or trust the notebook. <br />On GitHub, the HTML representation is unable to render, please try loading this page with nbviewer.org.</b></div><div class=\"sk-container\" hidden><div class=\"sk-item\"><div class=\"sk-estimator sk-toggleable\"><input class=\"sk-toggleable__control sk-hidden--visually\" id=\"sk-estimator-id-16\" type=\"checkbox\" checked><label for=\"sk-estimator-id-16\" class=\"sk-toggleable__label sk-toggleable__label-arrow\">RandomForestRegressor</label><div class=\"sk-toggleable__content\"><pre>RandomForestRegressor(max_depth=20, max_features=&#x27;sqrt&#x27;, min_samples_split=5,\n",
       "                      n_estimators=300, random_state=0)</pre></div></div></div></div></div>"
      ],
      "text/plain": [
       "RandomForestRegressor(max_depth=20, max_features='sqrt', min_samples_split=5,\n",
       "                      n_estimators=300, random_state=0)"
      ]
     },
     "execution_count": 95,
     "metadata": {},
     "output_type": "execute_result"
    }
   ],
   "source": [
    "rf_opt.fit(X_train, y_train)"
   ]
  },
  {
   "cell_type": "code",
   "execution_count": null,
   "id": "efa99d13",
   "metadata": {},
   "outputs": [],
   "source": []
  },
  {
   "cell_type": "code",
   "execution_count": 96,
   "id": "champion-electron",
   "metadata": {},
   "outputs": [],
   "source": [
    "y_pred = rf_opt.predict(X_test)"
   ]
  },
  {
   "cell_type": "code",
   "execution_count": null,
   "id": "f4943ab7",
   "metadata": {},
   "outputs": [],
   "source": []
  },
  {
   "cell_type": "code",
   "execution_count": 97,
   "id": "f486f6d8",
   "metadata": {},
   "outputs": [
    {
     "name": "stdout",
     "output_type": "stream",
     "text": [
      "mae:  1.167679480243448\n",
      "mse:  2.4243480085534572\n",
      "r2:  0.9115575998268135\n"
     ]
    }
   ],
   "source": [
    "evaluate(y_train, rf_opt.predict(X_train))"
   ]
  },
  {
   "cell_type": "code",
   "execution_count": 98,
   "id": "effective-dependence",
   "metadata": {},
   "outputs": [
    {
     "name": "stdout",
     "output_type": "stream",
     "text": [
      "mae:  2.7822538124573843\n",
      "mse:  14.24521672114662\n",
      "r2:  0.5672028555136337\n"
     ]
    }
   ],
   "source": [
    "evaluate(y_test, y_pred)"
   ]
  },
  {
   "cell_type": "code",
   "execution_count": 99,
   "id": "killing-discount",
   "metadata": {},
   "outputs": [
    {
     "name": "stdout",
     "output_type": "stream",
     "text": [
      "mae:  1.3433215195194004\n",
      "mse:  3.834957959761622\n",
      "r2:  0.777349995564672\n"
     ]
    }
   ],
   "source": [
    "X_22 = model_df[model_df.Season == 2022].drop([\"FPTS_TG\", \"Season\"], axis=1)\n",
    "mdd = df[df.Season == 2022][[\"FPTS_TG\", \"Player\"]].copy()\n",
    "mdd[\"comp\"] = rf_opt.predict((X_22))\n",
    "\n",
    "evaluate(mdd.FPTS_TG, mdd.comp)"
   ]
  },
  {
   "cell_type": "code",
   "execution_count": null,
   "id": "arabic-chick",
   "metadata": {},
   "outputs": [],
   "source": []
  },
  {
   "cell_type": "code",
   "execution_count": null,
   "id": "literary-viking",
   "metadata": {},
   "outputs": [],
   "source": []
  },
  {
   "cell_type": "code",
   "execution_count": null,
   "id": "a5cf284c",
   "metadata": {},
   "outputs": [],
   "source": []
  },
  {
   "cell_type": "code",
   "execution_count": null,
   "id": "16f9355a",
   "metadata": {},
   "outputs": [],
   "source": []
  },
  {
   "cell_type": "code",
   "execution_count": null,
   "id": "27a34b58",
   "metadata": {},
   "outputs": [],
   "source": []
  }
 ],
 "metadata": {
  "kernelspec": {
   "display_name": "Python 3 (ipykernel)",
   "language": "python",
   "name": "python3"
  },
  "language_info": {
   "codemirror_mode": {
    "name": "ipython",
    "version": 3
   },
   "file_extension": ".py",
   "mimetype": "text/x-python",
   "name": "python",
   "nbconvert_exporter": "python",
   "pygments_lexer": "ipython3",
   "version": "3.11.3"
  }
 },
 "nbformat": 4,
 "nbformat_minor": 5
}
