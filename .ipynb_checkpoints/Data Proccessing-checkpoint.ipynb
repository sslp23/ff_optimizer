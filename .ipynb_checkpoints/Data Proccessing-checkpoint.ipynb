{
 "cells": [
  {
   "cell_type": "code",
   "execution_count": 1,
   "id": "continued-potential",
   "metadata": {},
   "outputs": [],
   "source": [
    "import pandas as pd\n",
    "import numpy as np\n",
    "from tqdm import tqdm"
   ]
  },
  {
   "cell_type": "code",
   "execution_count": 2,
   "id": "virgin-seven",
   "metadata": {},
   "outputs": [],
   "source": [
    "#pos = \"rb\""
   ]
  },
  {
   "cell_type": "code",
   "execution_count": null,
   "id": "excessive-circumstances",
   "metadata": {},
   "outputs": [],
   "source": []
  },
  {
   "cell_type": "code",
   "execution_count": 3,
   "id": "offensive-supervisor",
   "metadata": {},
   "outputs": [],
   "source": [
    "def get_per_game(df):\n",
    "    cols = df.columns\n",
    "    \n",
    "    for c in cols:\n",
    "        if \"RUSHING\" in c or \"RECEIVING\" in c or \"FL\" in c or \"PASSING\" in c:\n",
    "            df[c+\"/G\"] = df[c]/df[\"G_MISC\"]\n",
    "            #new_names.append()\n",
    "    \n",
    "    return df"
   ]
  },
  {
   "cell_type": "code",
   "execution_count": 4,
   "id": "legal-liverpool",
   "metadata": {},
   "outputs": [],
   "source": [
    "def find_last_ewm(x):\n",
    "    #print(x.columns)\n",
    "    #print(x.name)\n",
    "    if x.dtype != \"O\" and x.name!=\"pid\":\n",
    "        return x.ewm(halflife=2).mean().values[-1]\n",
    "        \n",
    "            \n",
    "    #elif x.dtype == \"O\":\n",
    "     #   values.append(\" \")\n",
    "    #return values\n",
    "    #print(x.ewm(alpha=0.5))"
   ]
  },
  {
   "cell_type": "code",
   "execution_count": 5,
   "id": "5c04a6a9",
   "metadata": {},
   "outputs": [],
   "source": [
    "def find_pct_inc(x, z):\n",
    "    #print(x.shift(-1))\n",
    "    pct_inc = []\n",
    "    for c in x.columns:\n",
    "        \n",
    "        if c == \"Season\":\n",
    "            pct_inc.append(x[c].values[-1]+1)\n",
    "        elif x[c].dtype!=\"O\":\n",
    "            \n",
    "            pct_inc.append((x[c]/ x[c].shift(1)).values[-1])\n",
    "        else:\n",
    "            pct_inc.append(x[c].values[-1])\n",
    "    return pct_inc"
   ]
  },
  {
   "cell_type": "code",
   "execution_count": 6,
   "id": "d0b05ecc",
   "metadata": {},
   "outputs": [],
   "source": [
    "def find_comp_df(pos, season_int, how=\"past\"):\n",
    "    if how ==\"ns\":\n",
    "        past_data = pd.read_csv(f\"raw data/{pos}_raw.csv\")\n",
    "        ns_data = pd.read_csv(f\"ns data/{pos}_ns.csv\")\n",
    "        std_dev = ns_data[[\"Yahoo\", \"Sleeper\", \"RTSports\"]].std(axis=1)\n",
    "        \n",
    "        past_data = past_data[past_data.Season != past_data.Season.values[-1]]\n",
    "        ns_data = ns_data.rename({\"Rank\":\"Rank_y\"}, axis=1)\n",
    "        line = pd.concat([past_data, ns_data])#.append(ns_data)\n",
    "        line = line.drop(\"Player\", axis=1)\n",
    "        line = line.rename({\"Player Team (Bye)\": \"Player\"}, axis=1)\n",
    "        \n",
    "        \n",
    "    else:\n",
    "        line = pd.read_csv(f\"raw data/{pos}_raw.csv\")\n",
    "    #return line\n",
    "    if pos!= \"qb\":\n",
    "        base_line = [\"Player\", \"pid\", \"Season\", \"ATT_RUSHING\", \"YDS_RUSHING\", \"TD_RUSHING\", \"REC_RECEIVING\", \"TGT_RECEIVING\", \"YDS_RECEIVING\", \"TD_RECEIVING\", \"FL_MISC\", \"AVG\", \"G_MISC\", \"FPTS/G_MISC\", \"FPTS_MISC\"]\n",
    "    else:\n",
    "        base_line = [\"Player\", \"pid\", \"Season\", 'CMP_PASSING', 'ATT_PASSING', 'PCT_PASSING','YDS_PASSING', 'Y/A_PASSING', 'TD_PASSING', 'INT_PASSING','SACKS_PASSING', 'ATT_RUSHING', 'YDS_RUSHING', 'TD_RUSHING', \"FL_MISC\", \"AVG\", \"G_MISC\", \"FPTS/G_MISC\", \"FPTS_MISC\"]\n",
    "\n",
    "    gs = line[base_line]\n",
    "    #return gs\n",
    "    pg_df = get_per_game(gs.copy())\n",
    "    \n",
    "\n",
    "    if pos != \"qb\":\n",
    "        classes = [\"_RUSHING\", \"_RECEIVING\"]\n",
    "        for c in classes:\n",
    "\n",
    "            if c == \"_RUSHING\":\n",
    "                pg_df[\"YDS/ATT\"+c] =pg_df[\"YDS\"+c] /pg_df[\"ATT\"+c]\n",
    "                pg_df[\"TD/ATT\"+c] =pg_df[\"TD\"+c] /pg_df[\"ATT\"+c]\n",
    "            else:\n",
    "                pg_df[\"YDS/REC\"+c] =pg_df[\"YDS\"+c] /pg_df[\"REC\"+c]\n",
    "                pg_df[\"YDS/TGT\"+c] =pg_df[\"YDS\"+c] /pg_df[\"TGT\"+c]\n",
    "                pg_df[\"REC/TGT\"+c] =pg_df[\"REC\"+c] /pg_df[\"TGT\"+c]\n",
    "                pg_df[\"TD/TGT\"+c] =pg_df[\"TD\"+c] /pg_df[\"TGT\"+c]\n",
    "\n",
    "    agg_feats_base = pg_df.drop(\"AVG\", axis=1).columns[3:].values\n",
    "\n",
    "    agg_feats = []\n",
    "    for f in agg_feats_base:\n",
    "        if \"/\" in f:\n",
    "            agg_feats.append(f)\n",
    "    \n",
    "    #return agg_feats\n",
    "    adp = \"AVG\"\n",
    "    if how == \"ns\":\n",
    "        seasons = np.arange(2018, season_int+1)\n",
    "    else:\n",
    "        seasons = np.arange(2018, season_int)\n",
    "\n",
    "    full_bdf = pd.DataFrame()\n",
    "    full_bdfs = []\n",
    "    for s in tqdm(seasons):\n",
    "        bdf = pg_df[pg_df.Season == s][[\"pid\", \"Player\", \"Season\",\"AVG\", \"FPTS/G_MISC\"]]\n",
    "        bdf = bdf.rename({\"FPTS/G_MISC\": \"FPTS_TG\"}, axis=1)\n",
    "        #print(len(bdf))\n",
    "        bdf =  bdf.merge(pg_df[(pg_df.Season < s) & (pg_df.Season > s-4)].groupby(\"pid\")[agg_feats].mean().reset_index(), how=\"left\", on=\"pid\")\n",
    "\n",
    "        #return pg_df[(pg_df.Season < s) & (pg_df.Season > s-5)]\n",
    "        ewm_df = pg_df[(pg_df.Season < s) & (pg_df.Season > s-4)].reset_index(drop=True).groupby(\"pid\").agg(find_last_ewm)[agg_feats]\n",
    "\n",
    "        bdf =  bdf.merge(ewm_df.reset_index(), how=\"left\", on=\"pid\", suffixes=[\"_avg\", \"_ewm\"])\n",
    "\n",
    "        #ls = pg_df[(pg_df.Season == s-1)].groupby(\"pid\").mean()[agg_feats]\n",
    "        #ls_cols = [a+\"_ls\" for a in ls.columns]        #ls.columns = ls_cols\n",
    "\n",
    "        #bdf = bdf.merge(ls.reset_index(), how=\"left\", on=\"pid\")\n",
    "\n",
    "\n",
    "        #full_bdf = full_bdf.append(bdf)\n",
    "        full_bdfs.append(bdf)\n",
    "    \n",
    "    full_bdf = pd.concat(full_bdfs)\n",
    "    \n",
    "    drafted = full_bdf[~full_bdf.AVG.isna()]\n",
    "\n",
    "    is_rookie = []\n",
    "    career_years = []\n",
    "    \n",
    "    for i, s in zip(drafted.pid.values, drafted.Season.values):\n",
    "        last_apps = pg_df[(pg_df.Season < s) & (pg_df.pid == i)]\n",
    "        if len(last_apps) > 0:\n",
    "            is_rookie.append(0)\n",
    "        else:\n",
    "            is_rookie.append(1)\n",
    "\n",
    "\n",
    "        career_years.append(len(last_apps))\n",
    "    \n",
    "    drafted = drafted.copy()\n",
    "    drafted.loc[:, \"Rookie\"] = is_rookie\n",
    "    drafted.loc[:, \"Career_Years\"] = career_years\n",
    "    \n",
    "    if how == \"ns\":\n",
    "        drafted = drafted[drafted.Season == season_int]\n",
    "        std_dev = std_dev.fillna(std_dev.dropna().tail(5).mean())\n",
    "        drafted[\"STD\"] = std_dev\n",
    "    return drafted"
   ]
  },
  {
   "cell_type": "code",
   "execution_count": null,
   "id": "supreme-spanking",
   "metadata": {},
   "outputs": [],
   "source": []
  },
  {
   "cell_type": "code",
   "execution_count": null,
   "id": "708e136d",
   "metadata": {},
   "outputs": [],
   "source": []
  },
  {
   "cell_type": "code",
   "execution_count": null,
   "id": "6218de63",
   "metadata": {},
   "outputs": [],
   "source": []
  },
  {
   "cell_type": "code",
   "execution_count": null,
   "id": "252eea0d",
   "metadata": {},
   "outputs": [],
   "source": []
  },
  {
   "cell_type": "code",
   "execution_count": null,
   "id": "3878fc9d",
   "metadata": {},
   "outputs": [],
   "source": []
  },
  {
   "cell_type": "code",
   "execution_count": 8,
   "id": "partial-abortion",
   "metadata": {},
   "outputs": [
    {
     "name": "stderr",
     "output_type": "stream",
     "text": [
      "100%|████████████████████████████████████████████████████████████████████████████████████| 5/5 [00:07<00:00,  1.55s/it]\n"
     ]
    }
   ],
   "source": [
    "pos_data = find_comp_df('rb', 2023)"
   ]
  },
  {
   "cell_type": "code",
   "execution_count": 9,
   "id": "ee0d9dca",
   "metadata": {},
   "outputs": [],
   "source": [
    "pos_data.to_csv(f\"processed data/rb_proc_data.csv\", index=False)"
   ]
  },
  {
   "cell_type": "code",
   "execution_count": 10,
   "id": "030bbd3d",
   "metadata": {},
   "outputs": [
    {
     "name": "stderr",
     "output_type": "stream",
     "text": [
      "100%|████████████████████████████████████████████████████████████████████████████████████| 5/5 [00:11<00:00,  2.29s/it]\n"
     ]
    }
   ],
   "source": [
    "wr_data = find_comp_df('wr', 2023)"
   ]
  },
  {
   "cell_type": "code",
   "execution_count": 11,
   "id": "2c5da8f2",
   "metadata": {},
   "outputs": [],
   "source": [
    "wr_data.to_csv(f\"processed data/wr_proc_data.csv\", index=False)"
   ]
  },
  {
   "cell_type": "code",
   "execution_count": 12,
   "id": "ebd75575",
   "metadata": {},
   "outputs": [
    {
     "name": "stderr",
     "output_type": "stream",
     "text": [
      "100%|████████████████████████████████████████████████████████████████████████████████████| 5/5 [00:06<00:00,  1.40s/it]\n"
     ]
    }
   ],
   "source": [
    "te_data = find_comp_df('te', 2023)"
   ]
  },
  {
   "cell_type": "code",
   "execution_count": 13,
   "id": "d2769e47",
   "metadata": {},
   "outputs": [],
   "source": [
    "te_data.to_csv(f\"processed data/te_proc_data.csv\", index=False)"
   ]
  },
  {
   "cell_type": "code",
   "execution_count": null,
   "id": "85ce3a83",
   "metadata": {},
   "outputs": [],
   "source": []
  },
  {
   "cell_type": "code",
   "execution_count": null,
   "id": "marked-deployment",
   "metadata": {},
   "outputs": [],
   "source": []
  },
  {
   "cell_type": "code",
   "execution_count": 14,
   "id": "conceptual-manner",
   "metadata": {},
   "outputs": [
    {
     "name": "stderr",
     "output_type": "stream",
     "text": [
      "100%|████████████████████████████████████████████████████████████████████████████████████| 5/5 [00:03<00:00,  1.34it/s]\n"
     ]
    }
   ],
   "source": [
    "qb_data = find_comp_df(\"qb\", 2023)"
   ]
  },
  {
   "cell_type": "code",
   "execution_count": 15,
   "id": "respected-store",
   "metadata": {},
   "outputs": [],
   "source": [
    "qb_data.to_csv(f\"processed data/qb_proc_data.csv\", index=False)"
   ]
  },
  {
   "cell_type": "code",
   "execution_count": null,
   "id": "lasting-armstrong",
   "metadata": {},
   "outputs": [],
   "source": []
  },
  {
   "cell_type": "code",
   "execution_count": null,
   "id": "proof-scene",
   "metadata": {},
   "outputs": [],
   "source": []
  },
  {
   "cell_type": "code",
   "execution_count": 16,
   "id": "sudden-canal",
   "metadata": {},
   "outputs": [
    {
     "name": "stderr",
     "output_type": "stream",
     "text": [
      "100%|████████████████████████████████████████████████████████████████████████████████████| 6/6 [00:10<00:00,  1.70s/it]\n"
     ]
    }
   ],
   "source": [
    "ns_proc = find_comp_df('rb', 2023, how=\"ns\")"
   ]
  },
  {
   "cell_type": "code",
   "execution_count": 17,
   "id": "dental-struggle",
   "metadata": {},
   "outputs": [],
   "source": [
    "ns_proc.to_csv(\"processed data/rb_ns_proc.csv\", index=False)"
   ]
  },
  {
   "cell_type": "code",
   "execution_count": 18,
   "id": "amateur-independence",
   "metadata": {},
   "outputs": [
    {
     "name": "stderr",
     "output_type": "stream",
     "text": [
      "100%|████████████████████████████████████████████████████████████████████████████████████| 6/6 [00:15<00:00,  2.59s/it]\n"
     ]
    }
   ],
   "source": [
    "wr_proc = find_comp_df('wr', 2023, how=\"ns\")"
   ]
  },
  {
   "cell_type": "code",
   "execution_count": 19,
   "id": "under-month",
   "metadata": {},
   "outputs": [],
   "source": [
    "wr_proc.to_csv(\"processed data/wr_ns_proc.csv\", index=False)"
   ]
  },
  {
   "cell_type": "code",
   "execution_count": 20,
   "id": "partial-multiple",
   "metadata": {},
   "outputs": [
    {
     "name": "stderr",
     "output_type": "stream",
     "text": [
      "100%|████████████████████████████████████████████████████████████████████████████████████| 6/6 [00:08<00:00,  1.39s/it]\n"
     ]
    }
   ],
   "source": [
    "te_proc =  find_comp_df('te', 2023, how=\"ns\")"
   ]
  },
  {
   "cell_type": "code",
   "execution_count": 21,
   "id": "special-poland",
   "metadata": {},
   "outputs": [],
   "source": [
    "te_proc.to_csv(\"processed data/te_ns_proc.csv\", index=False)"
   ]
  },
  {
   "cell_type": "code",
   "execution_count": 22,
   "id": "reliable-tattoo",
   "metadata": {},
   "outputs": [
    {
     "name": "stderr",
     "output_type": "stream",
     "text": [
      "100%|████████████████████████████████████████████████████████████████████████████████████| 6/6 [00:04<00:00,  1.28it/s]\n"
     ]
    }
   ],
   "source": [
    "qb_proc =  find_comp_df('qb', 2023, how=\"ns\")"
   ]
  },
  {
   "cell_type": "code",
   "execution_count": 23,
   "id": "fewer-diversity",
   "metadata": {},
   "outputs": [],
   "source": [
    "qb_proc.to_csv(\"processed data/qb_ns_proc.csv\", index=False)"
   ]
  },
  {
   "cell_type": "code",
   "execution_count": 24,
   "id": "integral-sentence",
   "metadata": {},
   "outputs": [
    {
     "data": {
      "text/plain": [
       "Index(['pid', 'Player', 'Season', 'AVG', 'FPTS_TG', 'Y/A_PASSING_avg',\n",
       "       'FPTS/G_MISC_avg', 'CMP_PASSING/G_avg', 'ATT_PASSING/G_avg',\n",
       "       'PCT_PASSING/G_avg', 'YDS_PASSING/G_avg', 'Y/A_PASSING/G_avg',\n",
       "       'TD_PASSING/G_avg', 'INT_PASSING/G_avg', 'SACKS_PASSING/G_avg',\n",
       "       'ATT_RUSHING/G_avg', 'YDS_RUSHING/G_avg', 'TD_RUSHING/G_avg',\n",
       "       'FL_MISC/G_avg', 'Y/A_PASSING_ewm', 'FPTS/G_MISC_ewm',\n",
       "       'CMP_PASSING/G_ewm', 'ATT_PASSING/G_ewm', 'PCT_PASSING/G_ewm',\n",
       "       'YDS_PASSING/G_ewm', 'Y/A_PASSING/G_ewm', 'TD_PASSING/G_ewm',\n",
       "       'INT_PASSING/G_ewm', 'SACKS_PASSING/G_ewm', 'ATT_RUSHING/G_ewm',\n",
       "       'YDS_RUSHING/G_ewm', 'TD_RUSHING/G_ewm', 'FL_MISC/G_ewm', 'Rookie',\n",
       "       'Career_Years'],\n",
       "      dtype='object')"
      ]
     },
     "execution_count": 24,
     "metadata": {},
     "output_type": "execute_result"
    }
   ],
   "source": [
    "qb_data.columns"
   ]
  },
  {
   "cell_type": "code",
   "execution_count": null,
   "id": "f119f8e1",
   "metadata": {},
   "outputs": [],
   "source": []
  },
  {
   "cell_type": "code",
   "execution_count": null,
   "id": "a86a0f00",
   "metadata": {},
   "outputs": [],
   "source": []
  },
  {
   "cell_type": "code",
   "execution_count": null,
   "id": "ebcccaba",
   "metadata": {},
   "outputs": [],
   "source": []
  }
 ],
 "metadata": {
  "kernelspec": {
   "display_name": "Python 3 (ipykernel)",
   "language": "python",
   "name": "python3"
  },
  "language_info": {
   "codemirror_mode": {
    "name": "ipython",
    "version": 3
   },
   "file_extension": ".py",
   "mimetype": "text/x-python",
   "name": "python",
   "nbconvert_exporter": "python",
   "pygments_lexer": "ipython3",
   "version": "3.11.3"
  }
 },
 "nbformat": 4,
 "nbformat_minor": 5
}
